{
 "cells": [
  {
   "cell_type": "markdown",
   "id": "2cc38281-4bc1-4684-a72c-f7fd19d7da0b",
   "metadata": {},
   "source": [
    "## <u>**LeakyReLU activation function Training**<u>\n",
    "\n"
   ]
  },
  {
   "cell_type": "markdown",
   "id": "7a274861",
   "metadata": {},
   "source": [
    "### Simple CNN Model 1\n",
    "MODEL: Simple CNN\n",
    "ACTIVATION FUNCTION: Leaky ReLU\n",
    "OPTIMIZER: SGD\n",
    "\n",
    "### Simple CNN Model 2\n",
    "MODEL: Simple CNN\n",
    "ACTIVATION FUNCTION: Leaky ReLU\n",
    "OPTIMIZER: Adam"
   ]
  },
  {
   "cell_type": "code",
   "execution_count": 19,
   "id": "a5f96f09",
   "metadata": {},
   "outputs": [],
   "source": [
    "import os\n",
    "import torch\n",
    "import torchvision\n",
    "import torchvision.transforms as transforms\n",
    "if torch.cuda.is_available():\n",
    "    device = torch.device(\"cuda\")\n",
    "else:\n",
    "    device = torch.device(\"cpu\")"
   ]
  },
  {
   "cell_type": "code",
   "execution_count": 20,
   "id": "4dbb337a",
   "metadata": {},
   "outputs": [],
   "source": [
    "transform = transforms.Compose([\n",
    "    transforms.RandomHorizontalFlip(),\n",
    "    transforms.RandomCrop(32, padding=4),\n",
    "    transforms.ToTensor(),\n",
    "    transforms.Normalize((0.5, 0.5, 0.5), (0.5, 0.5, 0.5)),\n",
    "])"
   ]
  },
  {
   "cell_type": "code",
   "execution_count": 21,
   "id": "ccab2afd",
   "metadata": {},
   "outputs": [],
   "source": [
    "# Preparing and downloading the CIFAR-10 dataset\n",
    "data_path = './data'\n",
    "\n",
    "if not os.path.exists(data_path):\n",
    "    trainSet = torchvision.datasets.CIFAR10(root=data_path, train=True,\n",
    "                                            download=True, transform=transform)\n",
    "    testSet = torchvision.datasets.CIFAR10(root=data_path, train=False,\n",
    "                                           download=True, transform=transform)\n",
    "else:\n",
    "    trainSet = torchvision.datasets.CIFAR10(root=data_path, train=True,\n",
    "                                            download=False, transform=transform)\n",
    "    testSet = torchvision.datasets.CIFAR10(root=data_path, train=False,\n",
    "                                           download=False, transform=transform)"
   ]
  },
  {
   "cell_type": "code",
   "execution_count": 22,
   "id": "51f6a45f",
   "metadata": {},
   "outputs": [
    {
     "name": "stdout",
     "output_type": "stream",
     "text": [
      "Files already downloaded and verified\n",
      "Files already downloaded and verified\n"
     ]
    }
   ],
   "source": [
    "\n",
    "trainSet = torchvision.datasets.CIFAR10(root='./data', train=True, download=True, transform=transform)\n",
    "testSet = torchvision.datasets.CIFAR10(root='./data', train=False, download=True, transform=transform)\n",
    "\n",
    "trainLoader = torch.utils.data.DataLoader(trainSet, batch_size=64, shuffle=True, num_workers=2)\n",
    "testLoader = torch.utils.data.DataLoader(testSet, batch_size=64, shuffle=False, num_workers=2)"
   ]
  },
  {
   "cell_type": "code",
   "execution_count": 23,
   "id": "518c82c7",
   "metadata": {},
   "outputs": [],
   "source": [
    "#Classes for Image classification\n",
    "classes = ('plane', 'car', 'bird', 'cat', 'deer', 'dog', 'frog', 'horse', 'ship', 'truck')"
   ]
  },
  {
   "cell_type": "code",
   "execution_count": 24,
   "id": "d27f7194-f718-4870-8759-c6bdb73c60fe",
   "metadata": {},
   "outputs": [],
   "source": [
    "from torch.utils.tensorboard import SummaryWriter\n",
    "import torch.nn as nn\n",
    "import torch.nn.functional as F\n",
    "import torch.optim as optim\n",
    "from tqdm import tqdm"
   ]
  },
  {
   "cell_type": "code",
   "execution_count": 25,
   "id": "0b5eee8c-624b-46d8-99ad-2ce3049080a2",
   "metadata": {},
   "outputs": [],
   "source": [
    "# ACTIVATION FUNCTION: Leaky ReLU\n",
    "\n",
    "class SimpleCNN(nn.Module):\n",
    "    def __init__(self):\n",
    "        super(SimpleCNN, self).__init__()\n",
    "        self.conv1 = nn.Conv2d(3, 32, 3, padding=1)\n",
    "        self.leaky_relu = nn.LeakyReLU()\n",
    "        self.pool = nn.MaxPool2d(2, 2)\n",
    "        self.conv2 = nn.Conv2d(32, 64, 3, padding=1)\n",
    "        self.fc1 = nn.Linear(64 * 8 * 8, 128)\n",
    "        self.fc2 = nn.Linear(128, 10)\n",
    "\n",
    "    def forward(self, x):\n",
    "        x = self.pool(self.leaky_relu(self.conv1(x)))\n",
    "        x = self.pool(self.leaky_relu(self.conv2(x)))\n",
    "        x = x.view(-1, 64 * 8 * 8)\n",
    "        x = self.leaky_relu(self.fc1(x))\n",
    "        x = self.fc2(x)\n",
    "        return x\n",
    "\n",
    "net = SimpleCNN()\n",
    "\n",
    "# Create two instances of the model\n",
    "net_sgd = SimpleCNN().to(device)\n",
    "net_adam = SimpleCNN().to(device)"
   ]
  },
  {
   "cell_type": "code",
   "execution_count": 26,
   "id": "2bfe611e",
   "metadata": {},
   "outputs": [],
   "source": [
    "# Define loss function\n",
    "criterion = nn.CrossEntropyLoss()\n",
    "\n",
    "# Define both optimizers\n",
    "SGDoptimizer = optim.SGD(net_sgd.parameters(), lr=0.0001)\n",
    "Adamoptimizer = optim.Adam(net_adam.parameters(), lr=0.001)"
   ]
  },
  {
   "cell_type": "code",
   "execution_count": 27,
   "id": "e1edf6e4",
   "metadata": {},
   "outputs": [],
   "source": [
    "# Initialize TensorBoard writers for visualization\n",
    "writer_sgd = SummaryWriter('runs/SGD_run')\n",
    "writer_adam = SummaryWriter('runs/Adam_run')"
   ]
  },
  {
   "cell_type": "code",
   "execution_count": 28,
   "id": "54264d31",
   "metadata": {},
   "outputs": [],
   "source": [
    "# Training function\n",
    "def train_model(net, optimizer, writer, tag, epochs=10):\n",
    "    net.train()\n",
    "    for epoch in range(epochs):\n",
    "        running_loss = 0.0\n",
    "        progress_bar = tqdm(enumerate(trainLoader, 0),\n",
    "                            total=len(trainLoader),\n",
    "                            desc=f'{tag} Epoch {epoch + 1}/{epochs}',\n",
    "                            leave=True,\n",
    "                            ncols=100)\n",
    "\n",
    "        for i, data in progress_bar:\n",
    "            inputs, labels = data\n",
    "            inputs, labels = inputs.to(device), labels.to(device)\n",
    "\n",
    "            optimizer.zero_grad()\n",
    "            outputs = net(inputs)\n",
    "            loss = criterion(outputs, labels)\n",
    "            loss.backward()\n",
    "            optimizer.step()\n",
    "\n",
    "            running_loss += loss.item()\n",
    "\n",
    "            if i % 2000 == 1999:\n",
    "                avg_loss = running_loss / 2000\n",
    "                writer.add_scalar(f'Loss/{tag}', avg_loss, epoch * len(trainLoader) + i)\n",
    "                running_loss = 0.0\n",
    "\n",
    "            progress_bar.set_postfix(loss=loss.item())\n",
    "    print(f'Finished Training with {tag}')\n",
    "\n",
    "    \n",
    "#Evaluation function\n",
    "\n",
    "def evaluate_model(net, testloader, writer, tag):\n",
    "    net.eval()\n",
    "    correct = 0\n",
    "    total = 0\n",
    "    progress_bar = tqdm(testloader, desc=f'Evaluating {tag}', leave=True, ncols=100)\n",
    "\n",
    "    with torch.no_grad():\n",
    "        for data in progress_bar:\n",
    "            images, labels = data\n",
    "            images, labels = images.to(device), labels.to(device)\n",
    "\n",
    "            outputs = net(images)\n",
    "            _, predicted = torch.max(outputs.data, 1)\n",
    "            total += labels.size(0)\n",
    "            correct += (predicted == labels).sum().item()\n",
    "\n",
    "            acc = 100 * correct / total\n",
    "            progress_bar.set_postfix(acc=f'{acc:.2f}%')\n",
    "\n",
    "    final_acc = 100 * correct / total\n",
    "    print(f'Final Accuracy with {tag} on 10000 test images: {final_acc:.2f}%')\n",
    "    writer.add_scalar(f'Accuracy/{tag}', final_acc)"
   ]
  },
  {
   "cell_type": "code",
   "execution_count": 29,
   "id": "76623ad6-498a-457c-a3c2-b1d2c4a51b26",
   "metadata": {},
   "outputs": [
    {
     "name": "stderr",
     "output_type": "stream",
     "text": [
      "SGD Epoch 1/10: 100%|██████████████████████████████████| 782/782 [00:07<00:00, 100.50it/s, loss=2.3]\n",
      "SGD Epoch 2/10: 100%|█████████████████████████████████| 782/782 [00:07<00:00, 101.61it/s, loss=2.27]\n",
      "SGD Epoch 3/10: 100%|█████████████████████████████████| 782/782 [00:07<00:00, 103.69it/s, loss=2.29]\n",
      "SGD Epoch 4/10: 100%|██████████████████████████████████| 782/782 [00:07<00:00, 103.06it/s, loss=2.3]\n",
      "SGD Epoch 5/10: 100%|██████████████████████████████████| 782/782 [00:07<00:00, 102.11it/s, loss=2.3]\n",
      "SGD Epoch 6/10: 100%|█████████████████████████████████| 782/782 [00:07<00:00, 100.18it/s, loss=2.29]\n",
      "SGD Epoch 7/10: 100%|██████████████████████████████████| 782/782 [00:07<00:00, 100.49it/s, loss=2.3]\n",
      "SGD Epoch 8/10: 100%|██████████████████████████████████| 782/782 [00:07<00:00, 97.93it/s, loss=2.29]\n",
      "SGD Epoch 9/10: 100%|██████████████████████████████████| 782/782 [00:07<00:00, 99.74it/s, loss=2.29]\n",
      "SGD Epoch 10/10: 100%|████████████████████████████████| 782/782 [00:07<00:00, 101.41it/s, loss=2.29]\n"
     ]
    },
    {
     "name": "stdout",
     "output_type": "stream",
     "text": [
      "Finished Training with SGD\n"
     ]
    },
    {
     "name": "stderr",
     "output_type": "stream",
     "text": [
      "Adam Epoch 1/10: 100%|████████████████████████████████| 782/782 [00:07<00:00, 103.96it/s, loss=1.15]\n",
      "Adam Epoch 2/10: 100%|████████████████████████████████| 782/782 [00:07<00:00, 103.67it/s, loss=1.61]\n",
      "Adam Epoch 3/10: 100%|███████████████████████████████| 782/782 [00:07<00:00, 102.03it/s, loss=0.874]\n",
      "Adam Epoch 4/10: 100%|████████████████████████████████| 782/782 [00:08<00:00, 87.25it/s, loss=0.801]\n",
      "Adam Epoch 5/10: 100%|█████████████████████████████████| 782/782 [00:07<00:00, 104.97it/s, loss=1.3]\n",
      "Adam Epoch 6/10: 100%|████████████████████████████████| 782/782 [00:07<00:00, 99.39it/s, loss=0.969]\n",
      "Adam Epoch 7/10: 100%|████████████████████████████████| 782/782 [00:07<00:00, 101.44it/s, loss=1.41]\n",
      "Adam Epoch 8/10: 100%|███████████████████████████████| 782/782 [00:07<00:00, 103.02it/s, loss=0.759]\n",
      "Adam Epoch 9/10: 100%|████████████████████████████████| 782/782 [00:09<00:00, 85.93it/s, loss=0.436]\n",
      "Adam Epoch 10/10: 100%|███████████████████████████████| 782/782 [00:08<00:00, 97.05it/s, loss=0.952]"
     ]
    },
    {
     "name": "stdout",
     "output_type": "stream",
     "text": [
      "Finished Training with Adam\n"
     ]
    },
    {
     "name": "stderr",
     "output_type": "stream",
     "text": [
      "\n"
     ]
    }
   ],
   "source": [
    "# Train both models\n",
    "train_model(net_sgd, SGDoptimizer, writer_sgd, 'SGD')\n",
    "train_model(net_adam, Adamoptimizer, writer_adam, 'Adam')"
   ]
  },
  {
   "cell_type": "code",
   "execution_count": 30,
   "id": "fa8f4fc0",
   "metadata": {},
   "outputs": [
    {
     "name": "stderr",
     "output_type": "stream",
     "text": [
      "Evaluating SGD: 100%|█████████████████████████████████| 157/157 [00:09<00:00, 16.96it/s, acc=18.05%]\n"
     ]
    },
    {
     "name": "stdout",
     "output_type": "stream",
     "text": [
      "Final Accuracy with SGD on 10000 test images: 18.05%\n"
     ]
    },
    {
     "name": "stderr",
     "output_type": "stream",
     "text": [
      "Evaluating Adam: 100%|████████████████████████████████| 157/157 [00:09<00:00, 16.98it/s, acc=72.27%]"
     ]
    },
    {
     "name": "stdout",
     "output_type": "stream",
     "text": [
      "Final Accuracy with Adam on 10000 test images: 72.27%\n"
     ]
    },
    {
     "name": "stderr",
     "output_type": "stream",
     "text": [
      "\n"
     ]
    }
   ],
   "source": [
    "# Evaluate both models\n",
    "evaluate_model(net_sgd, testLoader, writer_sgd, 'SGD')\n",
    "evaluate_model(net_adam, testLoader, writer_adam, 'Adam')"
   ]
  },
  {
   "cell_type": "code",
   "execution_count": 31,
   "id": "8005ad5f-da8a-475e-b646-7adb6e95f241",
   "metadata": {},
   "outputs": [],
   "source": [
    "# Close writers\n",
    "writer_sgd.close()\n",
    "writer_adam.close()"
   ]
  },
  {
   "cell_type": "markdown",
   "id": "16afa5f6",
   "metadata": {},
   "source": [
    "Visit http://localhost:6006/ while the cell below is running"
   ]
  },
  {
   "cell_type": "code",
   "execution_count": 37,
   "id": "72bb2ddf",
   "metadata": {
    "vscode": {
     "languageId": "powershell"
    }
   },
   "outputs": [
    {
     "name": "stdout",
     "output_type": "stream",
     "text": [
      "^C\n"
     ]
    }
   ],
   "source": [
    "# Visualize tensorBoard\n",
    "!tensorboard --logdir=./runs\n"
   ]
  },
  {
   "cell_type": "code",
   "execution_count": 41,
   "id": "23216130",
   "metadata": {},
   "outputs": [
    {
     "data": {
      "image/png": "[encoded data removed]",
      "text/plain": [
       "<Figure size 640x480 with 1 Axes>"
      ]
     },
     "metadata": {},
     "output_type": "display_data"
    }
   ],
   "source": [
    "from PIL import Image\n",
    "import matplotlib.pyplot as plt\n",
    "\n",
    "# Relative path to the image\n",
    "image_path = os.path.join('LTU', 'Advance-deep-learning-assignments','Practical-0', 'images', 'Task0.1_LeakyReLU_TensorBoard.png')\n",
    "\n",
    "# Open and display the image\n",
    "image = Image.open(image_path)\n",
    "plt.imshow(image)\n",
    "plt.axis('off') \n",
    "plt.show()"
   ]
  },
  {
   "cell_type": "markdown",
   "id": "78b44def",
   "metadata": {},
   "source": [
    "The SGD is not trained well as the learning rate of 0.0001 is too low for SGD optimizer."
   ]
  }
 ],
 "metadata": {
  "kernelspec": {
   "display_name": "Python 3 (ipykernel)",
   "language": "python",
   "name": "python3"
  },
  "language_info": {
   "codemirror_mode": {
    "name": "ipython",
    "version": 3
   },
   "file_extension": ".py",
   "mimetype": "text/x-python",
   "name": "python",
   "nbconvert_exporter": "python",
   "pygments_lexer": "ipython3",
   "version": "3.10.14"
  }
 },
 "nbformat": 4,
 "nbformat_minor": 5
}
