{
  "nbformat": 4,
  "nbformat_minor": 0,
  "metadata": {
    "colab": {
      "provenance": [],
      "gpuType": "T4"
    },
    "kernelspec": {
      "name": "python3",
      "display_name": "Python 3"
    },
    "language_info": {
      "name": "python"
    },
    "accelerator": "GPU"
  },
  "cells": [
    {
      "cell_type": "markdown",
      "source": [
        "Task 1.1\n",
        "\n",
        "Create a simple model that analyzes text using an artificial neural network (ANN).\n",
        "\n",
        "A small dataset of product reviews that have been labelled as negative (0) or positive (1) is provided in the Files - Exercises - Lab 1 folder, along with some code needed to extract information.\n",
        "\n",
        "A suggested approach is first to try to train a network on the given data.\n",
        "When that task has been concluded, improve the model performance by training with more data, using a dataset with a broader range of labels, using word embeddings to create unique sentence embeddings.\n"
      ],
      "metadata": {
        "id": "xNqWai7fPEcO"
      }
    },
    {
      "cell_type": "code",
      "source": [
        "!pip install --upgrade numpy gensim --quiet"
      ],
      "metadata": {
        "colab": {
          "base_uri": "https://localhost:8080/"
        },
        "id": "8LpPHED6_tCb",
        "outputId": "d4b4c597-8d92-49ae-9ac4-a99adf406ed8"
      },
      "execution_count": null,
      "outputs": [
        {
          "output_type": "stream",
          "name": "stdout",
          "text": [
            "\u001b[33mWARNING: Ignoring invalid distribution ~cipy (/usr/local/lib/python3.11/dist-packages)\u001b[0m\u001b[33m\n",
            "\u001b[0m\u001b[33mWARNING: Ignoring invalid distribution ~cipy (/usr/local/lib/python3.11/dist-packages)\u001b[0m\u001b[33m\n",
            "\u001b[0m\u001b[33mWARNING: Ignoring invalid distribution ~cipy (/usr/local/lib/python3.11/dist-packages)\u001b[0m\u001b[33m\n",
            "\u001b[0m\u001b[33mWARNING: Ignoring invalid distribution ~cipy (/usr/local/lib/python3.11/dist-packages)\u001b[0m\u001b[33m\n",
            "\u001b[0m\u001b[33mWARNING: Ignoring invalid distribution ~cipy (/usr/local/lib/python3.11/dist-packages)\u001b[0m\u001b[33m\n",
            "\u001b[0m\u001b[31mERROR: pip's dependency resolver does not currently take into account all the packages that are installed. This behaviour is the source of the following dependency conflicts.\n",
            "thinc 8.3.6 requires numpy<3.0.0,>=2.0.0, but you have numpy 1.26.4 which is incompatible.\u001b[0m\u001b[31m\n",
            "\u001b[0m"
          ]
        }
      ]
    },
    {
      "cell_type": "code",
      "execution_count": null,
      "metadata": {
        "colab": {
          "base_uri": "https://localhost:8080/"
        },
        "id": "uRH0MdLUObf0",
        "outputId": "ff43c8a6-261c-4355-e8d5-3461c02a47e9"
      },
      "outputs": [
        {
          "output_type": "stream",
          "name": "stderr",
          "text": [
            "[nltk_data] Downloading package punkt_tab to /root/nltk_data...\n",
            "[nltk_data]   Package punkt_tab is already up-to-date!\n",
            "[nltk_data] Downloading package stopwords to /root/nltk_data...\n",
            "[nltk_data]   Package stopwords is already up-to-date!\n"
          ]
        },
        {
          "output_type": "execute_result",
          "data": {
            "text/plain": [
              "True"
            ]
          },
          "metadata": {},
          "execution_count": 4
        }
      ],
      "source": [
        "import gensim\n",
        "import torch\n",
        "import torch.nn as nn\n",
        "import torch.optim as optim\n",
        "import torch.nn.functional as F\n",
        "from torch.utils.data import TensorDataset, DataLoader\n",
        "import numpy as np\n",
        "from matplotlib import pyplot\n",
        "import pandas as pd\n",
        "from sklearn.model_selection import train_test_split\n",
        "from sklearn.feature_extraction.text import TfidfVectorizer\n",
        "from nltk.corpus import stopwords\n",
        "from nltk import word_tokenize\n",
        "from sklearn.metrics import accuracy_score, confusion_matrix, precision_score, recall_score, classification_report\n",
        "import nltk\n",
        "nltk.download('punkt_tab')\n",
        "nltk.download('stopwords')"
      ]
    },
    {
      "cell_type": "code",
      "source": [
        "from google.colab import files\n",
        "uploaded = files.upload()"
      ],
      "metadata": {
        "colab": {
          "base_uri": "https://localhost:8080/",
          "height": 73
        },
        "id": "G9utKguO_I99",
        "outputId": "dd8cecc2-0edd-4dfb-ed35-7a0e2ef65f26"
      },
      "execution_count": null,
      "outputs": [
        {
          "output_type": "display_data",
          "data": {
            "text/plain": [
              "<IPython.core.display.HTML object>"
            ],
            "text/html": [
              "\n",
              "     <input type=\"file\" id=\"files-92629fcd-eb9b-4ade-b5af-fc39986dba84\" name=\"files[]\" multiple disabled\n",
              "        style=\"border:none\" />\n",
              "     <output id=\"result-92629fcd-eb9b-4ade-b5af-fc39986dba84\">\n",
              "      Upload widget is only available when the cell has been executed in the\n",
              "      current browser session. Please rerun this cell to enable.\n",
              "      </output>\n",
              "      <script>// Copyright 2017 Google LLC\n",
              "//\n",
              "// Licensed under the Apache License, Version 2.0 (the \"License\");\n",
              "// you may not use this file except in compliance with the License.\n",
              "// You may obtain a copy of the License at\n",
              "//\n",
              "//      http://www.apache.org/licenses/LICENSE-2.0\n",
              "//\n",
              "// Unless required by applicable law or agreed to in writing, software\n",
              "// distributed under the License is distributed on an \"AS IS\" BASIS,\n",
              "// WITHOUT WARRANTIES OR CONDITIONS OF ANY KIND, either express or implied.\n",
              "// See the License for the specific language governing permissions and\n",
              "// limitations under the License.\n",
              "\n",
              "/**\n",
              " * @fileoverview Helpers for google.colab Python module.\n",
              " */\n",
              "(function(scope) {\n",
              "function span(text, styleAttributes = {}) {\n",
              "  const element = document.createElement('span');\n",
              "  element.textContent = text;\n",
              "  for (const key of Object.keys(styleAttributes)) {\n",
              "    element.style[key] = styleAttributes[key];\n",
              "  }\n",
              "  return element;\n",
              "}\n",
              "\n",
              "// Max number of bytes which will be uploaded at a time.\n",
              "const MAX_PAYLOAD_SIZE = 100 * 1024;\n",
              "\n",
              "function _uploadFiles(inputId, outputId) {\n",
              "  const steps = uploadFilesStep(inputId, outputId);\n",
              "  const outputElement = document.getElementById(outputId);\n",
              "  // Cache steps on the outputElement to make it available for the next call\n",
              "  // to uploadFilesContinue from Python.\n",
              "  outputElement.steps = steps;\n",
              "\n",
              "  return _uploadFilesContinue(outputId);\n",
              "}\n",
              "\n",
              "// This is roughly an async generator (not supported in the browser yet),\n",
              "// where there are multiple asynchronous steps and the Python side is going\n",
              "// to poll for completion of each step.\n",
              "// This uses a Promise to block the python side on completion of each step,\n",
              "// then passes the result of the previous step as the input to the next step.\n",
              "function _uploadFilesContinue(outputId) {\n",
              "  const outputElement = document.getElementById(outputId);\n",
              "  const steps = outputElement.steps;\n",
              "\n",
              "  const next = steps.next(outputElement.lastPromiseValue);\n",
              "  return Promise.resolve(next.value.promise).then((value) => {\n",
              "    // Cache the last promise value to make it available to the next\n",
              "    // step of the generator.\n",
              "    outputElement.lastPromiseValue = value;\n",
              "    return next.value.response;\n",
              "  });\n",
              "}\n",
              "\n",
              "/**\n",
              " * Generator function which is called between each async step of the upload\n",
              " * process.\n",
              " * @param {string} inputId Element ID of the input file picker element.\n",
              " * @param {string} outputId Element ID of the output display.\n",
              " * @return {!Iterable<!Object>} Iterable of next steps.\n",
              " */\n",
              "function* uploadFilesStep(inputId, outputId) {\n",
              "  const inputElement = document.getElementById(inputId);\n",
              "  inputElement.disabled = false;\n",
              "\n",
              "  const outputElement = document.getElementById(outputId);\n",
              "  outputElement.innerHTML = '';\n",
              "\n",
              "  const pickedPromise = new Promise((resolve) => {\n",
              "    inputElement.addEventListener('change', (e) => {\n",
              "      resolve(e.target.files);\n",
              "    });\n",
              "  });\n",
              "\n",
              "  const cancel = document.createElement('button');\n",
              "  inputElement.parentElement.appendChild(cancel);\n",
              "  cancel.textContent = 'Cancel upload';\n",
              "  const cancelPromise = new Promise((resolve) => {\n",
              "    cancel.onclick = () => {\n",
              "      resolve(null);\n",
              "    };\n",
              "  });\n",
              "\n",
              "  // Wait for the user to pick the files.\n",
              "  const files = yield {\n",
              "    promise: Promise.race([pickedPromise, cancelPromise]),\n",
              "    response: {\n",
              "      action: 'starting',\n",
              "    }\n",
              "  };\n",
              "\n",
              "  cancel.remove();\n",
              "\n",
              "  // Disable the input element since further picks are not allowed.\n",
              "  inputElement.disabled = true;\n",
              "\n",
              "  if (!files) {\n",
              "    return {\n",
              "      response: {\n",
              "        action: 'complete',\n",
              "      }\n",
              "    };\n",
              "  }\n",
              "\n",
              "  for (const file of files) {\n",
              "    const li = document.createElement('li');\n",
              "    li.append(span(file.name, {fontWeight: 'bold'}));\n",
              "    li.append(span(\n",
              "        `(${file.type || 'n/a'}) - ${file.size} bytes, ` +\n",
              "        `last modified: ${\n",
              "            file.lastModifiedDate ? file.lastModifiedDate.toLocaleDateString() :\n",
              "                                    'n/a'} - `));\n",
              "    const percent = span('0% done');\n",
              "    li.appendChild(percent);\n",
              "\n",
              "    outputElement.appendChild(li);\n",
              "\n",
              "    const fileDataPromise = new Promise((resolve) => {\n",
              "      const reader = new FileReader();\n",
              "      reader.onload = (e) => {\n",
              "        resolve(e.target.result);\n",
              "      };\n",
              "      reader.readAsArrayBuffer(file);\n",
              "    });\n",
              "    // Wait for the data to be ready.\n",
              "    let fileData = yield {\n",
              "      promise: fileDataPromise,\n",
              "      response: {\n",
              "        action: 'continue',\n",
              "      }\n",
              "    };\n",
              "\n",
              "    // Use a chunked sending to avoid message size limits. See b/62115660.\n",
              "    let position = 0;\n",
              "    do {\n",
              "      const length = Math.min(fileData.byteLength - position, MAX_PAYLOAD_SIZE);\n",
              "      const chunk = new Uint8Array(fileData, position, length);\n",
              "      position += length;\n",
              "\n",
              "      const base64 = btoa(String.fromCharCode.apply(null, chunk));\n",
              "      yield {\n",
              "        response: {\n",
              "          action: 'append',\n",
              "          file: file.name,\n",
              "          data: base64,\n",
              "        },\n",
              "      };\n",
              "\n",
              "      let percentDone = fileData.byteLength === 0 ?\n",
              "          100 :\n",
              "          Math.round((position / fileData.byteLength) * 100);\n",
              "      percent.textContent = `${percentDone}% done`;\n",
              "\n",
              "    } while (position < fileData.byteLength);\n",
              "  }\n",
              "\n",
              "  // All done.\n",
              "  yield {\n",
              "    response: {\n",
              "      action: 'complete',\n",
              "    }\n",
              "  };\n",
              "}\n",
              "\n",
              "scope.google = scope.google || {};\n",
              "scope.google.colab = scope.google.colab || {};\n",
              "scope.google.colab._files = {\n",
              "  _uploadFiles,\n",
              "  _uploadFilesContinue,\n",
              "};\n",
              "})(self);\n",
              "</script> "
            ]
          },
          "metadata": {}
        },
        {
          "output_type": "stream",
          "name": "stdout",
          "text": [
            "Saving amazon_cells_labelled.txt to amazon_cells_labelled (2).txt\n"
          ]
        }
      ]
    },
    {
      "cell_type": "code",
      "source": [
        "def preprocess_pandas(data, columns):\n",
        "    df_ = pd.DataFrame(columns=columns)\n",
        "    data['Sentence'] = data['Sentence'].str.lower()\n",
        "    data['Sentence'] = data['Sentence'].replace('[a-zA-Z0-9-_.]+@[a-zA-Z0-9-_.]+', '', regex=True)                      # remove emails\n",
        "    data['Sentence'] = data['Sentence'].replace('((25[0-5]|2[0-4][0-9]|[01]?[0-9][0-9]?)(\\.|$)){4}', '', regex=True)    # remove IP address\n",
        "    data['Sentence'] = data['Sentence'].str.replace('[^\\w\\s]','')                                                       # remove special characters\n",
        "    data['Sentence'] = data['Sentence'].replace('\\d', '', regex=True)                                                   # remove numbers\n",
        "    for index, row in data.iterrows():\n",
        "        word_tokens = word_tokenize(row['Sentence'])\n",
        "        filtered_sent = [w for w in word_tokens if not w in stopwords.words('english')]\n",
        "        df_.loc[len(df_)] = {\n",
        "            \"index\": row['index'],\n",
        "            \"Class\": row['Class'],\n",
        "            \"Sentence\": \" \".join(filtered_sent)\n",
        "        }\n",
        "    return data\n",
        "\n",
        "# if this is the primary file that is executed (ie not an import of another file)\n",
        "if __name__ == \"__main__\":\n",
        "    # get data, pre-process and split\n",
        "    data = pd.read_csv(\"amazon_cells_labelled.txt\", delimiter='\\t', header=None)\n",
        "    data.columns = ['Sentence', 'Class']\n",
        "    data['index'] = data.index                                          # add new column index\n",
        "    columns = ['index', 'Class', 'Sentence']\n",
        "    data = preprocess_pandas(data, columns)                             # pre-process\n",
        "    training_data, validation_data, training_labels, validation_labels = train_test_split( # split the data into training, validation, and test splits\n",
        "        data['Sentence'].values.astype('U'),\n",
        "        data['Class'].values.astype('int32'),\n",
        "        test_size=0.10,\n",
        "        random_state=0,\n",
        "        shuffle=True\n",
        "    )\n",
        "\n",
        "    # vectorize data using TFIDF and transform for PyTorch for scalability\n",
        "    word_vectorizer = TfidfVectorizer(analyzer='word', ngram_range=(1,2), max_features=50000, max_df=0.5, use_idf=True, norm='l2')\n",
        "    training_data = word_vectorizer.fit_transform(training_data)        # transform texts to sparse matrix\n",
        "    training_data = training_data.todense()                             # convert to dense matrix for Pytorch\n",
        "    vocab_size = len(word_vectorizer.vocabulary_)\n",
        "    validation_data = word_vectorizer.transform(validation_data)\n",
        "    validation_data = validation_data.todense()\n",
        "    train_x_tensor = torch.from_numpy(np.array(training_data)).type(torch.FloatTensor)\n",
        "    train_y_tensor = torch.from_numpy(np.array(training_labels)).long()\n",
        "    validation_x_tensor = torch.from_numpy(np.array(validation_data)).type(torch.FloatTensor)\n",
        "    validation_y_tensor = torch.from_numpy(np.array(validation_labels)).long()"
      ],
      "metadata": {
        "id": "Ug8dBofr9Z3h"
      },
      "execution_count": null,
      "outputs": []
    },
    {
      "cell_type": "code",
      "source": [
        "train_loader = DataLoader(TensorDataset(train_x_tensor, train_y_tensor), batch_size=128, shuffle=True)\n",
        "val_loader = DataLoader(TensorDataset(validation_x_tensor, validation_y_tensor), batch_size=128, shuffle=False) # no shuffle for validation, to ensure consistency of the validation"
      ],
      "metadata": {
        "id": "zWtG7wfUd_ga"
      },
      "execution_count": null,
      "outputs": []
    },
    {
      "cell_type": "code",
      "source": [
        "import copy\n",
        "import matplotlib.pyplot as plt\n",
        "\n",
        "# define the model\n",
        "network = nn.Sequential(\n",
        "    nn.Linear(vocab_size, 128),\n",
        "    nn.ReLU(),\n",
        "    nn.Linear(128, 2)\n",
        ")\n",
        "\n",
        "optimizer = optim.Adam(network.parameters(), lr=0.001)\n",
        "loss_function = nn.CrossEntropyLoss()\n",
        "\n",
        "epochs = 10\n",
        "best_val_loss = float('inf')\n",
        "best_model = None\n",
        "\n",
        "train_losses = []\n",
        "val_losses = []\n",
        "train_accuracies = []\n",
        "val_accuracies = []\n",
        "\n",
        "# training loop with accuracy\n",
        "for epoch in range(epochs):\n",
        "    network.train()\n",
        "    running_train_loss = 0.0\n",
        "    correct_train = 0\n",
        "    total_train = 0\n",
        "\n",
        "    for batch_x, batch_y in train_loader:\n",
        "        prediction = network(batch_x)\n",
        "        loss = loss_function(prediction, batch_y)\n",
        "        loss.backward()\n",
        "        optimizer.step()\n",
        "        optimizer.zero_grad()\n",
        "\n",
        "        running_train_loss += loss.item()\n",
        "\n",
        "        # accuracy\n",
        "        _, predicted = torch.max(prediction, 1)\n",
        "        correct_train += (predicted == batch_y).sum().item()\n",
        "        total_train += batch_y.size(0)\n",
        "\n",
        "    avg_train_loss = running_train_loss / len(train_loader)\n",
        "    train_accuracy = correct_train / total_train\n",
        "    train_losses.append(avg_train_loss)\n",
        "    train_accuracies.append(train_accuracy)\n",
        "\n",
        "    # validation\n",
        "    network.eval()\n",
        "    running_val_loss = 0.0\n",
        "    correct_val = 0\n",
        "    total_val = 0\n",
        "\n",
        "    with torch.no_grad():\n",
        "        for batch_x, batch_y in val_loader:\n",
        "            prediction = network(batch_x)\n",
        "            loss = loss_function(prediction, batch_y)\n",
        "            running_val_loss += loss.item()\n",
        "\n",
        "            _, predicted = torch.max(prediction, 1)\n",
        "            correct_val += (predicted == batch_y).sum().item()\n",
        "            total_val += batch_y.size(0)\n",
        "\n",
        "    avg_val_loss = running_val_loss / len(val_loader)\n",
        "    val_accuracy = correct_val / total_val\n",
        "    val_losses.append(avg_val_loss)\n",
        "    val_accuracies.append(val_accuracy)\n",
        "\n",
        "    # save best model\n",
        "    if avg_val_loss < best_val_loss:\n",
        "        best_val_loss = avg_val_loss\n",
        "        best_model = copy.deepcopy(network)\n",
        "\n",
        "    print(f\"Epoch {epoch+1}/{epochs} - \"\n",
        "          f\"Train Loss: {avg_train_loss:.4f}, Train Acc: {train_accuracy:.4f} - \"\n",
        "          f\"Val Loss: {avg_val_loss:.4f}, Val Acc: {val_accuracy:.4f}\")\n"
      ],
      "metadata": {
        "colab": {
          "base_uri": "https://localhost:8080/"
        },
        "id": "dC5wz3cm_yDr",
        "outputId": "2d27e730-2b4a-405c-da92-1e75f2d3e223"
      },
      "execution_count": null,
      "outputs": [
        {
          "output_type": "stream",
          "name": "stdout",
          "text": [
            "Epoch 1/10 - Train Loss: 0.6915, Train Acc: 0.5833 - Val Loss: 0.6842, Val Acc: 0.8300\n",
            "Epoch 2/10 - Train Loss: 0.6671, Train Acc: 0.9922 - Val Loss: 0.6679, Val Acc: 0.8700\n",
            "Epoch 3/10 - Train Loss: 0.6295, Train Acc: 0.9978 - Val Loss: 0.6428, Val Acc: 0.8400\n",
            "Epoch 4/10 - Train Loss: 0.5710, Train Acc: 0.9978 - Val Loss: 0.6110, Val Acc: 0.8500\n",
            "Epoch 5/10 - Train Loss: 0.5046, Train Acc: 1.0000 - Val Loss: 0.5737, Val Acc: 0.8500\n",
            "Epoch 6/10 - Train Loss: 0.4223, Train Acc: 1.0000 - Val Loss: 0.5337, Val Acc: 0.8400\n",
            "Epoch 7/10 - Train Loss: 0.3302, Train Acc: 1.0000 - Val Loss: 0.4948, Val Acc: 0.8400\n",
            "Epoch 8/10 - Train Loss: 0.2578, Train Acc: 1.0000 - Val Loss: 0.4601, Val Acc: 0.8300\n",
            "Epoch 9/10 - Train Loss: 0.1879, Train Acc: 1.0000 - Val Loss: 0.4352, Val Acc: 0.8300\n",
            "Epoch 10/10 - Train Loss: 0.1393, Train Acc: 1.0000 - Val Loss: 0.4142, Val Acc: 0.8400\n"
          ]
        }
      ]
    },
    {
      "cell_type": "markdown",
      "source": [
        "Alright, we can see that the model is learning, but what can we do to improve the model?\n"
      ],
      "metadata": {
        "id": "0ucnrPiwjfqU"
      }
    },
    {
      "cell_type": "markdown",
      "source": [
        "We will retrain the network using the larger dataset of 25k items, as well as use word embeddings using the pre-trained vectors from Word2Vec.\n",
        "\n",
        "Initially, we attempted to train our own vectors using Word2Vec, but we obtained similar validation loss/accuracy when compared to the previous model, so we opted to use pre-trained vectors instead."
      ],
      "metadata": {
        "id": "MwjHiKzY1hZA"
      }
    },
    {
      "cell_type": "code",
      "source": [
        "from google.colab import files\n",
        "uploaded = files.upload()"
      ],
      "metadata": {
        "colab": {
          "base_uri": "https://localhost:8080/",
          "height": 73
        },
        "id": "81t8BtDP1fuq",
        "outputId": "f47b0f45-d790-4f2b-8f43-d26014963c31"
      },
      "execution_count": null,
      "outputs": [
        {
          "output_type": "display_data",
          "data": {
            "text/plain": [
              "<IPython.core.display.HTML object>"
            ],
            "text/html": [
              "\n",
              "     <input type=\"file\" id=\"files-380185e2-f89e-4728-a8e9-dac0b0a2f95c\" name=\"files[]\" multiple disabled\n",
              "        style=\"border:none\" />\n",
              "     <output id=\"result-380185e2-f89e-4728-a8e9-dac0b0a2f95c\">\n",
              "      Upload widget is only available when the cell has been executed in the\n",
              "      current browser session. Please rerun this cell to enable.\n",
              "      </output>\n",
              "      <script>// Copyright 2017 Google LLC\n",
              "//\n",
              "// Licensed under the Apache License, Version 2.0 (the \"License\");\n",
              "// you may not use this file except in compliance with the License.\n",
              "// You may obtain a copy of the License at\n",
              "//\n",
              "//      http://www.apache.org/licenses/LICENSE-2.0\n",
              "//\n",
              "// Unless required by applicable law or agreed to in writing, software\n",
              "// distributed under the License is distributed on an \"AS IS\" BASIS,\n",
              "// WITHOUT WARRANTIES OR CONDITIONS OF ANY KIND, either express or implied.\n",
              "// See the License for the specific language governing permissions and\n",
              "// limitations under the License.\n",
              "\n",
              "/**\n",
              " * @fileoverview Helpers for google.colab Python module.\n",
              " */\n",
              "(function(scope) {\n",
              "function span(text, styleAttributes = {}) {\n",
              "  const element = document.createElement('span');\n",
              "  element.textContent = text;\n",
              "  for (const key of Object.keys(styleAttributes)) {\n",
              "    element.style[key] = styleAttributes[key];\n",
              "  }\n",
              "  return element;\n",
              "}\n",
              "\n",
              "// Max number of bytes which will be uploaded at a time.\n",
              "const MAX_PAYLOAD_SIZE = 100 * 1024;\n",
              "\n",
              "function _uploadFiles(inputId, outputId) {\n",
              "  const steps = uploadFilesStep(inputId, outputId);\n",
              "  const outputElement = document.getElementById(outputId);\n",
              "  // Cache steps on the outputElement to make it available for the next call\n",
              "  // to uploadFilesContinue from Python.\n",
              "  outputElement.steps = steps;\n",
              "\n",
              "  return _uploadFilesContinue(outputId);\n",
              "}\n",
              "\n",
              "// This is roughly an async generator (not supported in the browser yet),\n",
              "// where there are multiple asynchronous steps and the Python side is going\n",
              "// to poll for completion of each step.\n",
              "// This uses a Promise to block the python side on completion of each step,\n",
              "// then passes the result of the previous step as the input to the next step.\n",
              "function _uploadFilesContinue(outputId) {\n",
              "  const outputElement = document.getElementById(outputId);\n",
              "  const steps = outputElement.steps;\n",
              "\n",
              "  const next = steps.next(outputElement.lastPromiseValue);\n",
              "  return Promise.resolve(next.value.promise).then((value) => {\n",
              "    // Cache the last promise value to make it available to the next\n",
              "    // step of the generator.\n",
              "    outputElement.lastPromiseValue = value;\n",
              "    return next.value.response;\n",
              "  });\n",
              "}\n",
              "\n",
              "/**\n",
              " * Generator function which is called between each async step of the upload\n",
              " * process.\n",
              " * @param {string} inputId Element ID of the input file picker element.\n",
              " * @param {string} outputId Element ID of the output display.\n",
              " * @return {!Iterable<!Object>} Iterable of next steps.\n",
              " */\n",
              "function* uploadFilesStep(inputId, outputId) {\n",
              "  const inputElement = document.getElementById(inputId);\n",
              "  inputElement.disabled = false;\n",
              "\n",
              "  const outputElement = document.getElementById(outputId);\n",
              "  outputElement.innerHTML = '';\n",
              "\n",
              "  const pickedPromise = new Promise((resolve) => {\n",
              "    inputElement.addEventListener('change', (e) => {\n",
              "      resolve(e.target.files);\n",
              "    });\n",
              "  });\n",
              "\n",
              "  const cancel = document.createElement('button');\n",
              "  inputElement.parentElement.appendChild(cancel);\n",
              "  cancel.textContent = 'Cancel upload';\n",
              "  const cancelPromise = new Promise((resolve) => {\n",
              "    cancel.onclick = () => {\n",
              "      resolve(null);\n",
              "    };\n",
              "  });\n",
              "\n",
              "  // Wait for the user to pick the files.\n",
              "  const files = yield {\n",
              "    promise: Promise.race([pickedPromise, cancelPromise]),\n",
              "    response: {\n",
              "      action: 'starting',\n",
              "    }\n",
              "  };\n",
              "\n",
              "  cancel.remove();\n",
              "\n",
              "  // Disable the input element since further picks are not allowed.\n",
              "  inputElement.disabled = true;\n",
              "\n",
              "  if (!files) {\n",
              "    return {\n",
              "      response: {\n",
              "        action: 'complete',\n",
              "      }\n",
              "    };\n",
              "  }\n",
              "\n",
              "  for (const file of files) {\n",
              "    const li = document.createElement('li');\n",
              "    li.append(span(file.name, {fontWeight: 'bold'}));\n",
              "    li.append(span(\n",
              "        `(${file.type || 'n/a'}) - ${file.size} bytes, ` +\n",
              "        `last modified: ${\n",
              "            file.lastModifiedDate ? file.lastModifiedDate.toLocaleDateString() :\n",
              "                                    'n/a'} - `));\n",
              "    const percent = span('0% done');\n",
              "    li.appendChild(percent);\n",
              "\n",
              "    outputElement.appendChild(li);\n",
              "\n",
              "    const fileDataPromise = new Promise((resolve) => {\n",
              "      const reader = new FileReader();\n",
              "      reader.onload = (e) => {\n",
              "        resolve(e.target.result);\n",
              "      };\n",
              "      reader.readAsArrayBuffer(file);\n",
              "    });\n",
              "    // Wait for the data to be ready.\n",
              "    let fileData = yield {\n",
              "      promise: fileDataPromise,\n",
              "      response: {\n",
              "        action: 'continue',\n",
              "      }\n",
              "    };\n",
              "\n",
              "    // Use a chunked sending to avoid message size limits. See b/62115660.\n",
              "    let position = 0;\n",
              "    do {\n",
              "      const length = Math.min(fileData.byteLength - position, MAX_PAYLOAD_SIZE);\n",
              "      const chunk = new Uint8Array(fileData, position, length);\n",
              "      position += length;\n",
              "\n",
              "      const base64 = btoa(String.fromCharCode.apply(null, chunk));\n",
              "      yield {\n",
              "        response: {\n",
              "          action: 'append',\n",
              "          file: file.name,\n",
              "          data: base64,\n",
              "        },\n",
              "      };\n",
              "\n",
              "      let percentDone = fileData.byteLength === 0 ?\n",
              "          100 :\n",
              "          Math.round((position / fileData.byteLength) * 100);\n",
              "      percent.textContent = `${percentDone}% done`;\n",
              "\n",
              "    } while (position < fileData.byteLength);\n",
              "  }\n",
              "\n",
              "  // All done.\n",
              "  yield {\n",
              "    response: {\n",
              "      action: 'complete',\n",
              "    }\n",
              "  };\n",
              "}\n",
              "\n",
              "scope.google = scope.google || {};\n",
              "scope.google.colab = scope.google.colab || {};\n",
              "scope.google.colab._files = {\n",
              "  _uploadFiles,\n",
              "  _uploadFilesContinue,\n",
              "};\n",
              "})(self);\n",
              "</script> "
            ]
          },
          "metadata": {}
        },
        {
          "output_type": "stream",
          "name": "stdout",
          "text": [
            "Saving amazon_cells_labelled_LARGE_25K.txt to amazon_cells_labelled_LARGE_25K (2).txt\n"
          ]
        }
      ]
    },
    {
      "cell_type": "code",
      "source": [
        "# if this is the primary file that is executed (ie not an import of another file)\n",
        "if __name__ == \"__main__\":\n",
        "    # get data, pre-process and split\n",
        "    data = pd.read_csv(\"amazon_cells_labelled_LARGE_25K.txt\", delimiter='\\t', header=None)\n",
        "    data.columns = ['Sentence', 'Class']\n",
        "    data['index'] = data.index                                          # add new column index\n",
        "    columns = ['index', 'Class', 'Sentence']\n",
        "    data = preprocess_pandas(data, columns)                             # pre-process\n",
        "    training_data, validation_data, training_labels, validation_labels = train_test_split( # split the data into training, validation, and test splits\n",
        "        data['Sentence'].values.astype('U'),\n",
        "        data['Class'].values.astype('int32'),\n",
        "        test_size=0.10,\n",
        "        random_state=0,\n",
        "        shuffle=True\n",
        "    )\n"
      ],
      "metadata": {
        "id": "pfWqnHbK1nYx"
      },
      "execution_count": null,
      "outputs": []
    },
    {
      "cell_type": "code",
      "source": [
        "from gensim.models import Word2Vec\n",
        "from nltk.tokenize import word_tokenize\n",
        "import gensim.downloader as api\n",
        "\n",
        "# train on 2 billion tweets. Much more expressive for emotion-related content.\n",
        "w2v_model = api.load(\"glove-twitter-200\")\n"
      ],
      "metadata": {
        "id": "hP8V3paB_lMT",
        "colab": {
          "base_uri": "https://localhost:8080/"
        },
        "outputId": "b4d6045e-980c-4540-aae1-afb1475e628d"
      },
      "execution_count": null,
      "outputs": [
        {
          "output_type": "stream",
          "name": "stdout",
          "text": [
            "[==================================================] 100.0% 758.5/758.5MB downloaded\n"
          ]
        }
      ]
    },
    {
      "cell_type": "code",
      "source": [
        "def sentence_to_vec(sentence, model, dim=200):\n",
        "    tokens = word_tokenize(sentence.lower())  #tokenize the sentence, turn 'i like cats' to ['i', 'like', 'cats']\n",
        "    vecs = [model[word] for word in tokens if word in model]  #loop through the tokenized sentence, and add the vector corresponding to the word stored in the pretrained model to\n",
        "                                                              #vecs if the word is in our pretrained model, e.g. 'i'=[0.2....0.3,0.54], its a vector of size 200\n",
        "    if not vecs:\n",
        "        return np.zeros(dim)\n",
        "    return np.mean(vecs, axis=0)  #return the average of each word vector in the sentence as an np array\n",
        "\n",
        "X = np.array([sentence_to_vec(s, w2v_model) for s in data['Sentence']])  #np array of size [200,number of sentences]\n",
        "y = data['Class'].values"
      ],
      "metadata": {
        "id": "5sxZd2u_9gQ7"
      },
      "execution_count": null,
      "outputs": []
    },
    {
      "cell_type": "code",
      "source": [
        "X_train, X_val, y_train, y_val = train_test_split(X, y, test_size=0.1, random_state=42)\n",
        "train_ds = TensorDataset(torch.tensor(X_train).float(), torch.tensor(y_train).long())\n",
        "val_ds = TensorDataset(torch.tensor(X_val).float(), torch.tensor(y_val).long())\n",
        "\n",
        "train_loader = DataLoader(train_ds, batch_size=128, shuffle=True)\n",
        "val_loader = DataLoader(val_ds, batch_size=128, shuffle=False)"
      ],
      "metadata": {
        "id": "KlegRCTiBQRl"
      },
      "execution_count": null,
      "outputs": []
    },
    {
      "cell_type": "code",
      "source": [
        "import copy\n",
        "import matplotlib.pyplot as plt\n",
        "\n",
        "# define your network\n",
        "network = nn.Sequential(\n",
        "    nn.Linear(200, 128),\n",
        "    nn.ReLU(),\n",
        "    nn.Linear(128, 2)\n",
        ")\n",
        "\n",
        "optimizer = optim.Adam(network.parameters(), lr=0.001)\n",
        "loss_function = nn.CrossEntropyLoss()\n",
        "\n",
        "epochs = 10\n",
        "best_val_loss = float('inf')\n",
        "best_model = None\n",
        "\n",
        "train_losses = []\n",
        "val_losses = []\n",
        "train_accuracies = []\n",
        "val_accuracies = []\n",
        "\n",
        "for epoch in range(epochs):\n",
        "    network.train()\n",
        "    running_train_loss = 0.0\n",
        "    correct_train = 0\n",
        "    total_train = 0\n",
        "\n",
        "    for batch_x, batch_y in train_loader:\n",
        "        prediction = network(batch_x)\n",
        "        loss = loss_function(prediction, batch_y)\n",
        "        loss.backward()\n",
        "        optimizer.step()\n",
        "        optimizer.zero_grad()\n",
        "\n",
        "        running_train_loss += loss.item()\n",
        "\n",
        "        _, predicted = torch.max(prediction, 1)\n",
        "        correct_train += (predicted == batch_y).sum().item()\n",
        "        total_train += batch_y.size(0)\n",
        "\n",
        "    avg_train_loss = running_train_loss / len(train_loader)\n",
        "    train_accuracy = correct_train / total_train\n",
        "    train_losses.append(avg_train_loss)\n",
        "    train_accuracies.append(train_accuracy)\n",
        "\n",
        "    # validation\n",
        "    network.eval()\n",
        "    running_val_loss = 0.0\n",
        "    correct_val = 0\n",
        "    total_val = 0\n",
        "\n",
        "    with torch.no_grad():\n",
        "        for batch_x, batch_y in val_loader:\n",
        "            prediction = network(batch_x)\n",
        "            loss = loss_function(prediction, batch_y)\n",
        "            running_val_loss += loss.item()\n",
        "\n",
        "            _, predicted = torch.max(prediction, 1)\n",
        "            correct_val += (predicted == batch_y).sum().item()\n",
        "            total_val += batch_y.size(0)\n",
        "\n",
        "    avg_val_loss = running_val_loss / len(val_loader)\n",
        "    val_accuracy = correct_val / total_val\n",
        "    val_losses.append(avg_val_loss)\n",
        "    val_accuracies.append(val_accuracy)\n",
        "\n",
        "    # save best model\n",
        "    if avg_val_loss < best_val_loss:\n",
        "        best_val_loss = avg_val_loss\n",
        "        best_model = copy.deepcopy(network)\n",
        "\n",
        "    print(f\"Epoch {epoch+1}/{epochs} - \"\n",
        "          f\"Train Loss: {avg_train_loss:.4f}, Train Acc: {train_accuracy:.4f} - \"\n",
        "          f\"Val Loss: {avg_val_loss:.4f}, Val Acc: {val_accuracy:.4f}\")\n"
      ],
      "metadata": {
        "id": "c6uOlJ-f3sJr",
        "colab": {
          "base_uri": "https://localhost:8080/"
        },
        "outputId": "0a217a18-e43f-460a-ca26-2f382ba21ff0"
      },
      "execution_count": null,
      "outputs": [
        {
          "output_type": "stream",
          "name": "stdout",
          "text": [
            "Epoch 1/10 - Train Loss: 0.4950, Train Acc: 0.7544 - Val Loss: 0.3899, Val Acc: 0.8136\n",
            "Epoch 2/10 - Train Loss: 0.3870, Train Acc: 0.8263 - Val Loss: 0.3721, Val Acc: 0.8280\n",
            "Epoch 3/10 - Train Loss: 0.3736, Train Acc: 0.8341 - Val Loss: 0.3656, Val Acc: 0.8308\n",
            "Epoch 4/10 - Train Loss: 0.3648, Train Acc: 0.8384 - Val Loss: 0.3608, Val Acc: 0.8296\n",
            "Epoch 5/10 - Train Loss: 0.3602, Train Acc: 0.8418 - Val Loss: 0.3562, Val Acc: 0.8384\n",
            "Epoch 6/10 - Train Loss: 0.3537, Train Acc: 0.8448 - Val Loss: 0.3536, Val Acc: 0.8364\n",
            "Epoch 7/10 - Train Loss: 0.3489, Train Acc: 0.8469 - Val Loss: 0.3509, Val Acc: 0.8428\n",
            "Epoch 8/10 - Train Loss: 0.3434, Train Acc: 0.8500 - Val Loss: 0.3498, Val Acc: 0.8408\n",
            "Epoch 9/10 - Train Loss: 0.3372, Train Acc: 0.8530 - Val Loss: 0.3447, Val Acc: 0.8436\n",
            "Epoch 10/10 - Train Loss: 0.3322, Train Acc: 0.8549 - Val Loss: 0.3405, Val Acc: 0.8480\n"
          ]
        }
      ]
    },
    {
      "cell_type": "markdown",
      "source": [
        "Task 1.2\n",
        "\n",
        "For this task, you will implement your transformer in PyTorch. You are instructed to follow this link: https://pytorch.org/hub/huggingface_pytorch-transformers/\n",
        "\n",
        "## Task 1.2: Sentiment classification using transformer (BERT)"
      ],
      "metadata": {
        "id": "3J4oxzRePQ4e"
      }
    },
    {
      "cell_type": "code",
      "source": [
        "!pip install --no-deps --upgrade --no-cache-dir transformers torch tqdm\n",
        "!pip install tqdm"
      ],
      "metadata": {
        "id": "K3Zwf3J1PajA",
        "colab": {
          "base_uri": "https://localhost:8080/"
        },
        "outputId": "902bcaa7-a710-4b7e-bfe5-d68d74e4cdca"
      },
      "execution_count": null,
      "outputs": [
        {
          "output_type": "stream",
          "name": "stdout",
          "text": [
            "Requirement already satisfied: transformers in /usr/local/lib/python3.11/dist-packages (4.51.2)\n",
            "Requirement already satisfied: torch in /usr/local/lib/python3.11/dist-packages (2.6.0+cu124)\n",
            "Requirement already satisfied: tqdm in /usr/local/lib/python3.11/dist-packages (4.67.1)\n",
            "Requirement already satisfied: tqdm in /usr/local/lib/python3.11/dist-packages (4.67.1)\n"
          ]
        }
      ]
    },
    {
      "cell_type": "code",
      "source": [
        "import torch\n",
        "import torch.nn as nn\n",
        "import torch.optim as optim\n",
        "import torch.nn.functional as F\n",
        "from torch.utils.data import TensorDataset, DataLoader\n",
        "import numpy as np\n",
        "from matplotlib import pyplot\n",
        "import pandas as pd\n",
        "from sklearn.model_selection import train_test_split\n",
        "from sklearn.feature_extraction.text import TfidfVectorizer\n",
        "from nltk.corpus import stopwords\n",
        "from nltk import word_tokenize\n",
        "from sklearn.metrics import accuracy_score, confusion_matrix, precision_score, recall_score, classification_report\n",
        "import nltk\n",
        "nltk.download('punkt_tab')\n",
        "nltk.download('stopwords')"
      ],
      "metadata": {
        "colab": {
          "base_uri": "https://localhost:8080/"
        },
        "id": "PSo8pm3t1179",
        "outputId": "e8f8fa55-fca2-42fc-ae0b-3f34f6a38eb9"
      },
      "execution_count": null,
      "outputs": [
        {
          "output_type": "stream",
          "name": "stderr",
          "text": [
            "[nltk_data] Downloading package punkt_tab to /root/nltk_data...\n",
            "[nltk_data]   Package punkt_tab is already up-to-date!\n",
            "[nltk_data] Downloading package stopwords to /root/nltk_data...\n",
            "[nltk_data]   Package stopwords is already up-to-date!\n"
          ]
        },
        {
          "output_type": "execute_result",
          "data": {
            "text/plain": [
              "True"
            ]
          },
          "metadata": {},
          "execution_count": 20
        }
      ]
    },
    {
      "cell_type": "markdown",
      "source": [
        "### load and prepare dataset\n",
        "We load the same dataset used in Task 1.1, split it into training and validation sets, and prepare it for the Transformer model."
      ],
      "metadata": {
        "id": "l-BPzUMHffGQ"
      }
    },
    {
      "cell_type": "code",
      "source": [
        "from google.colab import files\n",
        "uploaded = files.upload()"
      ],
      "metadata": {
        "colab": {
          "base_uri": "https://localhost:8080/",
          "height": 73
        },
        "id": "M2BsyTj21ryk",
        "outputId": "925f96ea-6ba1-4b08-9267-df1ee4592aa3"
      },
      "execution_count": null,
      "outputs": [
        {
          "output_type": "display_data",
          "data": {
            "text/plain": [
              "<IPython.core.display.HTML object>"
            ],
            "text/html": [
              "\n",
              "     <input type=\"file\" id=\"files-293d7ef0-407e-4379-9b7d-336cae75cb5f\" name=\"files[]\" multiple disabled\n",
              "        style=\"border:none\" />\n",
              "     <output id=\"result-293d7ef0-407e-4379-9b7d-336cae75cb5f\">\n",
              "      Upload widget is only available when the cell has been executed in the\n",
              "      current browser session. Please rerun this cell to enable.\n",
              "      </output>\n",
              "      <script>// Copyright 2017 Google LLC\n",
              "//\n",
              "// Licensed under the Apache License, Version 2.0 (the \"License\");\n",
              "// you may not use this file except in compliance with the License.\n",
              "// You may obtain a copy of the License at\n",
              "//\n",
              "//      http://www.apache.org/licenses/LICENSE-2.0\n",
              "//\n",
              "// Unless required by applicable law or agreed to in writing, software\n",
              "// distributed under the License is distributed on an \"AS IS\" BASIS,\n",
              "// WITHOUT WARRANTIES OR CONDITIONS OF ANY KIND, either express or implied.\n",
              "// See the License for the specific language governing permissions and\n",
              "// limitations under the License.\n",
              "\n",
              "/**\n",
              " * @fileoverview Helpers for google.colab Python module.\n",
              " */\n",
              "(function(scope) {\n",
              "function span(text, styleAttributes = {}) {\n",
              "  const element = document.createElement('span');\n",
              "  element.textContent = text;\n",
              "  for (const key of Object.keys(styleAttributes)) {\n",
              "    element.style[key] = styleAttributes[key];\n",
              "  }\n",
              "  return element;\n",
              "}\n",
              "\n",
              "// Max number of bytes which will be uploaded at a time.\n",
              "const MAX_PAYLOAD_SIZE = 100 * 1024;\n",
              "\n",
              "function _uploadFiles(inputId, outputId) {\n",
              "  const steps = uploadFilesStep(inputId, outputId);\n",
              "  const outputElement = document.getElementById(outputId);\n",
              "  // Cache steps on the outputElement to make it available for the next call\n",
              "  // to uploadFilesContinue from Python.\n",
              "  outputElement.steps = steps;\n",
              "\n",
              "  return _uploadFilesContinue(outputId);\n",
              "}\n",
              "\n",
              "// This is roughly an async generator (not supported in the browser yet),\n",
              "// where there are multiple asynchronous steps and the Python side is going\n",
              "// to poll for completion of each step.\n",
              "// This uses a Promise to block the python side on completion of each step,\n",
              "// then passes the result of the previous step as the input to the next step.\n",
              "function _uploadFilesContinue(outputId) {\n",
              "  const outputElement = document.getElementById(outputId);\n",
              "  const steps = outputElement.steps;\n",
              "\n",
              "  const next = steps.next(outputElement.lastPromiseValue);\n",
              "  return Promise.resolve(next.value.promise).then((value) => {\n",
              "    // Cache the last promise value to make it available to the next\n",
              "    // step of the generator.\n",
              "    outputElement.lastPromiseValue = value;\n",
              "    return next.value.response;\n",
              "  });\n",
              "}\n",
              "\n",
              "/**\n",
              " * Generator function which is called between each async step of the upload\n",
              " * process.\n",
              " * @param {string} inputId Element ID of the input file picker element.\n",
              " * @param {string} outputId Element ID of the output display.\n",
              " * @return {!Iterable<!Object>} Iterable of next steps.\n",
              " */\n",
              "function* uploadFilesStep(inputId, outputId) {\n",
              "  const inputElement = document.getElementById(inputId);\n",
              "  inputElement.disabled = false;\n",
              "\n",
              "  const outputElement = document.getElementById(outputId);\n",
              "  outputElement.innerHTML = '';\n",
              "\n",
              "  const pickedPromise = new Promise((resolve) => {\n",
              "    inputElement.addEventListener('change', (e) => {\n",
              "      resolve(e.target.files);\n",
              "    });\n",
              "  });\n",
              "\n",
              "  const cancel = document.createElement('button');\n",
              "  inputElement.parentElement.appendChild(cancel);\n",
              "  cancel.textContent = 'Cancel upload';\n",
              "  const cancelPromise = new Promise((resolve) => {\n",
              "    cancel.onclick = () => {\n",
              "      resolve(null);\n",
              "    };\n",
              "  });\n",
              "\n",
              "  // Wait for the user to pick the files.\n",
              "  const files = yield {\n",
              "    promise: Promise.race([pickedPromise, cancelPromise]),\n",
              "    response: {\n",
              "      action: 'starting',\n",
              "    }\n",
              "  };\n",
              "\n",
              "  cancel.remove();\n",
              "\n",
              "  // Disable the input element since further picks are not allowed.\n",
              "  inputElement.disabled = true;\n",
              "\n",
              "  if (!files) {\n",
              "    return {\n",
              "      response: {\n",
              "        action: 'complete',\n",
              "      }\n",
              "    };\n",
              "  }\n",
              "\n",
              "  for (const file of files) {\n",
              "    const li = document.createElement('li');\n",
              "    li.append(span(file.name, {fontWeight: 'bold'}));\n",
              "    li.append(span(\n",
              "        `(${file.type || 'n/a'}) - ${file.size} bytes, ` +\n",
              "        `last modified: ${\n",
              "            file.lastModifiedDate ? file.lastModifiedDate.toLocaleDateString() :\n",
              "                                    'n/a'} - `));\n",
              "    const percent = span('0% done');\n",
              "    li.appendChild(percent);\n",
              "\n",
              "    outputElement.appendChild(li);\n",
              "\n",
              "    const fileDataPromise = new Promise((resolve) => {\n",
              "      const reader = new FileReader();\n",
              "      reader.onload = (e) => {\n",
              "        resolve(e.target.result);\n",
              "      };\n",
              "      reader.readAsArrayBuffer(file);\n",
              "    });\n",
              "    // Wait for the data to be ready.\n",
              "    let fileData = yield {\n",
              "      promise: fileDataPromise,\n",
              "      response: {\n",
              "        action: 'continue',\n",
              "      }\n",
              "    };\n",
              "\n",
              "    // Use a chunked sending to avoid message size limits. See b/62115660.\n",
              "    let position = 0;\n",
              "    do {\n",
              "      const length = Math.min(fileData.byteLength - position, MAX_PAYLOAD_SIZE);\n",
              "      const chunk = new Uint8Array(fileData, position, length);\n",
              "      position += length;\n",
              "\n",
              "      const base64 = btoa(String.fromCharCode.apply(null, chunk));\n",
              "      yield {\n",
              "        response: {\n",
              "          action: 'append',\n",
              "          file: file.name,\n",
              "          data: base64,\n",
              "        },\n",
              "      };\n",
              "\n",
              "      let percentDone = fileData.byteLength === 0 ?\n",
              "          100 :\n",
              "          Math.round((position / fileData.byteLength) * 100);\n",
              "      percent.textContent = `${percentDone}% done`;\n",
              "\n",
              "    } while (position < fileData.byteLength);\n",
              "  }\n",
              "\n",
              "  // All done.\n",
              "  yield {\n",
              "    response: {\n",
              "      action: 'complete',\n",
              "    }\n",
              "  };\n",
              "}\n",
              "\n",
              "scope.google = scope.google || {};\n",
              "scope.google.colab = scope.google.colab || {};\n",
              "scope.google.colab._files = {\n",
              "  _uploadFiles,\n",
              "  _uploadFilesContinue,\n",
              "};\n",
              "})(self);\n",
              "</script> "
            ]
          },
          "metadata": {}
        },
        {
          "output_type": "stream",
          "name": "stdout",
          "text": [
            "Saving amazon_cells_labelled_LARGE_25K.txt to amazon_cells_labelled_LARGE_25K (4).txt\n"
          ]
        }
      ]
    },
    {
      "cell_type": "code",
      "source": [
        "def preprocess_pandas(data, columns):\n",
        "    df_ = pd.DataFrame(columns=columns)\n",
        "    data['Sentence'] = data['Sentence'].str.lower()\n",
        "    data['Sentence'] = data['Sentence'].replace('[a-zA-Z0-9-_.]+@[a-zA-Z0-9-_.]+', '', regex=True)                      # remove emails\n",
        "    data['Sentence'] = data['Sentence'].replace('((25[0-5]|2[0-4][0-9]|[01]?[0-9][0-9]?)(\\.|$)){4}', '', regex=True)    # remove IP address\n",
        "    data['Sentence'] = data['Sentence'].str.replace('[^\\w\\s]','')                                                       # remove special characters\n",
        "    data['Sentence'] = data['Sentence'].replace('\\d', '', regex=True)                                                   # remove numbers\n",
        "    for index, row in data.iterrows():\n",
        "        word_tokens = word_tokenize(row['Sentence'])\n",
        "        filtered_sent = [w for w in word_tokens if not w in stopwords.words('english')]\n",
        "        df_.loc[len(df_)] = {\n",
        "            \"index\": row['index'],\n",
        "            \"Class\": row['Class'],\n",
        "            \"Sentence\": \" \".join(filtered_sent)\n",
        "        }\n",
        "    return data\n",
        "\n",
        "# if this is the primary file that is executed (ie not an import of another file)\n",
        "if __name__ == \"__main__\":\n",
        "    # get data, pre-process and split\n",
        "    data = pd.read_csv(\"amazon_cells_labelled.txt\", delimiter='\\t', header=None)\n",
        "    data.columns = ['Sentence', 'Class']\n",
        "    data['index'] = data.index                                          # add new column index\n",
        "    columns = ['index', 'Class', 'Sentence']\n",
        "    data = preprocess_pandas(data, columns)                             # pre-process\n",
        "    training_data, validation_data, training_labels, validation_labels = train_test_split( # split the data into training, validation, and test splits\n",
        "        data['Sentence'].values.astype('U'),\n",
        "        data['Class'].values.astype('int32'),\n",
        "        test_size=0.10,\n",
        "        random_state=0,\n",
        "        shuffle=True\n",
        "    )\n",
        "\n",
        "    # vectorize data using TFIDF and transform for PyTorch for scalability\n",
        "    word_vectorizer = TfidfVectorizer(analyzer='word', ngram_range=(1,2), max_features=50000, max_df=0.5, use_idf=True, norm='l2')\n",
        "    training_data = word_vectorizer.fit_transform(training_data)        # transform texts to sparse matrix\n",
        "    training_data = training_data.todense()                             # convert to dense matrix for Pytorch\n",
        "    vocab_size = len(word_vectorizer.vocabulary_)\n",
        "    validation_data = word_vectorizer.transform(validation_data)\n",
        "    validation_data = validation_data.todense()\n",
        "    train_x_tensor = torch.from_numpy(np.array(training_data)).type(torch.FloatTensor)\n",
        "    train_y_tensor = torch.from_numpy(np.array(training_labels)).long()\n",
        "    validation_x_tensor = torch.from_numpy(np.array(validation_data)).type(torch.FloatTensor)\n",
        "    validation_y_tensor = torch.from_numpy(np.array(validation_labels)).long()"
      ],
      "metadata": {
        "id": "5xrq07t01tz2"
      },
      "execution_count": null,
      "outputs": []
    },
    {
      "cell_type": "code",
      "source": [
        "import pandas as pd\n",
        "from sklearn.model_selection import train_test_split\n",
        "\n",
        "# load the Amazon review dataset LARGE 25k\n",
        "data = pd.read_csv(\"amazon_cells_labelled_LARGE_25K.txt\", delimiter='\\t', header=None)\n",
        "data.columns = ['Sentence', 'Class']\n",
        "\n",
        "# clean and split\n",
        "data.dropna(inplace=True)\n",
        "train_texts, val_texts, train_labels, val_labels = train_test_split(\n",
        "    data['Sentence'].tolist(),\n",
        "    data['Class'].tolist(),\n",
        "    test_size=0.1,\n",
        "    random_state=42\n",
        ")\n"
      ],
      "metadata": {
        "id": "TVdeyEZ7fY-V"
      },
      "execution_count": null,
      "outputs": []
    },
    {
      "cell_type": "markdown",
      "source": [
        "### Tokenize\n"
      ],
      "metadata": {
        "id": "dXhG4emzfmLH"
      }
    },
    {
      "cell_type": "code",
      "source": [
        "from transformers import BertTokenizer\n",
        "\n",
        "tokenizer = BertTokenizer.from_pretrained('bert-base-uncased')\n",
        "\n",
        "train_encodings = tokenizer(train_texts, truncation=True, padding=True, return_tensors=\"pt\")\n",
        "val_encodings = tokenizer(val_texts, truncation=True, padding=True, return_tensors=\"pt\")\n"
      ],
      "metadata": {
        "id": "yrBPRSxjfnHV"
      },
      "execution_count": null,
      "outputs": []
    },
    {
      "cell_type": "markdown",
      "source": [
        "### Create pytorch dataset"
      ],
      "metadata": {
        "id": "fedKvnUafsIc"
      }
    },
    {
      "cell_type": "code",
      "source": [
        "import torch\n",
        "\n",
        "class SentimentDataset(torch.utils.data.Dataset):\n",
        "    def __init__(self, encodings, labels):\n",
        "        self.encodings = encodings\n",
        "        self.labels = labels\n",
        "\n",
        "    def __getitem__(self, idx):\n",
        "        item = {key: val[idx] for key, val in self.encodings.items()}\n",
        "        item['labels'] = torch.tensor(self.labels[idx])\n",
        "        return item\n",
        "\n",
        "    def __len__(self):\n",
        "        return len(self.labels)\n",
        "\n",
        "train_dataset = SentimentDataset(train_encodings, train_labels)\n",
        "val_dataset = SentimentDataset(val_encodings, val_labels)\n"
      ],
      "metadata": {
        "id": "0_Adh4SHfs1z"
      },
      "execution_count": null,
      "outputs": []
    },
    {
      "cell_type": "markdown",
      "source": [
        "### Load pretrained model\n"
      ],
      "metadata": {
        "id": "rr1-3QQufwbv"
      }
    },
    {
      "cell_type": "code",
      "source": [
        "from transformers import BertForSequenceClassification\n",
        "from torch.optim import AdamW\n",
        "\n",
        "model = BertForSequenceClassification.from_pretrained('bert-base-uncased', num_labels=2)\n",
        "optimizer = AdamW(model.parameters(), lr=5e-5)\n"
      ],
      "metadata": {
        "colab": {
          "base_uri": "https://localhost:8080/"
        },
        "id": "4yDwachkfy9d",
        "outputId": "226ba221-d00e-4f9c-d02f-cace705e4727"
      },
      "execution_count": null,
      "outputs": [
        {
          "output_type": "stream",
          "name": "stderr",
          "text": [
            "Some weights of BertForSequenceClassification were not initialized from the model checkpoint at bert-base-uncased and are newly initialized: ['classifier.bias', 'classifier.weight']\n",
            "You should probably TRAIN this model on a down-stream task to be able to use it for predictions and inference.\n"
          ]
        }
      ]
    },
    {
      "cell_type": "markdown",
      "source": [
        "### Prepare detaset and train model\n"
      ],
      "metadata": {
        "id": "aaXtYR5Lf4E6"
      }
    },
    {
      "cell_type": "code",
      "source": [
        "from torch.utils.data import DataLoader\n",
        "from sklearn.metrics import accuracy_score, classification_report\n",
        "from tqdm import tqdm\n",
        "\n",
        "train_loader = DataLoader(train_dataset, batch_size=16, shuffle=True)\n",
        "val_loader = DataLoader(val_dataset, batch_size=16)\n",
        "\n",
        "device = torch.device('cuda' if torch.cuda.is_available() else 'cpu')\n",
        "model.to(device)\n",
        "\n",
        "\n",
        "def evaluate_model(model, val_loader, device):\n",
        "    model.eval()\n",
        "    all_preds = []\n",
        "    all_labels = []\n",
        "\n",
        "    with torch.no_grad():\n",
        "        for batch in val_loader:\n",
        "            batch = {k: v.to(device) for k, v in batch.items()}\n",
        "            outputs = model(**batch)\n",
        "            logits = outputs.logits\n",
        "            preds = torch.argmax(logits, dim=1)\n",
        "            all_preds.extend(preds.cpu().numpy())\n",
        "            all_labels.extend(batch['labels'].cpu().numpy())\n",
        "\n",
        "    acc = accuracy_score(all_labels, all_preds)\n",
        "    return acc\n",
        "\n",
        "# training with per-epoch evaluation\n",
        "model.train()\n",
        "for epoch in range(10):\n",
        "    total_loss = 0\n",
        "    loop = tqdm(train_loader, desc=f\"Epoch {epoch+1}\")\n",
        "\n",
        "    for batch in loop:\n",
        "        batch = {k: v.to(device) for k, v in batch.items()}\n",
        "        outputs = model(**batch)\n",
        "        loss = outputs.loss\n",
        "        loss.backward()\n",
        "        optimizer.step()\n",
        "        optimizer.zero_grad()\n",
        "        total_loss += loss.item()\n",
        "        loop.set_postfix(loss=loss.item())\n",
        "\n",
        "    val_acc = evaluate_model(model, val_loader, device)\n",
        "    print(f\"Epoch {epoch+1} Completed: Loss = {total_loss:.4f}, Validation Accuracy = {val_acc:.4f}\")\n"
      ],
      "metadata": {
        "colab": {
          "base_uri": "https://localhost:8080/"
        },
        "id": "QHwxHzDIf6W8",
        "outputId": "6b80d795-cfa9-4fe6-91f2-49cf7278bf0a"
      },
      "execution_count": null,
      "outputs": [
        {
          "output_type": "stream",
          "name": "stderr",
          "text": [
            "Epoch 1: 100%|██████████| 1407/1407 [06:20<00:00,  3.70it/s, loss=0.927]\n"
          ]
        },
        {
          "output_type": "stream",
          "name": "stdout",
          "text": [
            "Epoch 1 Completed: Loss = 322.9930, Validation Accuracy = 0.9268\n"
          ]
        },
        {
          "output_type": "stream",
          "name": "stderr",
          "text": [
            "Epoch 2: 100%|██████████| 1407/1407 [06:14<00:00,  3.76it/s, loss=0.00908]\n"
          ]
        },
        {
          "output_type": "stream",
          "name": "stdout",
          "text": [
            "Epoch 2 Completed: Loss = 184.9310, Validation Accuracy = 0.9252\n"
          ]
        },
        {
          "output_type": "stream",
          "name": "stderr",
          "text": [
            "Epoch 3: 100%|██████████| 1407/1407 [06:14<00:00,  3.76it/s, loss=0.00352]\n"
          ]
        },
        {
          "output_type": "stream",
          "name": "stdout",
          "text": [
            "Epoch 3 Completed: Loss = 110.3767, Validation Accuracy = 0.9232\n"
          ]
        },
        {
          "output_type": "stream",
          "name": "stderr",
          "text": [
            "Epoch 4: 100%|██████████| 1407/1407 [06:14<00:00,  3.76it/s, loss=0.00677]\n"
          ]
        },
        {
          "output_type": "stream",
          "name": "stdout",
          "text": [
            "Epoch 4 Completed: Loss = 74.8748, Validation Accuracy = 0.9256\n"
          ]
        },
        {
          "output_type": "stream",
          "name": "stderr",
          "text": [
            "Epoch 5: 100%|██████████| 1407/1407 [06:14<00:00,  3.76it/s, loss=0.0298]\n"
          ]
        },
        {
          "output_type": "stream",
          "name": "stdout",
          "text": [
            "Epoch 5 Completed: Loss = 64.3743, Validation Accuracy = 0.9248\n"
          ]
        },
        {
          "output_type": "stream",
          "name": "stderr",
          "text": [
            "Epoch 6: 100%|██████████| 1407/1407 [06:14<00:00,  3.76it/s, loss=0.00411]\n"
          ]
        },
        {
          "output_type": "stream",
          "name": "stdout",
          "text": [
            "Epoch 6 Completed: Loss = 46.1601, Validation Accuracy = 0.9276\n"
          ]
        },
        {
          "output_type": "stream",
          "name": "stderr",
          "text": [
            "Epoch 7: 100%|██████████| 1407/1407 [06:14<00:00,  3.76it/s, loss=0.00165]\n"
          ]
        },
        {
          "output_type": "stream",
          "name": "stdout",
          "text": [
            "Epoch 7 Completed: Loss = 44.1096, Validation Accuracy = 0.9288\n"
          ]
        },
        {
          "output_type": "stream",
          "name": "stderr",
          "text": [
            "Epoch 8: 100%|██████████| 1407/1407 [06:13<00:00,  3.76it/s, loss=0.0013]\n"
          ]
        },
        {
          "output_type": "stream",
          "name": "stdout",
          "text": [
            "Epoch 8 Completed: Loss = 40.4531, Validation Accuracy = 0.9236\n"
          ]
        },
        {
          "output_type": "stream",
          "name": "stderr",
          "text": [
            "Epoch 9: 100%|██████████| 1407/1407 [06:13<00:00,  3.76it/s, loss=0.000188]\n"
          ]
        },
        {
          "output_type": "stream",
          "name": "stdout",
          "text": [
            "Epoch 9 Completed: Loss = 30.4827, Validation Accuracy = 0.9200\n"
          ]
        },
        {
          "output_type": "stream",
          "name": "stderr",
          "text": [
            "Epoch 10: 100%|██████████| 1407/1407 [06:13<00:00,  3.76it/s, loss=0.000958]\n"
          ]
        },
        {
          "output_type": "stream",
          "name": "stdout",
          "text": [
            "Epoch 10 Completed: Loss = 43.6013, Validation Accuracy = 0.9124\n"
          ]
        }
      ]
    },
    {
      "cell_type": "markdown",
      "source": [
        "Task 1.3\n",
        "\n",
        "Here, you should compare of both models; you are requested to use the same test dataset for both ANN and the transformer to answer the following:\n",
        "\n",
        "• Compare the performance of the two models and explain in which scenarios you would\n",
        "prefer one over the other.\n",
        "\n",
        "• How did the two models’ complexity, accuracy, and efficiency differ? Did one model\n",
        "outperform the other in specific scenarios or tasks? If so, why?\n",
        "\n",
        "• What insights did you obtain concerning data amount to train? Embedding utilized?\n",
        "Architectural choices made?\n"
      ],
      "metadata": {
        "id": "9jwqOfAkPbRs"
      }
    },
    {
      "cell_type": "markdown",
      "source": [
        "## Task 1.3: Model Comparison\n",
        "\n",
        "### ANN vs Transformer performance comparison\n",
        "\n",
        "| Metric           | ANN Model         | Transformer (BERT)     |\n",
        "|------------------|-------------------|-------------------------|\n",
        "| Accuracy         | 84.84%  | 91.24%         |\n",
        "| Precision/Recall | Lower on neutral texts | Higher semantic understanding |\n",
        "| Training Speed   | Fast  | Slower (1h), resource intensive |\n",
        "| Parameters       | Few (Simple network) | Millions        |\n",
        "\n",
        "---\n",
        "\n",
        "### Insights\n",
        "\n",
        "- **ANN Pros**:\n",
        "  - Fast training, simpler to implement.\n",
        "  - Works well on small, clean datasets.\n",
        "  - Suitable for mobile or low-resource environments.\n",
        "\n",
        "- **Transformer Pros**:\n",
        "  - Better generalization on complex or nuanced texts.\n",
        "  - Captures context and semantics thanks to attention mechanisms.\n",
        "  - Scales well with large datasets.\n",
        "\n",
        "- **Architecture & Embeddings**:\n",
        "  - ANN used TF-IDF vectors or word embeddings (e.g. Word2Vec).\n",
        "  - BERT used subword token embeddings + attention layers.\n",
        "\n",
        "---\n",
        "\n",
        "If training data is limited or inference needs to be fast, an ANN is preferred. For real-world applications where context matters (e.g. chatbots, reviews, emotion detection), Transformer models significantly outperform traditional ANNs."
      ],
      "metadata": {
        "id": "mjfU7a6S1Soy"
      }
    }
  ]
}