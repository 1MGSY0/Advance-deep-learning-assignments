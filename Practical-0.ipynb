{
 "cells": [
  {
   "cell_type": "markdown",
   "id": "2cc38281-4bc1-4684-a72c-f7fd19d7da0b",
   "metadata": {},
   "source": [
    "## <u>**Lab 0 - Practical**<u>\n",
    "\n"
   ]
  },
  {
   "cell_type": "markdown",
   "id": "ddec4631-c123-458b-a0e7-e43570f1a2c3",
   "metadata": {},
   "source": [
    "#### <u>Task 0.1<u>"
   ]
  },
  {
   "cell_type": "code",
   "execution_count": 1,
   "id": "a5f96f09",
   "metadata": {},
   "outputs": [],
   "source": [
    "import torch\n",
    "import torchvision\n",
    "import torchvision.transforms as transforms"
   ]
  },
  {
   "cell_type": "code",
   "execution_count": 2,
   "id": "7b1ca4b8",
   "metadata": {},
   "outputs": [],
   "source": [
    "transform = transforms.Compose([\n",
    "    transforms.ToTensor(),\n",
    "    transforms.Normalize((0.5, 0.5, 0.5), (0.5, 0.5, 0.5))\n",
    "])"
   ]
  },
  {
   "cell_type": "code",
   "execution_count": 3,
   "id": "ccab2afd",
   "metadata": {},
   "outputs": [
    {
     "name": "stdout",
     "output_type": "stream",
     "text": [
      "Downloading https://www.cs.toronto.edu/~kriz/cifar-10-python.tar.gz to ./data\\cifar-10-python.tar.gz\n"
     ]
    },
    {
     "name": "stderr",
     "output_type": "stream",
     "text": [
      "100%|██████████| 170498071/170498071 [29:33<00:00, 96152.18it/s] \n"
     ]
    },
    {
     "name": "stdout",
     "output_type": "stream",
     "text": [
      "Extracting ./data\\cifar-10-python.tar.gz to ./data\n",
      "Files already downloaded and verified\n"
     ]
    }
   ],
   "source": [
    "# Preparing and downloading the CIFAR-10 dataset\n",
    "trainSet = torchvision.datasets.CIFAR10(root='./data', train=True,\n",
    "                                        download=True, transform=transform)\n",
    "trainLoader = torch.utils.data.DataLoader(trainSet, batch_size=4,\n",
    "                                          shuffle=True, num_workers=2)\n",
    "\n",
    "testSet = torchvision.datasets.CIFAR10(root='./data', train=False,\n",
    "                                       download=True, transform=transform)\n",
    "testLoader = torch.utils.data.DataLoader(testSet, batch_size=4,\n",
    "                                         shuffle=False, num_workers=2)"
   ]
  },
  {
   "cell_type": "code",
   "execution_count": 4,
   "id": "518c82c7",
   "metadata": {},
   "outputs": [],
   "source": [
    "classes = ('plane', 'car', 'bird', 'cat', 'deer', 'dog', 'frog', 'horse', 'ship', 'truck')"
   ]
  },
  {
   "cell_type": "code",
   "execution_count": 5,
   "id": "d27f7194-f718-4870-8759-c6bdb73c60fe",
   "metadata": {},
   "outputs": [],
   "source": [
    "import torch.nn as nn\n",
    "import torch.nn.functional as F\n",
    "import torch.optim as optim"
   ]
  },
  {
   "cell_type": "code",
   "execution_count": 6,
   "id": "0b5eee8c-624b-46d8-99ad-2ce3049080a2",
   "metadata": {},
   "outputs": [],
   "source": [
    "class SimpleCNN(nn.Module):\n",
    "      def __init__(self):\n",
    "          super(SimpleCNN, self).__init__()\n",
    "          self.conv1 = nn.Conv2d(3, 32, 3, padding=1)\n",
    "          self.relu = nn.ReLU()\n",
    "          self.pool = nn.MaxPool2d(2, 2)\n",
    "          self.conv2 = nn.Conv2d(32, 64, 3, padding=1)\n",
    "          self.fc1 = nn.Linear(64 * 8 * 8, 128)\n",
    "          self.fc2 = nn.Linear(128, 10)\n",
    "\n",
    "      def forward(self, x):\n",
    "          x = self.pool(self.relu(self.conv1(x)))\n",
    "          x = self.pool(self.relu(self.conv2(x)))\n",
    "          x = x.view(-1, 64 * 8 * 8)\n",
    "          x = self.relu(self.fc1(x))\n",
    "          x = self.fc2(x)\n",
    "          return x\n",
    "\n",
    "net = SimpleCNN()"
   ]
  },
  {
   "cell_type": "code",
   "execution_count": 7,
   "id": "76623ad6-498a-457c-a3c2-b1d2c4a51b26",
   "metadata": {},
   "outputs": [],
   "source": [
    "criterion = nn.CrossEntropyLoss()\n",
    "optimizer = optim.Adam(net.parameters(), lr=0.001)"
   ]
  },
  {
   "cell_type": "code",
   "execution_count": 8,
   "id": "8005ad5f-da8a-475e-b646-7adb6e95f241",
   "metadata": {},
   "outputs": [
    {
     "name": "stdout",
     "output_type": "stream",
     "text": [
      "[ 1,  2000] loss: 1.682\n",
      "[ 1,  4000] loss: 1.392\n",
      "[ 1,  6000] loss: 1.267\n",
      "[ 1,  8000] loss: 1.211\n",
      "[ 1, 10000] loss: 1.125\n",
      "[ 1, 12000] loss: 1.106\n",
      "[ 2,  2000] loss: 0.992\n",
      "[ 2,  4000] loss: 1.001\n",
      "[ 2,  6000] loss: 0.990\n",
      "[ 2,  8000] loss: 0.955\n",
      "[ 2, 10000] loss: 0.971\n",
      "[ 2, 12000] loss: 0.945\n",
      "[ 3,  2000] loss: 0.841\n",
      "[ 3,  4000] loss: 0.846\n",
      "[ 3,  6000] loss: 0.823\n",
      "[ 3,  8000] loss: 0.872\n",
      "[ 3, 10000] loss: 0.855\n",
      "[ 3, 12000] loss: 0.849\n",
      "[ 4,  2000] loss: 0.754\n",
      "[ 4,  4000] loss: 0.736\n",
      "[ 4,  6000] loss: 0.767\n",
      "[ 4,  8000] loss: 0.763\n",
      "[ 4, 10000] loss: 0.771\n",
      "[ 4, 12000] loss: 0.763\n",
      "[ 5,  2000] loss: 0.642\n",
      "[ 5,  4000] loss: 0.676\n",
      "[ 5,  6000] loss: 0.696\n",
      "[ 5,  8000] loss: 0.694\n",
      "[ 5, 10000] loss: 0.692\n",
      "[ 5, 12000] loss: 0.700\n",
      "[ 6,  2000] loss: 0.570\n",
      "[ 6,  4000] loss: 0.603\n",
      "[ 6,  6000] loss: 0.623\n",
      "[ 6,  8000] loss: 0.636\n",
      "[ 6, 10000] loss: 0.632\n",
      "[ 6, 12000] loss: 0.635\n",
      "[ 7,  2000] loss: 0.487\n",
      "[ 7,  4000] loss: 0.555\n",
      "[ 7,  6000] loss: 0.536\n",
      "[ 7,  8000] loss: 0.575\n",
      "[ 7, 10000] loss: 0.595\n",
      "[ 7, 12000] loss: 0.586\n",
      "[ 8,  2000] loss: 0.463\n",
      "[ 8,  4000] loss: 0.472\n",
      "[ 8,  6000] loss: 0.492\n",
      "[ 8,  8000] loss: 0.533\n",
      "[ 8, 10000] loss: 0.529\n",
      "[ 8, 12000] loss: 0.530\n",
      "[ 9,  2000] loss: 0.398\n",
      "[ 9,  4000] loss: 0.448\n",
      "[ 9,  6000] loss: 0.434\n",
      "[ 9,  8000] loss: 0.488\n",
      "[ 9, 10000] loss: 0.480\n",
      "[ 9, 12000] loss: 0.510\n",
      "[10,  2000] loss: 0.370\n",
      "[10,  4000] loss: 0.389\n",
      "[10,  6000] loss: 0.403\n",
      "[10,  8000] loss: 0.433\n",
      "[10, 10000] loss: 0.425\n",
      "[10, 12000] loss: 0.473\n",
      "Finished Training\n"
     ]
    }
   ],
   "source": [
    "for epoch in range(10):  # loop over the dataset multiple times\n",
    "    running_loss = 0.0\n",
    "    for i, data in enumerate(trainLoader, 0):\n",
    "        inputs, labels = data\n",
    "        optimizer.zero_grad()\n",
    "        outputs = net(inputs)\n",
    "        loss = criterion(outputs, labels)\n",
    "        loss.backward()\n",
    "        optimizer.step()\n",
    "        running_loss += loss.item()\n",
    "        if i % 2000 == 1999:    # print every 2000 mini-batches\n",
    "            print(f'[{epoch + 1:2d}, {i + 1:5d}] loss: {running_loss / 2000:.3f}')\n",
    "            running_loss = 0.0\n",
    "\n",
    "print('Finished Training')"
   ]
  },
  {
   "cell_type": "code",
   "execution_count": null,
   "id": "6db0955b-bb29-4cd9-993a-c35b3de18abd",
   "metadata": {},
   "outputs": [],
   "source": []
  }
 ],
 "metadata": {
  "kernelspec": {
   "display_name": "Python 3 (ipykernel)",
   "language": "python",
   "name": "python3"
  },
  "language_info": {
   "codemirror_mode": {
    "name": "ipython",
    "version": 3
   },
   "file_extension": ".py",
   "mimetype": "text/x-python",
   "name": "python",
   "nbconvert_exporter": "python",
   "pygments_lexer": "ipython3",
   "version": "3.8.20"
  }
 },
 "nbformat": 4,
 "nbformat_minor": 5
}
