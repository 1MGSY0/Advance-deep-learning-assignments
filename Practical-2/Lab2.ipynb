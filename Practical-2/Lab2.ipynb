{
 "cells": [
  {
   "cell_type": "code",
   "execution_count": 2,
   "id": "b9602ae5",
   "metadata": {},
   "outputs": [],
   "source": [
    "import torch\n",
    "import torch.nn as nn\n",
    "import torch.nn.functional as F\n",
    "import torch.optim as optim\n",
    "from torchvision import datasets, transforms\n",
    "from torch.utils.data import DataLoader\n",
    "import os\n",
    "import matplotlib\n",
    "import matplotlib.pyplot as plt\n",
    "import matplotlib.gridspec as gridspec\n",
    "import numpy as np\n",
    "import tqdm\n",
    "import os\n",
    "import wandb"
   ]
  },
  {
   "cell_type": "markdown",
   "id": "ae222fab",
   "metadata": {},
   "source": [
    "TASK 1\n",
    "\n",
    "We have given a vanilla GAN PyTorch implementation in this lab files. To understand how\n",
    "it works, you can refer the Vanilla GAN as described by Goodfellow in his paper and the\n",
    "assosiated GitHub. Further, you can read this article."
   ]
  },
  {
   "cell_type": "code",
   "execution_count": null,
   "id": "3ff23744",
   "metadata": {},
   "outputs": [
    {
     "data": {
      "text/html": [
       "Finishing previous runs because reinit is set to 'default'."
      ],
      "text/plain": [
       "<IPython.core.display.HTML object>"
      ]
     },
     "metadata": {},
     "output_type": "display_data"
    },
    {
     "data": {
      "text/html": [],
      "text/plain": [
       "<IPython.core.display.HTML object>"
      ]
     },
     "metadata": {},
     "output_type": "display_data"
    },
    {
     "data": {
      "text/html": [
       " View run <strong style=\"color:#cdcd00\">azure-pond-3</strong> at: <a href='https://wandb.ai/nicholastoh3-nanyang-technological-university-singapore/conditional-gan-mnist/runs/zcusd2yc' target=\"_blank\">https://wandb.ai/nicholastoh3-nanyang-technological-university-singapore/conditional-gan-mnist/runs/zcusd2yc</a><br> View project at: <a href='https://wandb.ai/nicholastoh3-nanyang-technological-university-singapore/conditional-gan-mnist' target=\"_blank\">https://wandb.ai/nicholastoh3-nanyang-technological-university-singapore/conditional-gan-mnist</a><br>Synced 5 W&B file(s), 0 media file(s), 0 artifact file(s) and 0 other file(s)"
      ],
      "text/plain": [
       "<IPython.core.display.HTML object>"
      ]
     },
     "metadata": {},
     "output_type": "display_data"
    },
    {
     "data": {
      "text/html": [
       "Find logs at: <code>.\\wandb\\run-20250425_105743-zcusd2yc\\logs</code>"
      ],
      "text/plain": [
       "<IPython.core.display.HTML object>"
      ]
     },
     "metadata": {},
     "output_type": "display_data"
    },
    {
     "data": {
      "text/html": [
       "Waiting for wandb.init()..."
      ],
      "text/plain": [
       "<IPython.core.display.HTML object>"
      ]
     },
     "metadata": {},
     "output_type": "display_data"
    },
    {
     "data": {
      "text/html": [
       "Tracking run with wandb version 0.19.10"
      ],
      "text/plain": [
       "<IPython.core.display.HTML object>"
      ]
     },
     "metadata": {},
     "output_type": "display_data"
    },
    {
     "data": {
      "text/html": [
       "Run data is saved locally in <code>c:\\Users\\nicho\\AppData\\Local\\Programs\\Microsoft VS Code\\wandb\\run-20250425_110859-6qtctaf0</code>"
      ],
      "text/plain": [
       "<IPython.core.display.HTML object>"
      ]
     },
     "metadata": {},
     "output_type": "display_data"
    },
    {
     "data": {
      "text/html": [
       "Syncing run <strong><a href='https://wandb.ai/nicholastoh3-nanyang-technological-university-singapore/conditional-gan-mnist/runs/6qtctaf0' target=\"_blank\">mild-valley-4</a></strong> to <a href='https://wandb.ai/nicholastoh3-nanyang-technological-university-singapore/conditional-gan-mnist' target=\"_blank\">Weights & Biases</a> (<a href='https://wandb.me/developer-guide' target=\"_blank\">docs</a>)<br>"
      ],
      "text/plain": [
       "<IPython.core.display.HTML object>"
      ]
     },
     "metadata": {},
     "output_type": "display_data"
    },
    {
     "data": {
      "text/html": [
       " View project at <a href='https://wandb.ai/nicholastoh3-nanyang-technological-university-singapore/conditional-gan-mnist' target=\"_blank\">https://wandb.ai/nicholastoh3-nanyang-technological-university-singapore/conditional-gan-mnist</a>"
      ],
      "text/plain": [
       "<IPython.core.display.HTML object>"
      ]
     },
     "metadata": {},
     "output_type": "display_data"
    },
    {
     "data": {
      "text/html": [
       " View run at <a href='https://wandb.ai/nicholastoh3-nanyang-technological-university-singapore/conditional-gan-mnist/runs/6qtctaf0' target=\"_blank\">https://wandb.ai/nicholastoh3-nanyang-technological-university-singapore/conditional-gan-mnist/runs/6qtctaf0</a>"
      ],
      "text/plain": [
       "<IPython.core.display.HTML object>"
      ]
     },
     "metadata": {},
     "output_type": "display_data"
    },
    {
     "name": "stderr",
     "output_type": "stream",
     "text": [
      "100%|██████████| 938/938 [00:35<00:00, 26.48it/s]\n"
     ]
    },
    {
     "name": "stdout",
     "output_type": "stream",
     "text": [
      "epoch0; D_loss: 0.0650; G_loss: 6.2441\n",
      "Saved Best Models at epoch 0 | G_loss: 6.2441\n"
     ]
    },
    {
     "name": "stderr",
     "output_type": "stream",
     "text": [
      "100%|██████████| 938/938 [00:35<00:00, 26.43it/s]\n"
     ]
    },
    {
     "name": "stdout",
     "output_type": "stream",
     "text": [
      "epoch1; D_loss: 0.0269; G_loss: 6.2828\n"
     ]
    },
    {
     "name": "stderr",
     "output_type": "stream",
     "text": [
      "100%|██████████| 938/938 [00:33<00:00, 27.67it/s]\n"
     ]
    },
    {
     "name": "stdout",
     "output_type": "stream",
     "text": [
      "epoch2; D_loss: 0.0609; G_loss: 5.1235\n",
      "Saved Best Models at epoch 2 | G_loss: 5.1235\n"
     ]
    },
    {
     "name": "stderr",
     "output_type": "stream",
     "text": [
      "100%|██████████| 938/938 [00:33<00:00, 27.93it/s]\n"
     ]
    },
    {
     "name": "stdout",
     "output_type": "stream",
     "text": [
      "epoch3; D_loss: 0.1052; G_loss: 5.4521\n"
     ]
    },
    {
     "name": "stderr",
     "output_type": "stream",
     "text": [
      "100%|██████████| 938/938 [00:34<00:00, 27.11it/s]\n"
     ]
    },
    {
     "name": "stdout",
     "output_type": "stream",
     "text": [
      "epoch4; D_loss: 0.2417; G_loss: 4.9854\n",
      "Saved Best Models at epoch 4 | G_loss: 4.9854\n"
     ]
    },
    {
     "name": "stderr",
     "output_type": "stream",
     "text": [
      "100%|██████████| 938/938 [00:33<00:00, 28.21it/s]\n"
     ]
    },
    {
     "name": "stdout",
     "output_type": "stream",
     "text": [
      "epoch5; D_loss: 0.4249; G_loss: 4.2760\n",
      "Saved Best Models at epoch 5 | G_loss: 4.2760\n"
     ]
    },
    {
     "name": "stderr",
     "output_type": "stream",
     "text": [
      "100%|██████████| 938/938 [00:33<00:00, 28.31it/s]\n"
     ]
    },
    {
     "name": "stdout",
     "output_type": "stream",
     "text": [
      "epoch6; D_loss: 0.5246; G_loss: 4.0836\n",
      "Saved Best Models at epoch 6 | G_loss: 4.0836\n"
     ]
    },
    {
     "name": "stderr",
     "output_type": "stream",
     "text": [
      "100%|██████████| 938/938 [00:33<00:00, 27.78it/s]\n"
     ]
    },
    {
     "name": "stdout",
     "output_type": "stream",
     "text": [
      "epoch7; D_loss: 0.6120; G_loss: 3.5868\n",
      "Saved Best Models at epoch 7 | G_loss: 3.5868\n"
     ]
    },
    {
     "name": "stderr",
     "output_type": "stream",
     "text": [
      "100%|██████████| 938/938 [00:36<00:00, 25.51it/s]\n"
     ]
    },
    {
     "name": "stdout",
     "output_type": "stream",
     "text": [
      "epoch8; D_loss: 0.7108; G_loss: 3.0527\n",
      "Saved Best Models at epoch 8 | G_loss: 3.0527\n"
     ]
    },
    {
     "name": "stderr",
     "output_type": "stream",
     "text": [
      "100%|██████████| 938/938 [00:36<00:00, 25.81it/s]\n"
     ]
    },
    {
     "name": "stdout",
     "output_type": "stream",
     "text": [
      "epoch9; D_loss: 0.7093; G_loss: 2.6432\n",
      "Saved Best Models at epoch 9 | G_loss: 2.6432\n"
     ]
    },
    {
     "name": "stderr",
     "output_type": "stream",
     "text": [
      "100%|██████████| 938/938 [00:33<00:00, 27.92it/s]\n"
     ]
    },
    {
     "name": "stdout",
     "output_type": "stream",
     "text": [
      "epoch10; D_loss: 0.6962; G_loss: 2.5785\n",
      "Saved Best Models at epoch 10 | G_loss: 2.5785\n"
     ]
    },
    {
     "name": "stderr",
     "output_type": "stream",
     "text": [
      "100%|██████████| 938/938 [00:33<00:00, 27.65it/s]\n"
     ]
    },
    {
     "name": "stdout",
     "output_type": "stream",
     "text": [
      "epoch11; D_loss: 0.6611; G_loss: 2.6584\n"
     ]
    },
    {
     "name": "stderr",
     "output_type": "stream",
     "text": [
      "100%|██████████| 938/938 [00:33<00:00, 27.96it/s]\n"
     ]
    },
    {
     "name": "stdout",
     "output_type": "stream",
     "text": [
      "epoch12; D_loss: 0.6608; G_loss: 2.5307\n",
      "Saved Best Models at epoch 12 | G_loss: 2.5307\n"
     ]
    },
    {
     "name": "stderr",
     "output_type": "stream",
     "text": [
      "100%|██████████| 938/938 [00:34<00:00, 27.01it/s]\n"
     ]
    },
    {
     "name": "stdout",
     "output_type": "stream",
     "text": [
      "epoch13; D_loss: 0.6616; G_loss: 2.5708\n"
     ]
    },
    {
     "name": "stderr",
     "output_type": "stream",
     "text": [
      "100%|██████████| 938/938 [00:33<00:00, 28.19it/s]\n"
     ]
    },
    {
     "name": "stdout",
     "output_type": "stream",
     "text": [
      "epoch14; D_loss: 0.6816; G_loss: 2.4272\n",
      "Saved Best Models at epoch 14 | G_loss: 2.4272\n"
     ]
    },
    {
     "name": "stderr",
     "output_type": "stream",
     "text": [
      "100%|██████████| 938/938 [00:33<00:00, 28.14it/s]\n"
     ]
    },
    {
     "name": "stdout",
     "output_type": "stream",
     "text": [
      "epoch15; D_loss: 0.6992; G_loss: 2.3459\n",
      "Saved Best Models at epoch 15 | G_loss: 2.3459\n"
     ]
    },
    {
     "name": "stderr",
     "output_type": "stream",
     "text": [
      "100%|██████████| 938/938 [00:34<00:00, 27.25it/s]\n"
     ]
    },
    {
     "name": "stdout",
     "output_type": "stream",
     "text": [
      "epoch16; D_loss: 0.6977; G_loss: 2.3041\n",
      "Saved Best Models at epoch 16 | G_loss: 2.3041\n"
     ]
    },
    {
     "name": "stderr",
     "output_type": "stream",
     "text": [
      "100%|██████████| 938/938 [00:33<00:00, 28.32it/s]\n"
     ]
    },
    {
     "name": "stdout",
     "output_type": "stream",
     "text": [
      "epoch17; D_loss: 0.7015; G_loss: 2.2891\n",
      "Saved Best Models at epoch 17 | G_loss: 2.2891\n"
     ]
    },
    {
     "name": "stderr",
     "output_type": "stream",
     "text": [
      "100%|██████████| 938/938 [00:33<00:00, 28.15it/s]\n"
     ]
    },
    {
     "name": "stdout",
     "output_type": "stream",
     "text": [
      "epoch18; D_loss: 0.6901; G_loss: 2.2603\n",
      "Saved Best Models at epoch 18 | G_loss: 2.2603\n"
     ]
    },
    {
     "name": "stderr",
     "output_type": "stream",
     "text": [
      "100%|██████████| 938/938 [00:32<00:00, 28.70it/s]\n"
     ]
    },
    {
     "name": "stdout",
     "output_type": "stream",
     "text": [
      "epoch19; D_loss: 0.6856; G_loss: 2.2792\n"
     ]
    },
    {
     "name": "stderr",
     "output_type": "stream",
     "text": [
      "100%|██████████| 938/938 [00:33<00:00, 28.32it/s]\n"
     ]
    },
    {
     "name": "stdout",
     "output_type": "stream",
     "text": [
      "epoch20; D_loss: 0.6742; G_loss: 2.2545\n",
      "Saved Best Models at epoch 20 | G_loss: 2.2545\n"
     ]
    },
    {
     "name": "stderr",
     "output_type": "stream",
     "text": [
      "100%|██████████| 938/938 [00:32<00:00, 28.51it/s]\n"
     ]
    },
    {
     "name": "stdout",
     "output_type": "stream",
     "text": [
      "epoch21; D_loss: 0.6673; G_loss: 2.3157\n"
     ]
    },
    {
     "name": "stderr",
     "output_type": "stream",
     "text": [
      "100%|██████████| 938/938 [00:32<00:00, 28.67it/s]\n"
     ]
    },
    {
     "name": "stdout",
     "output_type": "stream",
     "text": [
      "epoch22; D_loss: 0.6656; G_loss: 2.3326\n"
     ]
    },
    {
     "name": "stderr",
     "output_type": "stream",
     "text": [
      "100%|██████████| 938/938 [00:32<00:00, 28.78it/s]\n"
     ]
    },
    {
     "name": "stdout",
     "output_type": "stream",
     "text": [
      "epoch23; D_loss: 0.6635; G_loss: 2.3227\n"
     ]
    },
    {
     "name": "stderr",
     "output_type": "stream",
     "text": [
      "100%|██████████| 938/938 [00:33<00:00, 28.32it/s]\n"
     ]
    },
    {
     "name": "stdout",
     "output_type": "stream",
     "text": [
      "epoch24; D_loss: 0.6669; G_loss: 2.3864\n"
     ]
    },
    {
     "name": "stderr",
     "output_type": "stream",
     "text": [
      "100%|██████████| 938/938 [00:32<00:00, 28.80it/s]\n"
     ]
    },
    {
     "name": "stdout",
     "output_type": "stream",
     "text": [
      "epoch25; D_loss: 0.6539; G_loss: 2.3810\n"
     ]
    },
    {
     "name": "stderr",
     "output_type": "stream",
     "text": [
      "100%|██████████| 938/938 [00:32<00:00, 28.58it/s]\n"
     ]
    },
    {
     "name": "stdout",
     "output_type": "stream",
     "text": [
      "epoch26; D_loss: 0.6515; G_loss: 2.4087\n"
     ]
    },
    {
     "name": "stderr",
     "output_type": "stream",
     "text": [
      "100%|██████████| 938/938 [00:32<00:00, 28.63it/s]\n"
     ]
    },
    {
     "name": "stdout",
     "output_type": "stream",
     "text": [
      "epoch27; D_loss: 0.6453; G_loss: 2.4501\n"
     ]
    },
    {
     "name": "stderr",
     "output_type": "stream",
     "text": [
      "100%|██████████| 938/938 [00:33<00:00, 28.37it/s]\n"
     ]
    },
    {
     "name": "stdout",
     "output_type": "stream",
     "text": [
      "epoch28; D_loss: 0.6371; G_loss: 2.4769\n"
     ]
    },
    {
     "name": "stderr",
     "output_type": "stream",
     "text": [
      "100%|██████████| 938/938 [00:32<00:00, 28.64it/s]\n"
     ]
    },
    {
     "name": "stdout",
     "output_type": "stream",
     "text": [
      "epoch29; D_loss: 0.6309; G_loss: 2.5194\n"
     ]
    },
    {
     "name": "stderr",
     "output_type": "stream",
     "text": [
      "100%|██████████| 938/938 [00:33<00:00, 28.37it/s]\n"
     ]
    },
    {
     "name": "stdout",
     "output_type": "stream",
     "text": [
      "epoch30; D_loss: 0.6262; G_loss: 2.5375\n"
     ]
    },
    {
     "name": "stderr",
     "output_type": "stream",
     "text": [
      "100%|██████████| 938/938 [00:33<00:00, 28.02it/s]\n"
     ]
    },
    {
     "name": "stdout",
     "output_type": "stream",
     "text": [
      "epoch31; D_loss: 0.6214; G_loss: 2.5708\n"
     ]
    },
    {
     "name": "stderr",
     "output_type": "stream",
     "text": [
      "100%|██████████| 938/938 [00:35<00:00, 26.74it/s]\n"
     ]
    },
    {
     "name": "stdout",
     "output_type": "stream",
     "text": [
      "epoch32; D_loss: 0.6159; G_loss: 2.6154\n"
     ]
    },
    {
     "name": "stderr",
     "output_type": "stream",
     "text": [
      "100%|██████████| 938/938 [00:33<00:00, 27.66it/s]\n"
     ]
    },
    {
     "name": "stdout",
     "output_type": "stream",
     "text": [
      "epoch33; D_loss: 0.6115; G_loss: 2.6481\n"
     ]
    },
    {
     "name": "stderr",
     "output_type": "stream",
     "text": [
      "100%|██████████| 938/938 [00:33<00:00, 28.08it/s]\n"
     ]
    },
    {
     "name": "stdout",
     "output_type": "stream",
     "text": [
      "epoch34; D_loss: 0.6083; G_loss: 2.6502\n"
     ]
    },
    {
     "name": "stderr",
     "output_type": "stream",
     "text": [
      "100%|██████████| 938/938 [00:33<00:00, 28.18it/s]\n"
     ]
    },
    {
     "name": "stdout",
     "output_type": "stream",
     "text": [
      "epoch35; D_loss: 0.6064; G_loss: 2.6954\n"
     ]
    },
    {
     "name": "stderr",
     "output_type": "stream",
     "text": [
      "100%|██████████| 938/938 [00:33<00:00, 27.77it/s]\n"
     ]
    },
    {
     "name": "stdout",
     "output_type": "stream",
     "text": [
      "epoch36; D_loss: 0.6035; G_loss: 2.7118\n"
     ]
    },
    {
     "name": "stderr",
     "output_type": "stream",
     "text": [
      "100%|██████████| 938/938 [00:33<00:00, 28.23it/s]\n"
     ]
    },
    {
     "name": "stdout",
     "output_type": "stream",
     "text": [
      "epoch37; D_loss: 0.5996; G_loss: 2.7290\n"
     ]
    },
    {
     "name": "stderr",
     "output_type": "stream",
     "text": [
      "100%|██████████| 938/938 [00:33<00:00, 27.93it/s]\n"
     ]
    },
    {
     "name": "stdout",
     "output_type": "stream",
     "text": [
      "epoch38; D_loss: 0.5939; G_loss: 2.7410\n"
     ]
    },
    {
     "name": "stderr",
     "output_type": "stream",
     "text": [
      "100%|██████████| 938/938 [00:33<00:00, 27.79it/s]\n"
     ]
    },
    {
     "name": "stdout",
     "output_type": "stream",
     "text": [
      "epoch39; D_loss: 0.5921; G_loss: 2.7704\n"
     ]
    },
    {
     "name": "stderr",
     "output_type": "stream",
     "text": [
      "100%|██████████| 938/938 [00:33<00:00, 28.19it/s]\n"
     ]
    },
    {
     "name": "stdout",
     "output_type": "stream",
     "text": [
      "epoch40; D_loss: 0.5914; G_loss: 2.7936\n"
     ]
    },
    {
     "name": "stderr",
     "output_type": "stream",
     "text": [
      "100%|██████████| 938/938 [00:33<00:00, 28.20it/s]\n"
     ]
    },
    {
     "name": "stdout",
     "output_type": "stream",
     "text": [
      "epoch41; D_loss: 0.5838; G_loss: 2.8302\n"
     ]
    },
    {
     "name": "stderr",
     "output_type": "stream",
     "text": [
      "100%|██████████| 938/938 [00:33<00:00, 28.11it/s]\n"
     ]
    },
    {
     "name": "stdout",
     "output_type": "stream",
     "text": [
      "epoch42; D_loss: 0.5856; G_loss: 2.8426\n"
     ]
    },
    {
     "name": "stderr",
     "output_type": "stream",
     "text": [
      "100%|██████████| 938/938 [00:33<00:00, 28.00it/s]\n"
     ]
    },
    {
     "name": "stdout",
     "output_type": "stream",
     "text": [
      "epoch43; D_loss: 0.5743; G_loss: 2.8351\n"
     ]
    },
    {
     "name": "stderr",
     "output_type": "stream",
     "text": [
      "100%|██████████| 938/938 [00:33<00:00, 28.18it/s]\n"
     ]
    },
    {
     "name": "stdout",
     "output_type": "stream",
     "text": [
      "epoch44; D_loss: 0.5726; G_loss: 2.8456\n"
     ]
    },
    {
     "name": "stderr",
     "output_type": "stream",
     "text": [
      "100%|██████████| 938/938 [00:33<00:00, 28.21it/s]\n"
     ]
    },
    {
     "name": "stdout",
     "output_type": "stream",
     "text": [
      "epoch45; D_loss: 0.5698; G_loss: 2.8791\n"
     ]
    },
    {
     "name": "stderr",
     "output_type": "stream",
     "text": [
      "100%|██████████| 938/938 [00:33<00:00, 27.95it/s]\n"
     ]
    },
    {
     "name": "stdout",
     "output_type": "stream",
     "text": [
      "epoch46; D_loss: 0.5723; G_loss: 2.8941\n"
     ]
    },
    {
     "name": "stderr",
     "output_type": "stream",
     "text": [
      "100%|██████████| 938/938 [00:35<00:00, 26.31it/s]\n"
     ]
    },
    {
     "name": "stdout",
     "output_type": "stream",
     "text": [
      "epoch47; D_loss: 0.5668; G_loss: 2.9014\n"
     ]
    },
    {
     "name": "stderr",
     "output_type": "stream",
     "text": [
      "100%|██████████| 938/938 [00:37<00:00, 24.94it/s]\n"
     ]
    },
    {
     "name": "stdout",
     "output_type": "stream",
     "text": [
      "epoch48; D_loss: 0.5661; G_loss: 2.8946\n"
     ]
    },
    {
     "name": "stderr",
     "output_type": "stream",
     "text": [
      "100%|██████████| 938/938 [00:36<00:00, 25.61it/s]\n"
     ]
    },
    {
     "name": "stdout",
     "output_type": "stream",
     "text": [
      "epoch49; D_loss: 0.5668; G_loss: 2.9273\n"
     ]
    }
   ],
   "source": [
    "\n",
    "# Hyperparameters\n",
    "mb_size = 64\n",
    "Z_dim = 1000\n",
    "h_dim = 128\n",
    "lr = 1e-3\n",
    "\n",
    "# Load MNIST data\n",
    "transform = transforms.Compose([\n",
    "    transforms.ToTensor(),\n",
    "    transforms.Lambda(lambda x: x.view(-1))  # Flatten the 28x28 image to 784\n",
    "])\n",
    "\n",
    "train_dataset = datasets.MNIST(root='../MNIST', train=True, transform=transform, download=True)\n",
    "train_loader = DataLoader(train_dataset, batch_size=mb_size, shuffle=True)\n",
    "\n",
    "X_dim = 784  # 28 x 28\n",
    "\n",
    "# Xavier Initialization\n",
    "def xavier_init(m):\n",
    "    if isinstance(m, nn.Linear):\n",
    "        nn.init.xavier_normal_(m.weight)\n",
    "        if m.bias is not None:\n",
    "            nn.init.zeros_(m.bias)\n",
    "\n",
    "# Generator\n",
    "# z dim is the noise vector, that the generator initially samples from, then passes it through the hidden layer\n",
    "# of size h_dim, and produce output of size x_dim\n",
    "class Generator(nn.Module):\n",
    "    def __init__(self, z_dim, h_dim, x_dim):\n",
    "        super(Generator, self).__init__()\n",
    "        self.fc1 = nn.Linear(z_dim, h_dim)\n",
    "        self.fc2 = nn.Linear(h_dim, x_dim)\n",
    "        self.apply(xavier_init)\n",
    "\n",
    "    def forward(self, z):\n",
    "        h = F.relu(self.fc1(z))\n",
    "        out = torch.sigmoid(self.fc2(h))\n",
    "        return out\n",
    "\n",
    "# Discriminator\n",
    "# x_dim is the size of the fake image, then it passes it through a hidden_layer of size h_dim and produces output\n",
    "# of dimension 1 (binary - yes or no)\n",
    "class Discriminator(nn.Module):\n",
    "    def __init__(self, x_dim, h_dim):\n",
    "        super(Discriminator, self).__init__()\n",
    "        self.fc1 = nn.Linear(x_dim, h_dim)\n",
    "        self.fc2 = nn.Linear(h_dim, 1)\n",
    "        self.apply(xavier_init)\n",
    "\n",
    "    def forward(self, x):\n",
    "        h = F.relu(self.fc1(x))\n",
    "        out = torch.sigmoid(self.fc2(h))\n",
    "        return out\n",
    "\n",
    "\n",
    "\n",
    "# Training\n",
    "def cGANTraining(G, D, loss_fn, train_loader):\n",
    "    G.train()\n",
    "    D.train()\n",
    "\n",
    "    D_loss_real_total = 0\n",
    "    D_loss_fake_total = 0\n",
    "    G_loss_total = 0\n",
    "    # gives a progress bar for train loader\n",
    "    t = tqdm.tqdm(train_loader)\n",
    "    \n",
    "    for it, (X_real, labels) in enumerate(t):\n",
    "        # Prepare real data\n",
    "        X_real = X_real.float().to(device)\n",
    "\n",
    "        # Sample noise and labels\n",
    "        z = torch.randn(X_real.size(0), Z_dim).to(device)\n",
    "        ones_label = torch.ones(X_real.size(0), 1).to(device)\n",
    "        zeros_label = torch.zeros(X_real.size(0), 1).to(device)\n",
    "\n",
    "        # discriminator\n",
    "        G_sample = G(z)\n",
    "        D_real = D(X_real)\n",
    "        # detach the forward prop from the original generator's gradients. We are training the discriminator,\n",
    "        # don't touch the generator's gradients\n",
    "        D_fake = D(G_sample.detach())\n",
    "\n",
    "        D_loss_real = loss_fn(D_real, ones_label)\n",
    "        D_loss_fake = loss_fn(D_fake, zeros_label)\n",
    "        D_loss = D_loss_real + D_loss_fake\n",
    "        D_loss_real_total += D_loss_real.item()\n",
    "        D_loss_fake_total += D_loss_fake.item()\n",
    "\n",
    "        D_solver.zero_grad()\n",
    "        D_loss.backward()\n",
    "        D_solver.step()\n",
    "\n",
    "        # generator\n",
    "        # resample z and g_sample since the previous G_sample was detached\n",
    "        z = torch.randn(X_real.size(0), Z_dim).to(device)\n",
    "        G_sample = G(z)\n",
    "        D_fake = D(G_sample)\n",
    "\n",
    "        G_loss = loss_fn(D_fake, ones_label)\n",
    "        G_loss_total += G_loss.item()\n",
    "\n",
    "        G_solver.zero_grad()\n",
    "        G_loss.backward()\n",
    "        G_solver.step()\n",
    "\n",
    "    D_loss_real_avg = D_loss_real_total / len(train_loader)\n",
    "    D_loss_fake_avg = D_loss_fake_total / len(train_loader)\n",
    "    D_loss_avg = D_loss_real_avg + D_loss_fake_avg\n",
    "    G_loss_avg = G_loss_total / len(train_loader)\n",
    "\n",
    "    wandb.log({\n",
    "        \"D_loss_real\": D_loss_real_avg,\n",
    "        \"D_loss_fake\": D_loss_fake_avg,\n",
    "        \"D_loss\": D_loss_avg,\n",
    "        \"G_loss\": G_loss_avg\n",
    "    })\n",
    "\n",
    "    return G, D, G_loss_avg, D_loss_avg\n",
    "    \n",
    "\n",
    "\n",
    "def save_sample(G, epoch, mb_size, Z_dim):\n",
    "    out_dir = \"out_vanila_GAN2\"\n",
    "    G.eval()\n",
    "    with torch.no_grad():\n",
    "        z = torch.randn(mb_size, Z_dim).to(device)\n",
    "        samples = G(z).detach().cpu().numpy()[:16]\n",
    "\n",
    "    fig = plt.figure(figsize=(4, 4))\n",
    "    gs = gridspec.GridSpec(4, 4)\n",
    "    gs.update(wspace=0.05, hspace=0.05)\n",
    "\n",
    "    for i, sample in enumerate(samples):\n",
    "        ax = plt.subplot(gs[i])\n",
    "        plt.axis('off')\n",
    "        ax.set_xticklabels([])\n",
    "        ax.set_yticklabels([])\n",
    "        ax.set_aspect('equal')\n",
    "        plt.imshow(sample.reshape(28, 28), cmap='Greys_r')\n",
    "\n",
    "    if not os.path.exists(f'{out_dir}'):\n",
    "        os.makedirs(f'{out_dir}')\n",
    "\n",
    "    plt.savefig(f'{out_dir}/{str(epoch).zfill(3)}.png', bbox_inches='tight')\n",
    "    plt.close(fig)\n",
    "\n",
    "\n",
    "\n",
    "# main\n",
    "wandb_log = True\n",
    "device = torch.device(\"cuda:0\" if torch.cuda.is_available() else \"cpu\")\n",
    "\n",
    "# Instantiate models\n",
    "G = Generator(Z_dim, h_dim, X_dim).to(device)\n",
    "D = Discriminator(X_dim, h_dim).to(device)\n",
    "\n",
    "# Optimizers\n",
    "G_solver = optim.Adam(G.parameters(), lr=lr)\n",
    "D_solver = optim.Adam(D.parameters(), lr=lr)\n",
    "\n",
    "# Loss function\n",
    "def my_bce_loss(preds, targets):\n",
    "    return F.binary_cross_entropy(preds, targets)\n",
    "\n",
    "#loss_fn = nn.BCEWithLogitsLoss()\n",
    "loss_fn = my_bce_loss\n",
    "\n",
    "if wandb_log: \n",
    "    wandb.init(project=\"conditional-gan-mnist\")\n",
    "\n",
    "    # Log hyperparameters\n",
    "    wandb.config.update({\n",
    "        \"batch_size\": mb_size,\n",
    "        \"Z_dim\": Z_dim,\n",
    "        \"X_dim\": X_dim,\n",
    "        \"h_dim\": h_dim,\n",
    "        \"lr\": lr,\n",
    "    })\n",
    "\n",
    "best_g_loss = float('inf')  # Initialize best generator loss\n",
    "save_dir = 'checkpoints'\n",
    "os.makedirs(save_dir, exist_ok=True)\n",
    "\n",
    "#Train epochs\n",
    "epochs = 50\n",
    "\n",
    "for epoch in range(epochs):\n",
    "    G, D, G_loss_avg, D_loss_avg= cGANTraining(G, D, loss_fn, train_loader)\n",
    "\n",
    "    print(f'epoch{epoch}; D_loss: {D_loss_avg:.4f}; G_loss: {G_loss_avg:.4f}')\n",
    "\n",
    "    if G_loss_avg < best_g_loss:\n",
    "        best_g_loss = G_loss_avg\n",
    "        torch.save(G.state_dict(), os.path.join(save_dir, 'G_best.pth'))\n",
    "        torch.save(D.state_dict(), os.path.join(save_dir, 'D_best.pth'))\n",
    "        print(f\"Saved Best Models at epoch {epoch} | G_loss: {best_g_loss:.4f}\")\n",
    "\n",
    "    save_sample(G, epoch, mb_size, Z_dim)\n",
    "\n",
    "\n",
    "# Inference    \n",
    "# G.load_state_dict(torch.load('checkpoints/G_best.pth'))\n",
    "# G.eval()\n",
    "\n",
    "# save_sample(G, \"best\", mb_size, Z_dim)"
   ]
  },
  {
   "cell_type": "markdown",
   "id": "dcdf6eb7",
   "metadata": {},
   "source": [
    "TASK 2\n",
    "\n",
    "Run the same code with a different loss function: Logistic loss as described in Brandon\n",
    "Amos blog Brandon Amos blog and compare the results with above Task 1. You may need\n",
    "to modify the network architectures slightly with logit loss. Run the code for 5, 10 and\n",
    "50 epochs and observe the results in both cases. How/why is the output different for both\n",
    "cases? Try to find a suitable reason for both."
   ]
  },
  {
   "cell_type": "code",
   "execution_count": null,
   "id": "9e95065a",
   "metadata": {},
   "outputs": [
    {
     "data": {
      "text/html": [
       "Finishing previous runs because reinit is set to 'default'."
      ],
      "text/plain": [
       "<IPython.core.display.HTML object>"
      ]
     },
     "metadata": {},
     "output_type": "display_data"
    },
    {
     "data": {
      "text/html": [],
      "text/plain": [
       "<IPython.core.display.HTML object>"
      ]
     },
     "metadata": {},
     "output_type": "display_data"
    },
    {
     "data": {
      "text/html": [
       "<br>    <style><br>        .wandb-row {<br>            display: flex;<br>            flex-direction: row;<br>            flex-wrap: wrap;<br>            justify-content: flex-start;<br>            width: 100%;<br>        }<br>        .wandb-col {<br>            display: flex;<br>            flex-direction: column;<br>            flex-basis: 100%;<br>            flex: 1;<br>            padding: 10px;<br>        }<br>    </style><br><div class=\"wandb-row\"><div class=\"wandb-col\"><h3>Run history:</h3><br/><table class=\"wandb\"><tr><td>D_loss</td><td>▁▁▁▂▃▄▆▇▇█</td></tr><tr><td>D_loss_fake</td><td>▁▁▁▂▃▄▆▇▇█</td></tr><tr><td>D_loss_real</td><td>▂▁▁▂▃▅▆▇▇█</td></tr><tr><td>G_loss</td><td>█▇▆▇▅▄▃▂▁▁</td></tr></table><br/></div><div class=\"wandb-col\"><h3>Run summary:</h3><br/><table class=\"wandb\"><tr><td>D_loss</td><td>0.59391</td></tr><tr><td>D_loss_fake</td><td>0.27208</td></tr><tr><td>D_loss_real</td><td>0.32183</td></tr><tr><td>G_loss</td><td>2.77886</td></tr></table><br/></div></div>"
      ],
      "text/plain": [
       "<IPython.core.display.HTML object>"
      ]
     },
     "metadata": {},
     "output_type": "display_data"
    },
    {
     "data": {
      "text/html": [
       " View run <strong style=\"color:#cdcd00\">divine-haze-5</strong> at: <a href='https://wandb.ai/nicholastoh3-nanyang-technological-university-singapore/conditional-gan-mnist/runs/j5uwb68x' target=\"_blank\">https://wandb.ai/nicholastoh3-nanyang-technological-university-singapore/conditional-gan-mnist/runs/j5uwb68x</a><br> View project at: <a href='https://wandb.ai/nicholastoh3-nanyang-technological-university-singapore/conditional-gan-mnist' target=\"_blank\">https://wandb.ai/nicholastoh3-nanyang-technological-university-singapore/conditional-gan-mnist</a><br>Synced 5 W&B file(s), 0 media file(s), 0 artifact file(s) and 0 other file(s)"
      ],
      "text/plain": [
       "<IPython.core.display.HTML object>"
      ]
     },
     "metadata": {},
     "output_type": "display_data"
    },
    {
     "data": {
      "text/html": [
       "Find logs at: <code>.\\wandb\\run-20250425_113800-j5uwb68x\\logs</code>"
      ],
      "text/plain": [
       "<IPython.core.display.HTML object>"
      ]
     },
     "metadata": {},
     "output_type": "display_data"
    },
    {
     "data": {
      "text/html": [
       "creating run (0.4s)"
      ],
      "text/plain": [
       "<IPython.core.display.HTML object>"
      ]
     },
     "metadata": {},
     "output_type": "display_data"
    },
    {
     "data": {
      "text/html": [
       "Tracking run with wandb version 0.19.10"
      ],
      "text/plain": [
       "<IPython.core.display.HTML object>"
      ]
     },
     "metadata": {},
     "output_type": "display_data"
    },
    {
     "data": {
      "text/html": [
       "Run data is saved locally in <code>c:\\Users\\nicho\\AppData\\Local\\Programs\\Microsoft VS Code\\wandb\\run-20250425_114444-q0u9e4c1</code>"
      ],
      "text/plain": [
       "<IPython.core.display.HTML object>"
      ]
     },
     "metadata": {},
     "output_type": "display_data"
    },
    {
     "data": {
      "text/html": [
       "Syncing run <strong><a href='https://wandb.ai/nicholastoh3-nanyang-technological-university-singapore/conditional-gan-mnist/runs/q0u9e4c1' target=\"_blank\">smart-moon-6</a></strong> to <a href='https://wandb.ai/nicholastoh3-nanyang-technological-university-singapore/conditional-gan-mnist' target=\"_blank\">Weights & Biases</a> (<a href='https://wandb.me/developer-guide' target=\"_blank\">docs</a>)<br>"
      ],
      "text/plain": [
       "<IPython.core.display.HTML object>"
      ]
     },
     "metadata": {},
     "output_type": "display_data"
    },
    {
     "data": {
      "text/html": [
       " View project at <a href='https://wandb.ai/nicholastoh3-nanyang-technological-university-singapore/conditional-gan-mnist' target=\"_blank\">https://wandb.ai/nicholastoh3-nanyang-technological-university-singapore/conditional-gan-mnist</a>"
      ],
      "text/plain": [
       "<IPython.core.display.HTML object>"
      ]
     },
     "metadata": {},
     "output_type": "display_data"
    },
    {
     "data": {
      "text/html": [
       " View run at <a href='https://wandb.ai/nicholastoh3-nanyang-technological-university-singapore/conditional-gan-mnist/runs/q0u9e4c1' target=\"_blank\">https://wandb.ai/nicholastoh3-nanyang-technological-university-singapore/conditional-gan-mnist/runs/q0u9e4c1</a>"
      ],
      "text/plain": [
       "<IPython.core.display.HTML object>"
      ]
     },
     "metadata": {},
     "output_type": "display_data"
    },
    {
     "name": "stderr",
     "output_type": "stream",
     "text": [
      "100%|██████████| 938/938 [00:35<00:00, 26.14it/s]\n"
     ]
    },
    {
     "name": "stdout",
     "output_type": "stream",
     "text": [
      "epoch0; D_loss: 0.0684; G_loss: 7.7240\n",
      "Saved Best Models at epoch 0 | G_loss: 7.7240\n"
     ]
    },
    {
     "name": "stderr",
     "output_type": "stream",
     "text": [
      "100%|██████████| 938/938 [00:35<00:00, 26.41it/s]\n"
     ]
    },
    {
     "name": "stdout",
     "output_type": "stream",
     "text": [
      "epoch1; D_loss: 0.0182; G_loss: 7.9581\n"
     ]
    },
    {
     "name": "stderr",
     "output_type": "stream",
     "text": [
      "100%|██████████| 938/938 [00:33<00:00, 27.96it/s]\n"
     ]
    },
    {
     "name": "stdout",
     "output_type": "stream",
     "text": [
      "epoch2; D_loss: 0.0201; G_loss: 6.9433\n",
      "Saved Best Models at epoch 2 | G_loss: 6.9433\n"
     ]
    },
    {
     "name": "stderr",
     "output_type": "stream",
     "text": [
      "100%|██████████| 938/938 [00:32<00:00, 28.88it/s]\n"
     ]
    },
    {
     "name": "stdout",
     "output_type": "stream",
     "text": [
      "epoch3; D_loss: 0.0334; G_loss: 6.1360\n",
      "Saved Best Models at epoch 3 | G_loss: 6.1360\n"
     ]
    },
    {
     "name": "stderr",
     "output_type": "stream",
     "text": [
      "100%|██████████| 938/938 [00:32<00:00, 29.09it/s]\n"
     ]
    },
    {
     "name": "stdout",
     "output_type": "stream",
     "text": [
      "epoch4; D_loss: 0.0619; G_loss: 6.8778\n"
     ]
    },
    {
     "name": "stderr",
     "output_type": "stream",
     "text": [
      "100%|██████████| 938/938 [00:31<00:00, 29.37it/s]\n"
     ]
    },
    {
     "name": "stdout",
     "output_type": "stream",
     "text": [
      "epoch5; D_loss: 0.1417; G_loss: 5.4294\n",
      "Saved Best Models at epoch 5 | G_loss: 5.4294\n"
     ]
    },
    {
     "name": "stderr",
     "output_type": "stream",
     "text": [
      "100%|██████████| 938/938 [00:32<00:00, 28.93it/s]\n"
     ]
    },
    {
     "name": "stdout",
     "output_type": "stream",
     "text": [
      "epoch6; D_loss: 0.2505; G_loss: 4.7099\n",
      "Saved Best Models at epoch 6 | G_loss: 4.7099\n"
     ]
    },
    {
     "name": "stderr",
     "output_type": "stream",
     "text": [
      "100%|██████████| 938/938 [00:31<00:00, 29.44it/s]\n"
     ]
    },
    {
     "name": "stdout",
     "output_type": "stream",
     "text": [
      "epoch7; D_loss: 0.3778; G_loss: 3.7889\n",
      "Saved Best Models at epoch 7 | G_loss: 3.7889\n"
     ]
    },
    {
     "name": "stderr",
     "output_type": "stream",
     "text": [
      "100%|██████████| 938/938 [00:32<00:00, 29.07it/s]\n"
     ]
    },
    {
     "name": "stdout",
     "output_type": "stream",
     "text": [
      "epoch8; D_loss: 0.4764; G_loss: 3.0556\n",
      "Saved Best Models at epoch 8 | G_loss: 3.0556\n"
     ]
    },
    {
     "name": "stderr",
     "output_type": "stream",
     "text": [
      "100%|██████████| 938/938 [00:32<00:00, 28.58it/s]\n"
     ]
    },
    {
     "name": "stdout",
     "output_type": "stream",
     "text": [
      "epoch9; D_loss: 0.5670; G_loss: 2.9268\n",
      "Saved Best Models at epoch 9 | G_loss: 2.9268\n"
     ]
    },
    {
     "name": "stderr",
     "output_type": "stream",
     "text": [
      "100%|██████████| 938/938 [00:32<00:00, 29.09it/s]\n"
     ]
    },
    {
     "name": "stdout",
     "output_type": "stream",
     "text": [
      "epoch10; D_loss: 0.6404; G_loss: 2.5768\n",
      "Saved Best Models at epoch 10 | G_loss: 2.5768\n"
     ]
    },
    {
     "name": "stderr",
     "output_type": "stream",
     "text": [
      "100%|██████████| 938/938 [00:32<00:00, 28.99it/s]\n"
     ]
    },
    {
     "name": "stdout",
     "output_type": "stream",
     "text": [
      "epoch11; D_loss: 0.6600; G_loss: 2.4181\n",
      "Saved Best Models at epoch 11 | G_loss: 2.4181\n"
     ]
    },
    {
     "name": "stderr",
     "output_type": "stream",
     "text": [
      "100%|██████████| 938/938 [00:32<00:00, 29.27it/s]\n"
     ]
    },
    {
     "name": "stdout",
     "output_type": "stream",
     "text": [
      "epoch12; D_loss: 0.6907; G_loss: 2.4023\n",
      "Saved Best Models at epoch 12 | G_loss: 2.4023\n"
     ]
    },
    {
     "name": "stderr",
     "output_type": "stream",
     "text": [
      "100%|██████████| 938/938 [00:32<00:00, 29.16it/s]\n"
     ]
    },
    {
     "name": "stdout",
     "output_type": "stream",
     "text": [
      "epoch13; D_loss: 0.7025; G_loss: 2.2260\n",
      "Saved Best Models at epoch 13 | G_loss: 2.2260\n"
     ]
    },
    {
     "name": "stderr",
     "output_type": "stream",
     "text": [
      "100%|██████████| 938/938 [00:32<00:00, 29.27it/s]\n"
     ]
    },
    {
     "name": "stdout",
     "output_type": "stream",
     "text": [
      "epoch14; D_loss: 0.7067; G_loss: 2.2303\n"
     ]
    },
    {
     "name": "stderr",
     "output_type": "stream",
     "text": [
      "100%|██████████| 938/938 [00:32<00:00, 29.21it/s]\n"
     ]
    },
    {
     "name": "stdout",
     "output_type": "stream",
     "text": [
      "epoch15; D_loss: 0.7174; G_loss: 2.1903\n",
      "Saved Best Models at epoch 15 | G_loss: 2.1903\n"
     ]
    },
    {
     "name": "stderr",
     "output_type": "stream",
     "text": [
      "100%|██████████| 938/938 [00:32<00:00, 29.20it/s]\n"
     ]
    },
    {
     "name": "stdout",
     "output_type": "stream",
     "text": [
      "epoch16; D_loss: 0.7230; G_loss: 2.1059\n",
      "Saved Best Models at epoch 16 | G_loss: 2.1059\n"
     ]
    },
    {
     "name": "stderr",
     "output_type": "stream",
     "text": [
      "100%|██████████| 938/938 [00:31<00:00, 29.53it/s]\n"
     ]
    },
    {
     "name": "stdout",
     "output_type": "stream",
     "text": [
      "epoch17; D_loss: 0.7083; G_loss: 2.1750\n"
     ]
    },
    {
     "name": "stderr",
     "output_type": "stream",
     "text": [
      "100%|██████████| 938/938 [00:31<00:00, 29.41it/s]\n"
     ]
    },
    {
     "name": "stdout",
     "output_type": "stream",
     "text": [
      "epoch18; D_loss: 0.7210; G_loss: 2.1350\n"
     ]
    },
    {
     "name": "stderr",
     "output_type": "stream",
     "text": [
      "100%|██████████| 938/938 [00:31<00:00, 29.41it/s]\n"
     ]
    },
    {
     "name": "stdout",
     "output_type": "stream",
     "text": [
      "epoch19; D_loss: 0.7006; G_loss: 2.1306\n"
     ]
    },
    {
     "name": "stderr",
     "output_type": "stream",
     "text": [
      "100%|██████████| 938/938 [00:32<00:00, 29.14it/s]\n"
     ]
    },
    {
     "name": "stdout",
     "output_type": "stream",
     "text": [
      "epoch20; D_loss: 0.6901; G_loss: 2.1784\n"
     ]
    },
    {
     "name": "stderr",
     "output_type": "stream",
     "text": [
      "100%|██████████| 938/938 [00:31<00:00, 29.49it/s]\n"
     ]
    },
    {
     "name": "stdout",
     "output_type": "stream",
     "text": [
      "epoch21; D_loss: 0.6783; G_loss: 2.2219\n"
     ]
    },
    {
     "name": "stderr",
     "output_type": "stream",
     "text": [
      "100%|██████████| 938/938 [00:32<00:00, 29.21it/s]\n"
     ]
    },
    {
     "name": "stdout",
     "output_type": "stream",
     "text": [
      "epoch22; D_loss: 0.6680; G_loss: 2.2547\n"
     ]
    },
    {
     "name": "stderr",
     "output_type": "stream",
     "text": [
      "100%|██████████| 938/938 [00:32<00:00, 28.95it/s]\n"
     ]
    },
    {
     "name": "stdout",
     "output_type": "stream",
     "text": [
      "epoch23; D_loss: 0.6589; G_loss: 2.2913\n"
     ]
    },
    {
     "name": "stderr",
     "output_type": "stream",
     "text": [
      "100%|██████████| 938/938 [00:32<00:00, 28.90it/s]\n"
     ]
    },
    {
     "name": "stdout",
     "output_type": "stream",
     "text": [
      "epoch24; D_loss: 0.6573; G_loss: 2.3208\n"
     ]
    },
    {
     "name": "stderr",
     "output_type": "stream",
     "text": [
      "100%|██████████| 938/938 [00:32<00:00, 29.12it/s]\n"
     ]
    },
    {
     "name": "stdout",
     "output_type": "stream",
     "text": [
      "epoch25; D_loss: 0.6460; G_loss: 2.3487\n"
     ]
    },
    {
     "name": "stderr",
     "output_type": "stream",
     "text": [
      "100%|██████████| 938/938 [00:32<00:00, 28.43it/s]\n"
     ]
    },
    {
     "name": "stdout",
     "output_type": "stream",
     "text": [
      "epoch26; D_loss: 0.6384; G_loss: 2.3874\n"
     ]
    },
    {
     "name": "stderr",
     "output_type": "stream",
     "text": [
      "100%|██████████| 938/938 [00:32<00:00, 29.09it/s]\n"
     ]
    },
    {
     "name": "stdout",
     "output_type": "stream",
     "text": [
      "epoch27; D_loss: 0.6334; G_loss: 2.4121\n"
     ]
    },
    {
     "name": "stderr",
     "output_type": "stream",
     "text": [
      "100%|██████████| 938/938 [00:32<00:00, 29.07it/s]\n"
     ]
    },
    {
     "name": "stdout",
     "output_type": "stream",
     "text": [
      "epoch28; D_loss: 0.6278; G_loss: 2.4493\n"
     ]
    },
    {
     "name": "stderr",
     "output_type": "stream",
     "text": [
      "100%|██████████| 938/938 [00:31<00:00, 29.34it/s]\n"
     ]
    },
    {
     "name": "stdout",
     "output_type": "stream",
     "text": [
      "epoch29; D_loss: 0.6161; G_loss: 2.5150\n"
     ]
    },
    {
     "name": "stderr",
     "output_type": "stream",
     "text": [
      "100%|██████████| 938/938 [00:32<00:00, 29.02it/s]\n"
     ]
    },
    {
     "name": "stdout",
     "output_type": "stream",
     "text": [
      "epoch30; D_loss: 0.6118; G_loss: 2.5148\n"
     ]
    },
    {
     "name": "stderr",
     "output_type": "stream",
     "text": [
      "100%|██████████| 938/938 [00:32<00:00, 29.16it/s]\n"
     ]
    },
    {
     "name": "stdout",
     "output_type": "stream",
     "text": [
      "epoch31; D_loss: 0.6065; G_loss: 2.5274\n"
     ]
    },
    {
     "name": "stderr",
     "output_type": "stream",
     "text": [
      "100%|██████████| 938/938 [00:32<00:00, 29.02it/s]\n"
     ]
    },
    {
     "name": "stdout",
     "output_type": "stream",
     "text": [
      "epoch32; D_loss: 0.5983; G_loss: 2.5734\n"
     ]
    },
    {
     "name": "stderr",
     "output_type": "stream",
     "text": [
      "100%|██████████| 938/938 [00:32<00:00, 29.04it/s]\n"
     ]
    },
    {
     "name": "stdout",
     "output_type": "stream",
     "text": [
      "epoch33; D_loss: 0.5886; G_loss: 2.6054\n"
     ]
    },
    {
     "name": "stderr",
     "output_type": "stream",
     "text": [
      "100%|██████████| 938/938 [00:32<00:00, 28.92it/s]\n"
     ]
    },
    {
     "name": "stdout",
     "output_type": "stream",
     "text": [
      "epoch34; D_loss: 0.5841; G_loss: 2.6440\n"
     ]
    },
    {
     "name": "stderr",
     "output_type": "stream",
     "text": [
      "100%|██████████| 938/938 [00:32<00:00, 28.64it/s]\n"
     ]
    },
    {
     "name": "stdout",
     "output_type": "stream",
     "text": [
      "epoch35; D_loss: 0.5795; G_loss: 2.6491\n"
     ]
    },
    {
     "name": "stderr",
     "output_type": "stream",
     "text": [
      "100%|██████████| 938/938 [00:33<00:00, 28.07it/s]\n"
     ]
    },
    {
     "name": "stdout",
     "output_type": "stream",
     "text": [
      "epoch36; D_loss: 0.5754; G_loss: 2.6793\n"
     ]
    },
    {
     "name": "stderr",
     "output_type": "stream",
     "text": [
      "100%|██████████| 938/938 [00:32<00:00, 28.84it/s]\n"
     ]
    },
    {
     "name": "stdout",
     "output_type": "stream",
     "text": [
      "epoch37; D_loss: 0.5620; G_loss: 2.6989\n"
     ]
    },
    {
     "name": "stderr",
     "output_type": "stream",
     "text": [
      "100%|██████████| 938/938 [00:32<00:00, 28.91it/s]\n"
     ]
    },
    {
     "name": "stdout",
     "output_type": "stream",
     "text": [
      "epoch38; D_loss: 0.5616; G_loss: 2.7452\n"
     ]
    },
    {
     "name": "stderr",
     "output_type": "stream",
     "text": [
      "100%|██████████| 938/938 [00:32<00:00, 28.96it/s]\n"
     ]
    },
    {
     "name": "stdout",
     "output_type": "stream",
     "text": [
      "epoch39; D_loss: 0.5574; G_loss: 2.7606\n"
     ]
    },
    {
     "name": "stderr",
     "output_type": "stream",
     "text": [
      "100%|██████████| 938/938 [00:32<00:00, 28.70it/s]\n"
     ]
    },
    {
     "name": "stdout",
     "output_type": "stream",
     "text": [
      "epoch40; D_loss: 0.5493; G_loss: 2.8229\n"
     ]
    },
    {
     "name": "stderr",
     "output_type": "stream",
     "text": [
      "100%|██████████| 938/938 [00:32<00:00, 28.80it/s]\n"
     ]
    },
    {
     "name": "stdout",
     "output_type": "stream",
     "text": [
      "epoch41; D_loss: 0.5486; G_loss: 2.8204\n"
     ]
    },
    {
     "name": "stderr",
     "output_type": "stream",
     "text": [
      "100%|██████████| 938/938 [00:32<00:00, 28.60it/s]\n"
     ]
    },
    {
     "name": "stdout",
     "output_type": "stream",
     "text": [
      "epoch42; D_loss: 0.5414; G_loss: 2.8382\n"
     ]
    },
    {
     "name": "stderr",
     "output_type": "stream",
     "text": [
      "100%|██████████| 938/938 [00:32<00:00, 29.00it/s]\n"
     ]
    },
    {
     "name": "stdout",
     "output_type": "stream",
     "text": [
      "epoch43; D_loss: 0.5270; G_loss: 2.8572\n"
     ]
    },
    {
     "name": "stderr",
     "output_type": "stream",
     "text": [
      "100%|██████████| 938/938 [00:32<00:00, 28.61it/s]\n"
     ]
    },
    {
     "name": "stdout",
     "output_type": "stream",
     "text": [
      "epoch44; D_loss: 0.5202; G_loss: 2.8817\n"
     ]
    },
    {
     "name": "stderr",
     "output_type": "stream",
     "text": [
      "100%|██████████| 938/938 [00:32<00:00, 28.58it/s]\n"
     ]
    },
    {
     "name": "stdout",
     "output_type": "stream",
     "text": [
      "epoch45; D_loss: 0.5205; G_loss: 2.8754\n"
     ]
    },
    {
     "name": "stderr",
     "output_type": "stream",
     "text": [
      "100%|██████████| 938/938 [00:32<00:00, 28.81it/s]\n"
     ]
    },
    {
     "name": "stdout",
     "output_type": "stream",
     "text": [
      "epoch46; D_loss: 0.5160; G_loss: 2.8841\n"
     ]
    },
    {
     "name": "stderr",
     "output_type": "stream",
     "text": [
      "100%|██████████| 938/938 [00:32<00:00, 28.55it/s]\n"
     ]
    },
    {
     "name": "stdout",
     "output_type": "stream",
     "text": [
      "epoch47; D_loss: 0.5153; G_loss: 2.8882\n"
     ]
    },
    {
     "name": "stderr",
     "output_type": "stream",
     "text": [
      "100%|██████████| 938/938 [00:32<00:00, 28.56it/s]\n"
     ]
    },
    {
     "name": "stdout",
     "output_type": "stream",
     "text": [
      "epoch48; D_loss: 0.5091; G_loss: 2.8796\n"
     ]
    },
    {
     "name": "stderr",
     "output_type": "stream",
     "text": [
      "100%|██████████| 938/938 [00:32<00:00, 28.76it/s]\n"
     ]
    },
    {
     "name": "stdout",
     "output_type": "stream",
     "text": [
      "epoch49; D_loss: 0.5020; G_loss: 2.8865\n"
     ]
    }
   ],
   "source": [
    "# working directly with logits is more numerically stable\n",
    "\n",
    "mb_size = 64\n",
    "Z_dim = 1000\n",
    "h_dim = 128\n",
    "lr = 1e-3\n",
    "\n",
    "transform = transforms.Compose([\n",
    "    transforms.ToTensor(),\n",
    "    transforms.Lambda(lambda x: x.view(-1))  # Flatten the 28x28 image to 784\n",
    "])\n",
    "\n",
    "train_dataset = datasets.MNIST(root='../MNIST', train=True, transform=transform, download=True)\n",
    "train_loader = DataLoader(train_dataset, batch_size=mb_size, shuffle=True)\n",
    "\n",
    "X_dim = 784  # 28 x 28\n",
    "\n",
    "# Xavier Initialization\n",
    "def xavier_init(m):\n",
    "    if isinstance(m, nn.Linear):\n",
    "        nn.init.xavier_normal_(m.weight)\n",
    "        if m.bias is not None:\n",
    "            nn.init.zeros_(m.bias)\n",
    "\n",
    "# Generator\n",
    "# z dim is the noise vector, that the generator initially samples from, then passes it through the hidden layer\n",
    "# of size h_dim, and produce output of size x_dim\n",
    "class Generator(nn.Module):\n",
    "    def __init__(self, z_dim, h_dim, x_dim):\n",
    "        super(Generator, self).__init__()\n",
    "        self.fc1 = nn.Linear(z_dim, h_dim)\n",
    "        self.fc2 = nn.Linear(h_dim, x_dim)\n",
    "        self.apply(xavier_init)\n",
    "\n",
    "    def forward(self, z):\n",
    "        h = F.relu(self.fc1(z))\n",
    "        out = torch.sigmoid(self.fc2(h))\n",
    "        return out\n",
    "\n",
    "# Discriminator\n",
    "# x_dim is the size of the fake image, then it passes it through a hidden_layer of size h_dim and produces output\n",
    "# of dimension 1 (binary - yes or no)\n",
    "class Discriminator(nn.Module):\n",
    "    def __init__(self, x_dim, h_dim):\n",
    "        super(Discriminator, self).__init__()\n",
    "        self.fc1 = nn.Linear(x_dim, h_dim)\n",
    "        self.fc2 = nn.Linear(h_dim, 1)\n",
    "        self.apply(xavier_init)\n",
    "\n",
    "    def forward(self, x):\n",
    "        h = F.relu(self.fc1(x))\n",
    "        #out = torch.sigmoid(self.fc2(h))  We remove this line, because we will use the raw logits (pre-sigmoid)\n",
    "                                           #for our loss function\n",
    "        return self.fc2(h)\n",
    "\n",
    "\n",
    "\n",
    "# Training\n",
    "def cGANTraining(G, D, train_loader):\n",
    "    G.train()\n",
    "    D.train()\n",
    "\n",
    "    D_loss_real_total = 0\n",
    "    D_loss_fake_total = 0\n",
    "    G_loss_total = 0\n",
    "    # gives a progress bar for train loader\n",
    "    t = tqdm.tqdm(train_loader)\n",
    "    \n",
    "    for it, (X_real, labels) in enumerate(t):\n",
    "        # prepare real data\n",
    "        X_real = X_real.float().to(device)\n",
    "\n",
    "        # sample noise and labels\n",
    "        z = torch.randn(X_real.size(0), Z_dim).to(device)\n",
    "\n",
    "        # train discriminator\n",
    "        G_sample = G(z)\n",
    "\n",
    "        # get the raw logits of discriminator output for real and fake images\n",
    "        # e.g. if our discriminator has -3 logit, sigmoid squashes it to 0.01, which means high change\n",
    "        # it is fake, we use the -3 before it has been squashed by sigmoid here \n",
    "        D_real_logits = D(X_real)\n",
    "        D_fake_logits = D(G_sample.detach())\n",
    "\n",
    "        D_loss_real = F.binary_cross_entropy_with_logits(D_real_logits, torch.ones_like(D_real_logits))\n",
    "        D_loss_fake = F.binary_cross_entropy_with_logits(D_fake_logits, torch.zeros_like(D_fake_logits))\n",
    "        D_loss = D_loss_real + D_loss_fake\n",
    "        D_loss_real_total += D_loss_real.item()\n",
    "        D_loss_fake_total += D_loss_fake.item()\n",
    "\n",
    "        D_solver.zero_grad()\n",
    "        D_loss.backward()\n",
    "        D_solver.step()\n",
    "\n",
    "        # train generator\n",
    "        # resample z and g_sample since the previous G_sample was detached\n",
    "        z = torch.randn(X_real.size(0), Z_dim).to(device)\n",
    "        G_sample = G(z)\n",
    "        D_fake_logits = D(G_sample)\n",
    "\n",
    "        G_loss = F.binary_cross_entropy_with_logits(D_fake_logits, torch.ones_like(D_fake_logits))\n",
    "        G_loss_total += G_loss.item()\n",
    "\n",
    "        G_solver.zero_grad()\n",
    "        G_loss.backward()\n",
    "        G_solver.step()\n",
    "\n",
    "    D_loss_real_avg = D_loss_real_total / len(train_loader)\n",
    "    D_loss_fake_avg = D_loss_fake_total / len(train_loader)\n",
    "    D_loss_avg = D_loss_real_avg + D_loss_fake_avg\n",
    "    G_loss_avg = G_loss_total / len(train_loader)\n",
    "\n",
    "    wandb.log({\n",
    "        \"D_loss_real\": D_loss_real_avg,\n",
    "        \"D_loss_fake\": D_loss_fake_avg,\n",
    "        \"D_loss\": D_loss_avg,\n",
    "        \"G_loss\": G_loss_avg\n",
    "    })\n",
    "\n",
    "    return G, D, G_loss_avg, D_loss_avg\n",
    "    \n",
    "\n",
    "\n",
    "def save_sample(G, epoch, mb_size, Z_dim):\n",
    "    out_dir = \"out_logistic_loss\"\n",
    "    G.eval()\n",
    "    with torch.no_grad():\n",
    "        z = torch.randn(mb_size, Z_dim).to(device)\n",
    "        samples = G(z).detach().cpu().numpy()[:16]\n",
    "\n",
    "    fig = plt.figure(figsize=(4, 4))\n",
    "    gs = gridspec.GridSpec(4, 4)\n",
    "    gs.update(wspace=0.05, hspace=0.05)\n",
    "\n",
    "    for i, sample in enumerate(samples):\n",
    "        ax = plt.subplot(gs[i])\n",
    "        plt.axis('off')\n",
    "        ax.set_xticklabels([])\n",
    "        ax.set_yticklabels([])\n",
    "        ax.set_aspect('equal')\n",
    "        plt.imshow(sample.reshape(28, 28), cmap='Greys_r')\n",
    "\n",
    "    if not os.path.exists(f'{out_dir}'):\n",
    "        os.makedirs(f'{out_dir}')\n",
    "\n",
    "    plt.savefig(f'{out_dir}/{str(epoch).zfill(3)}.png', bbox_inches='tight')\n",
    "    plt.close(fig)\n",
    "\n",
    "\n",
    "wandb_log = True\n",
    "device = torch.device(\"cuda:0\" if torch.cuda.is_available() else \"cpu\")\n",
    "\n",
    "# instantiate models\n",
    "G = Generator(Z_dim, h_dim, X_dim).to(device)\n",
    "D = Discriminator(X_dim, h_dim).to(device)\n",
    "\n",
    "# optimizers\n",
    "G_solver = optim.Adam(G.parameters(), lr=lr)\n",
    "D_solver = optim.Adam(D.parameters(), lr=lr)\n",
    "\n",
    "# loss function\n",
    "def my_bce_loss(preds, targets):\n",
    "    return F.binary_cross_entropy(preds, targets)\n",
    "\n",
    "\n",
    "if wandb_log: \n",
    "    wandb.init(project=\"conditional-gan-mnist\")\n",
    "\n",
    "    # Log hyperparameters\n",
    "    wandb.config.update({\n",
    "        \"batch_size\": mb_size,\n",
    "        \"Z_dim\": Z_dim,\n",
    "        \"X_dim\": X_dim,\n",
    "        \"h_dim\": h_dim,\n",
    "        \"lr\": lr,\n",
    "    })\n",
    "\n",
    "best_g_loss = float('inf')  # Initialize best generator loss\n",
    "save_dir = 'checkpoints'\n",
    "os.makedirs(save_dir, exist_ok=True)\n",
    "\n",
    "for epoch in range(epochs):\n",
    "    G, D, G_loss_avg, D_loss_avg= cGANTraining(G, D, train_loader)\n",
    "\n",
    "    print(f'epoch{epoch}; D_loss: {D_loss_avg:.4f}; G_loss: {G_loss_avg:.4f}')\n",
    "\n",
    "    if G_loss_avg < best_g_loss:\n",
    "        best_g_loss = G_loss_avg\n",
    "        torch.save(G.state_dict(), os.path.join(save_dir, 'G_best.pth'))\n",
    "        torch.save(D.state_dict(), os.path.join(save_dir, 'D_best.pth'))\n",
    "        print(f\"Saved Best Models at epoch {epoch} | G_loss: {best_g_loss:.4f}\")\n",
    "\n",
    "    save_sample(G, epoch, mb_size, Z_dim)\n",
    "\n",
    "\n",
    "# Inference    \n",
    "# G.load_state_dict(torch.load('checkpoints/G_best.pth'))\n",
    "# G.eval()\n",
    "\n",
    "# save_sample(G, \"best\", mb_size, Z_dim)"
   ]
  },
  {
   "cell_type": "markdown",
   "id": "cd87ab68",
   "metadata": {},
   "source": [
    "If we look at the loss for both discriminator and generator, it seems that the logistic loss model performs better than the vanilla GAN on both fronts. (0.5 < 0.58 for discriminator, 2.88 < 2.92 for generator>)\n",
    "\n",
    "This suggests more stable and effective training. Logistic loss, by directly operating on logits, provides stronger and more consistent gradients for the generator, preventing the vanishing gradient problem often observed in vanilla GANs using the minimax loss. This is because in vanilla GAN, if we use the sigmoid (probability) that the image is fake at the start, the discriminator will give us a probability that is very close to 0, causing the vanishing gradient problem to occur more frequently. As opposed to this, with logistic loss, we will use the raw score instead, which will lead to more stable training.\n",
    "\n",
    "As a result, both networks improve more efficiently, leading to slightly faster convergence and potentially better image quality."
   ]
  },
  {
   "cell_type": "markdown",
   "id": "0eee650b",
   "metadata": {},
   "source": [
    "TASK 3\n",
    "\n",
    "The vanilla GAN only generates images of random numbers between 0-9 but has no labels\n",
    "associated with the generated images. This means that if you want it to generate MNIST-\n",
    "looking images of 3s, then it will not understand and generate a random number instead. You\n",
    "will now add/change code in your GAN from task 1 to create a conditional GAN (CGAN)\n",
    "and then plot a few generated images of any number you choose between 0-9 to see if your\n",
    "GAN knows the classes."
   ]
  },
  {
   "cell_type": "code",
   "execution_count": null,
   "id": "de0d5e75",
   "metadata": {},
   "outputs": [
    {
     "data": {
      "text/html": [
       "Finishing previous runs because reinit is set to 'default'."
      ],
      "text/plain": [
       "<IPython.core.display.HTML object>"
      ]
     },
     "metadata": {},
     "output_type": "display_data"
    },
    {
     "data": {
      "text/html": [],
      "text/plain": [
       "<IPython.core.display.HTML object>"
      ]
     },
     "metadata": {},
     "output_type": "display_data"
    },
    {
     "data": {
      "text/html": [
       "<br>    <style><br>        .wandb-row {<br>            display: flex;<br>            flex-direction: row;<br>            flex-wrap: wrap;<br>            justify-content: flex-start;<br>            width: 100%;<br>        }<br>        .wandb-col {<br>            display: flex;<br>            flex-direction: column;<br>            flex-basis: 100%;<br>            flex: 1;<br>            padding: 10px;<br>        }<br>    </style><br><div class=\"wandb-row\"><div class=\"wandb-col\"><h3>Run history:</h3><br/><table class=\"wandb\"><tr><td>D_loss</td><td>▁</td></tr><tr><td>D_loss_fake</td><td>▁</td></tr><tr><td>D_loss_real</td><td>▁</td></tr><tr><td>G_loss</td><td>▁</td></tr></table><br/></div><div class=\"wandb-col\"><h3>Run summary:</h3><br/><table class=\"wandb\"><tr><td>D_loss</td><td>0.06884</td></tr><tr><td>D_loss_fake</td><td>0.02116</td></tr><tr><td>D_loss_real</td><td>0.04769</td></tr><tr><td>G_loss</td><td>5.66566</td></tr></table><br/></div></div>"
      ],
      "text/plain": [
       "<IPython.core.display.HTML object>"
      ]
     },
     "metadata": {},
     "output_type": "display_data"
    },
    {
     "data": {
      "text/html": [
       " View run <strong style=\"color:#cdcd00\">generous-galaxy-7</strong> at: <a href='https://wandb.ai/nicholastoh3-nanyang-technological-university-singapore/conditional-gan-mnist/runs/9mo1790b' target=\"_blank\">https://wandb.ai/nicholastoh3-nanyang-technological-university-singapore/conditional-gan-mnist/runs/9mo1790b</a><br> View project at: <a href='https://wandb.ai/nicholastoh3-nanyang-technological-university-singapore/conditional-gan-mnist' target=\"_blank\">https://wandb.ai/nicholastoh3-nanyang-technological-university-singapore/conditional-gan-mnist</a><br>Synced 5 W&B file(s), 0 media file(s), 0 artifact file(s) and 0 other file(s)"
      ],
      "text/plain": [
       "<IPython.core.display.HTML object>"
      ]
     },
     "metadata": {},
     "output_type": "display_data"
    },
    {
     "data": {
      "text/html": [
       "Find logs at: <code>.\\wandb\\run-20250425_121239-9mo1790b\\logs</code>"
      ],
      "text/plain": [
       "<IPython.core.display.HTML object>"
      ]
     },
     "metadata": {},
     "output_type": "display_data"
    },
    {
     "data": {
      "text/html": [
       "creating run (0.0s)"
      ],
      "text/plain": [
       "<IPython.core.display.HTML object>"
      ]
     },
     "metadata": {},
     "output_type": "display_data"
    },
    {
     "data": {
      "text/html": [
       "Tracking run with wandb version 0.19.10"
      ],
      "text/plain": [
       "<IPython.core.display.HTML object>"
      ]
     },
     "metadata": {},
     "output_type": "display_data"
    },
    {
     "data": {
      "text/html": [
       "Run data is saved locally in <code>c:\\Users\\nicho\\AppData\\Local\\Programs\\Microsoft VS Code\\wandb\\run-20250425_174710-9mee4log</code>"
      ],
      "text/plain": [
       "<IPython.core.display.HTML object>"
      ]
     },
     "metadata": {},
     "output_type": "display_data"
    },
    {
     "data": {
      "text/html": [
       "Syncing run <strong><a href='https://wandb.ai/nicholastoh3-nanyang-technological-university-singapore/conditional-gan-mnist/runs/9mee4log' target=\"_blank\">solar-mountain-8</a></strong> to <a href='https://wandb.ai/nicholastoh3-nanyang-technological-university-singapore/conditional-gan-mnist' target=\"_blank\">Weights & Biases</a> (<a href='https://wandb.me/developer-guide' target=\"_blank\">docs</a>)<br>"
      ],
      "text/plain": [
       "<IPython.core.display.HTML object>"
      ]
     },
     "metadata": {},
     "output_type": "display_data"
    },
    {
     "data": {
      "text/html": [
       " View project at <a href='https://wandb.ai/nicholastoh3-nanyang-technological-university-singapore/conditional-gan-mnist' target=\"_blank\">https://wandb.ai/nicholastoh3-nanyang-technological-university-singapore/conditional-gan-mnist</a>"
      ],
      "text/plain": [
       "<IPython.core.display.HTML object>"
      ]
     },
     "metadata": {},
     "output_type": "display_data"
    },
    {
     "data": {
      "text/html": [
       " View run at <a href='https://wandb.ai/nicholastoh3-nanyang-technological-university-singapore/conditional-gan-mnist/runs/9mee4log' target=\"_blank\">https://wandb.ai/nicholastoh3-nanyang-technological-university-singapore/conditional-gan-mnist/runs/9mee4log</a>"
      ],
      "text/plain": [
       "<IPython.core.display.HTML object>"
      ]
     },
     "metadata": {},
     "output_type": "display_data"
    },
    {
     "name": "stderr",
     "output_type": "stream",
     "text": [
      "100%|██████████| 938/938 [00:42<00:00, 22.27it/s]\n"
     ]
    },
    {
     "name": "stdout",
     "output_type": "stream",
     "text": [
      "epoch0; D_loss: 0.0789; G_loss: 7.2874\n",
      "Saved Best Models at epoch 0 | G_loss: 7.2874\n"
     ]
    },
    {
     "name": "stderr",
     "output_type": "stream",
     "text": [
      "100%|██████████| 938/938 [00:42<00:00, 22.21it/s]\n"
     ]
    },
    {
     "name": "stdout",
     "output_type": "stream",
     "text": [
      "epoch1; D_loss: 0.0182; G_loss: 8.1953\n"
     ]
    },
    {
     "name": "stderr",
     "output_type": "stream",
     "text": [
      "100%|██████████| 938/938 [00:42<00:00, 22.13it/s]\n"
     ]
    },
    {
     "name": "stdout",
     "output_type": "stream",
     "text": [
      "epoch2; D_loss: 0.0238; G_loss: 6.5302\n",
      "Saved Best Models at epoch 2 | G_loss: 6.5302\n"
     ]
    },
    {
     "name": "stderr",
     "output_type": "stream",
     "text": [
      "100%|██████████| 938/938 [00:40<00:00, 23.13it/s]\n"
     ]
    },
    {
     "name": "stdout",
     "output_type": "stream",
     "text": [
      "epoch3; D_loss: 0.0378; G_loss: 6.3238\n",
      "Saved Best Models at epoch 3 | G_loss: 6.3238\n"
     ]
    },
    {
     "name": "stderr",
     "output_type": "stream",
     "text": [
      "100%|██████████| 938/938 [00:40<00:00, 22.93it/s]\n"
     ]
    },
    {
     "name": "stdout",
     "output_type": "stream",
     "text": [
      "epoch4; D_loss: 0.0807; G_loss: 6.0570\n",
      "Saved Best Models at epoch 4 | G_loss: 6.0570\n"
     ]
    },
    {
     "name": "stderr",
     "output_type": "stream",
     "text": [
      "100%|██████████| 938/938 [00:41<00:00, 22.79it/s]\n"
     ]
    },
    {
     "name": "stdout",
     "output_type": "stream",
     "text": [
      "epoch5; D_loss: 0.1726; G_loss: 5.3592\n",
      "Saved Best Models at epoch 5 | G_loss: 5.3592\n"
     ]
    },
    {
     "name": "stderr",
     "output_type": "stream",
     "text": [
      "100%|██████████| 938/938 [00:41<00:00, 22.52it/s]\n"
     ]
    },
    {
     "name": "stdout",
     "output_type": "stream",
     "text": [
      "epoch6; D_loss: 0.2660; G_loss: 4.7015\n",
      "Saved Best Models at epoch 6 | G_loss: 4.7015\n"
     ]
    },
    {
     "name": "stderr",
     "output_type": "stream",
     "text": [
      "100%|██████████| 938/938 [00:46<00:00, 20.27it/s]\n"
     ]
    },
    {
     "name": "stdout",
     "output_type": "stream",
     "text": [
      "epoch7; D_loss: 0.3908; G_loss: 4.3781\n",
      "Saved Best Models at epoch 7 | G_loss: 4.3781\n"
     ]
    },
    {
     "name": "stderr",
     "output_type": "stream",
     "text": [
      "100%|██████████| 938/938 [00:44<00:00, 21.21it/s]\n"
     ]
    },
    {
     "name": "stdout",
     "output_type": "stream",
     "text": [
      "epoch8; D_loss: 0.4618; G_loss: 3.7957\n",
      "Saved Best Models at epoch 8 | G_loss: 3.7957\n"
     ]
    },
    {
     "name": "stderr",
     "output_type": "stream",
     "text": [
      "100%|██████████| 938/938 [00:38<00:00, 24.64it/s]\n"
     ]
    },
    {
     "name": "stdout",
     "output_type": "stream",
     "text": [
      "epoch9; D_loss: 0.5480; G_loss: 3.2568\n",
      "Saved Best Models at epoch 9 | G_loss: 3.2568\n"
     ]
    },
    {
     "name": "stderr",
     "output_type": "stream",
     "text": [
      "100%|██████████| 938/938 [00:37<00:00, 24.85it/s]\n"
     ]
    },
    {
     "name": "stdout",
     "output_type": "stream",
     "text": [
      "epoch10; D_loss: 0.6147; G_loss: 3.1467\n",
      "Saved Best Models at epoch 10 | G_loss: 3.1467\n"
     ]
    },
    {
     "name": "stderr",
     "output_type": "stream",
     "text": [
      "100%|██████████| 938/938 [00:37<00:00, 24.81it/s]\n"
     ]
    },
    {
     "name": "stdout",
     "output_type": "stream",
     "text": [
      "epoch11; D_loss: 0.6832; G_loss: 2.8800\n",
      "Saved Best Models at epoch 11 | G_loss: 2.8800\n"
     ]
    },
    {
     "name": "stderr",
     "output_type": "stream",
     "text": [
      "100%|██████████| 938/938 [00:37<00:00, 25.07it/s]\n"
     ]
    },
    {
     "name": "stdout",
     "output_type": "stream",
     "text": [
      "epoch12; D_loss: 0.6995; G_loss: 2.6583\n",
      "Saved Best Models at epoch 12 | G_loss: 2.6583\n"
     ]
    },
    {
     "name": "stderr",
     "output_type": "stream",
     "text": [
      "100%|██████████| 938/938 [29:45<00:00,  1.90s/it]   \n"
     ]
    },
    {
     "name": "stdout",
     "output_type": "stream",
     "text": [
      "epoch13; D_loss: 0.6948; G_loss: 2.4973\n",
      "Saved Best Models at epoch 13 | G_loss: 2.4973\n"
     ]
    },
    {
     "name": "stderr",
     "output_type": "stream",
     "text": [
      "100%|██████████| 938/938 [00:22<00:00, 41.92it/s]\n"
     ]
    },
    {
     "name": "stdout",
     "output_type": "stream",
     "text": [
      "epoch14; D_loss: 0.7242; G_loss: 2.4553\n",
      "Saved Best Models at epoch 14 | G_loss: 2.4553\n"
     ]
    },
    {
     "name": "stderr",
     "output_type": "stream",
     "text": [
      "100%|██████████| 938/938 [3:00:25<00:00, 11.54s/it]     \n"
     ]
    },
    {
     "name": "stdout",
     "output_type": "stream",
     "text": [
      "epoch15; D_loss: 0.7271; G_loss: 2.3449\n",
      "Saved Best Models at epoch 15 | G_loss: 2.3449\n"
     ]
    },
    {
     "name": "stderr",
     "output_type": "stream",
     "text": [
      "100%|██████████| 938/938 [00:22<00:00, 41.97it/s]\n"
     ]
    },
    {
     "name": "stdout",
     "output_type": "stream",
     "text": [
      "epoch16; D_loss: 0.7321; G_loss: 2.2963\n",
      "Saved Best Models at epoch 16 | G_loss: 2.2963\n"
     ]
    },
    {
     "name": "stderr",
     "output_type": "stream",
     "text": [
      "100%|██████████| 938/938 [00:22<00:00, 41.42it/s]\n"
     ]
    },
    {
     "name": "stdout",
     "output_type": "stream",
     "text": [
      "epoch17; D_loss: 0.7218; G_loss: 2.2511\n",
      "Saved Best Models at epoch 17 | G_loss: 2.2511\n"
     ]
    },
    {
     "name": "stderr",
     "output_type": "stream",
     "text": [
      "100%|██████████| 938/938 [00:46<00:00, 20.03it/s]\n"
     ]
    },
    {
     "name": "stdout",
     "output_type": "stream",
     "text": [
      "epoch18; D_loss: 0.7080; G_loss: 2.2749\n"
     ]
    },
    {
     "name": "stderr",
     "output_type": "stream",
     "text": [
      "100%|██████████| 938/938 [00:40<00:00, 23.41it/s]\n"
     ]
    },
    {
     "name": "stdout",
     "output_type": "stream",
     "text": [
      "epoch19; D_loss: 0.7146; G_loss: 2.2503\n",
      "Saved Best Models at epoch 19 | G_loss: 2.2503\n"
     ]
    },
    {
     "name": "stderr",
     "output_type": "stream",
     "text": [
      "100%|██████████| 938/938 [00:40<00:00, 23.11it/s]\n"
     ]
    },
    {
     "name": "stdout",
     "output_type": "stream",
     "text": [
      "epoch20; D_loss: 0.7119; G_loss: 2.2094\n",
      "Saved Best Models at epoch 20 | G_loss: 2.2094\n"
     ]
    },
    {
     "name": "stderr",
     "output_type": "stream",
     "text": [
      "100%|██████████| 938/938 [00:41<00:00, 22.85it/s]\n"
     ]
    },
    {
     "name": "stdout",
     "output_type": "stream",
     "text": [
      "epoch21; D_loss: 0.7125; G_loss: 2.2240\n"
     ]
    },
    {
     "name": "stderr",
     "output_type": "stream",
     "text": [
      "100%|██████████| 938/938 [00:42<00:00, 22.24it/s]\n"
     ]
    },
    {
     "name": "stdout",
     "output_type": "stream",
     "text": [
      "epoch22; D_loss: 0.7052; G_loss: 2.2127\n"
     ]
    },
    {
     "name": "stderr",
     "output_type": "stream",
     "text": [
      "100%|██████████| 938/938 [00:40<00:00, 22.94it/s]\n"
     ]
    },
    {
     "name": "stdout",
     "output_type": "stream",
     "text": [
      "epoch23; D_loss: 0.7085; G_loss: 2.1762\n",
      "Saved Best Models at epoch 23 | G_loss: 2.1762\n"
     ]
    },
    {
     "name": "stderr",
     "output_type": "stream",
     "text": [
      "100%|██████████| 938/938 [00:38<00:00, 24.66it/s]\n"
     ]
    },
    {
     "name": "stdout",
     "output_type": "stream",
     "text": [
      "epoch24; D_loss: 0.7076; G_loss: 2.1970\n"
     ]
    },
    {
     "name": "stderr",
     "output_type": "stream",
     "text": [
      "100%|██████████| 938/938 [00:38<00:00, 24.57it/s]\n"
     ]
    },
    {
     "name": "stdout",
     "output_type": "stream",
     "text": [
      "epoch25; D_loss: 0.7101; G_loss: 2.1956\n"
     ]
    },
    {
     "name": "stderr",
     "output_type": "stream",
     "text": [
      "100%|██████████| 938/938 [00:38<00:00, 24.55it/s]\n"
     ]
    },
    {
     "name": "stdout",
     "output_type": "stream",
     "text": [
      "epoch26; D_loss: 0.7142; G_loss: 2.1567\n",
      "Saved Best Models at epoch 26 | G_loss: 2.1567\n"
     ]
    },
    {
     "name": "stderr",
     "output_type": "stream",
     "text": [
      "100%|██████████| 938/938 [00:37<00:00, 24.72it/s]\n"
     ]
    },
    {
     "name": "stdout",
     "output_type": "stream",
     "text": [
      "epoch27; D_loss: 0.7163; G_loss: 2.1763\n"
     ]
    },
    {
     "name": "stderr",
     "output_type": "stream",
     "text": [
      "100%|██████████| 938/938 [00:38<00:00, 24.12it/s]\n"
     ]
    },
    {
     "name": "stdout",
     "output_type": "stream",
     "text": [
      "epoch28; D_loss: 0.7123; G_loss: 2.1733\n"
     ]
    },
    {
     "name": "stderr",
     "output_type": "stream",
     "text": [
      "100%|██████████| 938/938 [00:55<00:00, 17.00it/s]\n"
     ]
    },
    {
     "name": "stdout",
     "output_type": "stream",
     "text": [
      "epoch29; D_loss: 0.7146; G_loss: 2.1716\n"
     ]
    },
    {
     "name": "stderr",
     "output_type": "stream",
     "text": [
      "100%|██████████| 938/938 [00:39<00:00, 24.03it/s]\n"
     ]
    },
    {
     "name": "stdout",
     "output_type": "stream",
     "text": [
      "epoch30; D_loss: 0.7074; G_loss: 2.1724\n"
     ]
    },
    {
     "name": "stderr",
     "output_type": "stream",
     "text": [
      "100%|██████████| 938/938 [00:39<00:00, 23.50it/s]\n"
     ]
    },
    {
     "name": "stdout",
     "output_type": "stream",
     "text": [
      "epoch31; D_loss: 0.7107; G_loss: 2.1919\n"
     ]
    },
    {
     "name": "stderr",
     "output_type": "stream",
     "text": [
      "100%|██████████| 938/938 [00:39<00:00, 23.92it/s]\n"
     ]
    },
    {
     "name": "stdout",
     "output_type": "stream",
     "text": [
      "epoch32; D_loss: 0.6973; G_loss: 2.2070\n"
     ]
    },
    {
     "name": "stderr",
     "output_type": "stream",
     "text": [
      "100%|██████████| 938/938 [00:38<00:00, 24.39it/s]\n"
     ]
    },
    {
     "name": "stdout",
     "output_type": "stream",
     "text": [
      "epoch33; D_loss: 0.6959; G_loss: 2.2127\n"
     ]
    },
    {
     "name": "stderr",
     "output_type": "stream",
     "text": [
      "100%|██████████| 938/938 [00:38<00:00, 24.55it/s]\n"
     ]
    },
    {
     "name": "stdout",
     "output_type": "stream",
     "text": [
      "epoch34; D_loss: 0.6945; G_loss: 2.2300\n"
     ]
    },
    {
     "name": "stderr",
     "output_type": "stream",
     "text": [
      "100%|██████████| 938/938 [00:41<00:00, 22.49it/s]\n"
     ]
    },
    {
     "name": "stdout",
     "output_type": "stream",
     "text": [
      "epoch35; D_loss: 0.6915; G_loss: 2.2347\n"
     ]
    },
    {
     "name": "stderr",
     "output_type": "stream",
     "text": [
      "100%|██████████| 938/938 [00:40<00:00, 22.92it/s]\n"
     ]
    },
    {
     "name": "stdout",
     "output_type": "stream",
     "text": [
      "epoch36; D_loss: 0.6867; G_loss: 2.2648\n"
     ]
    },
    {
     "name": "stderr",
     "output_type": "stream",
     "text": [
      "100%|██████████| 938/938 [00:39<00:00, 23.86it/s]\n"
     ]
    },
    {
     "name": "stdout",
     "output_type": "stream",
     "text": [
      "epoch37; D_loss: 0.6901; G_loss: 2.2595\n"
     ]
    },
    {
     "name": "stderr",
     "output_type": "stream",
     "text": [
      "100%|██████████| 938/938 [00:38<00:00, 24.32it/s]\n"
     ]
    },
    {
     "name": "stdout",
     "output_type": "stream",
     "text": [
      "epoch38; D_loss: 0.6859; G_loss: 2.2552\n"
     ]
    },
    {
     "name": "stderr",
     "output_type": "stream",
     "text": [
      "100%|██████████| 938/938 [00:39<00:00, 23.88it/s]\n"
     ]
    },
    {
     "name": "stdout",
     "output_type": "stream",
     "text": [
      "epoch39; D_loss: 0.6864; G_loss: 2.2550\n"
     ]
    },
    {
     "name": "stderr",
     "output_type": "stream",
     "text": [
      "100%|██████████| 938/938 [00:38<00:00, 24.14it/s]\n"
     ]
    },
    {
     "name": "stdout",
     "output_type": "stream",
     "text": [
      "epoch40; D_loss: 0.6840; G_loss: 2.2772\n"
     ]
    },
    {
     "name": "stderr",
     "output_type": "stream",
     "text": [
      "100%|██████████| 938/938 [00:40<00:00, 23.04it/s]\n"
     ]
    },
    {
     "name": "stdout",
     "output_type": "stream",
     "text": [
      "epoch41; D_loss: 0.6848; G_loss: 2.2620\n"
     ]
    },
    {
     "name": "stderr",
     "output_type": "stream",
     "text": [
      "100%|██████████| 938/938 [00:39<00:00, 23.55it/s]\n"
     ]
    },
    {
     "name": "stdout",
     "output_type": "stream",
     "text": [
      "epoch42; D_loss: 0.6780; G_loss: 2.2827\n"
     ]
    },
    {
     "name": "stderr",
     "output_type": "stream",
     "text": [
      "100%|██████████| 938/938 [00:42<00:00, 21.86it/s]\n"
     ]
    },
    {
     "name": "stdout",
     "output_type": "stream",
     "text": [
      "epoch43; D_loss: 0.6734; G_loss: 2.2634\n"
     ]
    },
    {
     "name": "stderr",
     "output_type": "stream",
     "text": [
      "100%|██████████| 938/938 [00:41<00:00, 22.74it/s]\n"
     ]
    },
    {
     "name": "stdout",
     "output_type": "stream",
     "text": [
      "epoch44; D_loss: 0.6721; G_loss: 2.2691\n"
     ]
    },
    {
     "name": "stderr",
     "output_type": "stream",
     "text": [
      "100%|██████████| 938/938 [00:40<00:00, 23.31it/s]\n"
     ]
    },
    {
     "name": "stdout",
     "output_type": "stream",
     "text": [
      "epoch45; D_loss: 0.6708; G_loss: 2.2802\n"
     ]
    },
    {
     "name": "stderr",
     "output_type": "stream",
     "text": [
      "100%|██████████| 938/938 [00:39<00:00, 23.58it/s]\n"
     ]
    },
    {
     "name": "stdout",
     "output_type": "stream",
     "text": [
      "epoch46; D_loss: 0.6686; G_loss: 2.2678\n"
     ]
    },
    {
     "name": "stderr",
     "output_type": "stream",
     "text": [
      "100%|██████████| 938/938 [00:40<00:00, 23.00it/s]\n"
     ]
    },
    {
     "name": "stdout",
     "output_type": "stream",
     "text": [
      "epoch47; D_loss: 0.6679; G_loss: 2.2809\n"
     ]
    },
    {
     "name": "stderr",
     "output_type": "stream",
     "text": [
      "100%|██████████| 938/938 [00:38<00:00, 24.08it/s]\n"
     ]
    },
    {
     "name": "stdout",
     "output_type": "stream",
     "text": [
      "epoch48; D_loss: 0.6647; G_loss: 2.2879\n"
     ]
    },
    {
     "name": "stderr",
     "output_type": "stream",
     "text": [
      "100%|██████████| 938/938 [00:39<00:00, 23.97it/s]\n"
     ]
    },
    {
     "name": "stdout",
     "output_type": "stream",
     "text": [
      "epoch49; D_loss: 0.6622; G_loss: 2.2782\n"
     ]
    },
    {
     "name": "stderr",
     "output_type": "stream",
     "text": [
      "100%|██████████| 938/938 [00:39<00:00, 23.49it/s]\n"
     ]
    },
    {
     "name": "stdout",
     "output_type": "stream",
     "text": [
      "epoch50; D_loss: 0.6537; G_loss: 2.3008\n"
     ]
    },
    {
     "name": "stderr",
     "output_type": "stream",
     "text": [
      "100%|██████████| 938/938 [00:38<00:00, 24.15it/s]\n"
     ]
    },
    {
     "name": "stdout",
     "output_type": "stream",
     "text": [
      "epoch51; D_loss: 0.6546; G_loss: 2.2996\n"
     ]
    },
    {
     "name": "stderr",
     "output_type": "stream",
     "text": [
      "100%|██████████| 938/938 [00:38<00:00, 24.20it/s]\n"
     ]
    },
    {
     "name": "stdout",
     "output_type": "stream",
     "text": [
      "epoch52; D_loss: 0.6457; G_loss: 2.3068\n"
     ]
    },
    {
     "name": "stderr",
     "output_type": "stream",
     "text": [
      "100%|██████████| 938/938 [00:38<00:00, 24.64it/s]\n"
     ]
    },
    {
     "name": "stdout",
     "output_type": "stream",
     "text": [
      "epoch53; D_loss: 0.6503; G_loss: 2.2959\n"
     ]
    },
    {
     "name": "stderr",
     "output_type": "stream",
     "text": [
      "100%|██████████| 938/938 [00:39<00:00, 23.57it/s]\n"
     ]
    },
    {
     "name": "stdout",
     "output_type": "stream",
     "text": [
      "epoch54; D_loss: 0.6452; G_loss: 2.3078\n"
     ]
    },
    {
     "name": "stderr",
     "output_type": "stream",
     "text": [
      "100%|██████████| 938/938 [00:44<00:00, 21.17it/s]\n"
     ]
    },
    {
     "name": "stdout",
     "output_type": "stream",
     "text": [
      "epoch55; D_loss: 0.6483; G_loss: 2.3055\n"
     ]
    },
    {
     "name": "stderr",
     "output_type": "stream",
     "text": [
      "100%|██████████| 938/938 [00:42<00:00, 21.98it/s]\n"
     ]
    },
    {
     "name": "stdout",
     "output_type": "stream",
     "text": [
      "epoch56; D_loss: 0.6382; G_loss: 2.3083\n"
     ]
    },
    {
     "name": "stderr",
     "output_type": "stream",
     "text": [
      "100%|██████████| 938/938 [00:42<00:00, 21.95it/s]\n"
     ]
    },
    {
     "name": "stdout",
     "output_type": "stream",
     "text": [
      "epoch57; D_loss: 0.6438; G_loss: 2.2976\n"
     ]
    },
    {
     "name": "stderr",
     "output_type": "stream",
     "text": [
      "100%|██████████| 938/938 [00:39<00:00, 23.91it/s]\n"
     ]
    },
    {
     "name": "stdout",
     "output_type": "stream",
     "text": [
      "epoch58; D_loss: 0.6372; G_loss: 2.2916\n"
     ]
    },
    {
     "name": "stderr",
     "output_type": "stream",
     "text": [
      "100%|██████████| 938/938 [00:39<00:00, 23.50it/s]\n"
     ]
    },
    {
     "name": "stdout",
     "output_type": "stream",
     "text": [
      "epoch59; D_loss: 0.6397; G_loss: 2.3069\n"
     ]
    },
    {
     "name": "stderr",
     "output_type": "stream",
     "text": [
      "100%|██████████| 938/938 [00:38<00:00, 24.10it/s]\n"
     ]
    },
    {
     "name": "stdout",
     "output_type": "stream",
     "text": [
      "epoch60; D_loss: 0.6367; G_loss: 2.3036\n"
     ]
    },
    {
     "name": "stderr",
     "output_type": "stream",
     "text": [
      "100%|██████████| 938/938 [00:38<00:00, 24.40it/s]\n"
     ]
    },
    {
     "name": "stdout",
     "output_type": "stream",
     "text": [
      "epoch61; D_loss: 0.6344; G_loss: 2.2925\n"
     ]
    },
    {
     "name": "stderr",
     "output_type": "stream",
     "text": [
      "100%|██████████| 938/938 [00:38<00:00, 24.09it/s]\n"
     ]
    },
    {
     "name": "stdout",
     "output_type": "stream",
     "text": [
      "epoch62; D_loss: 0.6252; G_loss: 2.3020\n"
     ]
    },
    {
     "name": "stderr",
     "output_type": "stream",
     "text": [
      "100%|██████████| 938/938 [00:40<00:00, 22.89it/s]\n"
     ]
    },
    {
     "name": "stdout",
     "output_type": "stream",
     "text": [
      "epoch63; D_loss: 0.6311; G_loss: 2.3107\n"
     ]
    },
    {
     "name": "stderr",
     "output_type": "stream",
     "text": [
      "100%|██████████| 938/938 [00:40<00:00, 23.21it/s]\n"
     ]
    },
    {
     "name": "stdout",
     "output_type": "stream",
     "text": [
      "epoch64; D_loss: 0.6301; G_loss: 2.3158\n"
     ]
    },
    {
     "name": "stderr",
     "output_type": "stream",
     "text": [
      "100%|██████████| 938/938 [00:39<00:00, 23.55it/s]\n"
     ]
    },
    {
     "name": "stdout",
     "output_type": "stream",
     "text": [
      "epoch65; D_loss: 0.6310; G_loss: 2.3138\n"
     ]
    },
    {
     "name": "stderr",
     "output_type": "stream",
     "text": [
      "100%|██████████| 938/938 [00:38<00:00, 24.18it/s]\n"
     ]
    },
    {
     "name": "stdout",
     "output_type": "stream",
     "text": [
      "epoch66; D_loss: 0.6248; G_loss: 2.3113\n"
     ]
    },
    {
     "name": "stderr",
     "output_type": "stream",
     "text": [
      "100%|██████████| 938/938 [00:38<00:00, 24.50it/s]\n"
     ]
    },
    {
     "name": "stdout",
     "output_type": "stream",
     "text": [
      "epoch67; D_loss: 0.6239; G_loss: 2.3077\n"
     ]
    },
    {
     "name": "stderr",
     "output_type": "stream",
     "text": [
      "100%|██████████| 938/938 [00:38<00:00, 24.41it/s]\n"
     ]
    },
    {
     "name": "stdout",
     "output_type": "stream",
     "text": [
      "epoch68; D_loss: 0.6252; G_loss: 2.3020\n"
     ]
    },
    {
     "name": "stderr",
     "output_type": "stream",
     "text": [
      "100%|██████████| 938/938 [00:39<00:00, 23.93it/s]\n"
     ]
    },
    {
     "name": "stdout",
     "output_type": "stream",
     "text": [
      "epoch69; D_loss: 0.6209; G_loss: 2.2925\n"
     ]
    },
    {
     "name": "stderr",
     "output_type": "stream",
     "text": [
      "100%|██████████| 938/938 [00:39<00:00, 23.80it/s]\n"
     ]
    },
    {
     "name": "stdout",
     "output_type": "stream",
     "text": [
      "epoch70; D_loss: 0.6230; G_loss: 2.3018\n"
     ]
    },
    {
     "name": "stderr",
     "output_type": "stream",
     "text": [
      "100%|██████████| 938/938 [00:38<00:00, 24.45it/s]\n"
     ]
    },
    {
     "name": "stdout",
     "output_type": "stream",
     "text": [
      "epoch71; D_loss: 0.6158; G_loss: 2.3024\n"
     ]
    },
    {
     "name": "stderr",
     "output_type": "stream",
     "text": [
      "100%|██████████| 938/938 [00:40<00:00, 22.90it/s]\n"
     ]
    },
    {
     "name": "stdout",
     "output_type": "stream",
     "text": [
      "epoch72; D_loss: 0.6157; G_loss: 2.2895\n"
     ]
    },
    {
     "name": "stderr",
     "output_type": "stream",
     "text": [
      "100%|██████████| 938/938 [00:38<00:00, 24.53it/s]\n"
     ]
    },
    {
     "name": "stdout",
     "output_type": "stream",
     "text": [
      "epoch73; D_loss: 0.6135; G_loss: 2.2872\n"
     ]
    },
    {
     "name": "stderr",
     "output_type": "stream",
     "text": [
      "100%|██████████| 938/938 [00:39<00:00, 23.99it/s]\n"
     ]
    },
    {
     "name": "stdout",
     "output_type": "stream",
     "text": [
      "epoch74; D_loss: 0.6115; G_loss: 2.2877\n"
     ]
    },
    {
     "name": "stderr",
     "output_type": "stream",
     "text": [
      "100%|██████████| 938/938 [00:40<00:00, 23.33it/s]\n"
     ]
    },
    {
     "name": "stdout",
     "output_type": "stream",
     "text": [
      "epoch75; D_loss: 0.6098; G_loss: 2.2924\n"
     ]
    },
    {
     "name": "stderr",
     "output_type": "stream",
     "text": [
      "100%|██████████| 938/938 [00:39<00:00, 23.70it/s]\n"
     ]
    },
    {
     "name": "stdout",
     "output_type": "stream",
     "text": [
      "epoch76; D_loss: 0.6078; G_loss: 2.3361\n"
     ]
    },
    {
     "name": "stderr",
     "output_type": "stream",
     "text": [
      "100%|██████████| 938/938 [00:38<00:00, 24.15it/s]\n"
     ]
    },
    {
     "name": "stdout",
     "output_type": "stream",
     "text": [
      "epoch77; D_loss: 0.6045; G_loss: 2.3315\n"
     ]
    },
    {
     "name": "stderr",
     "output_type": "stream",
     "text": [
      "100%|██████████| 938/938 [00:38<00:00, 24.68it/s]\n"
     ]
    },
    {
     "name": "stdout",
     "output_type": "stream",
     "text": [
      "epoch78; D_loss: 0.6050; G_loss: 2.3365\n"
     ]
    },
    {
     "name": "stderr",
     "output_type": "stream",
     "text": [
      "100%|██████████| 938/938 [00:42<00:00, 22.18it/s]\n"
     ]
    },
    {
     "name": "stdout",
     "output_type": "stream",
     "text": [
      "epoch79; D_loss: 0.6010; G_loss: 2.3586\n"
     ]
    },
    {
     "name": "stderr",
     "output_type": "stream",
     "text": [
      "100%|██████████| 938/938 [00:44<00:00, 21.08it/s]\n"
     ]
    },
    {
     "name": "stdout",
     "output_type": "stream",
     "text": [
      "epoch80; D_loss: 0.6014; G_loss: 2.3496\n"
     ]
    },
    {
     "name": "stderr",
     "output_type": "stream",
     "text": [
      "100%|██████████| 938/938 [00:43<00:00, 21.72it/s]\n"
     ]
    },
    {
     "name": "stdout",
     "output_type": "stream",
     "text": [
      "epoch81; D_loss: 0.6018; G_loss: 2.3513\n"
     ]
    },
    {
     "name": "stderr",
     "output_type": "stream",
     "text": [
      "100%|██████████| 938/938 [00:46<00:00, 20.11it/s]\n"
     ]
    },
    {
     "name": "stdout",
     "output_type": "stream",
     "text": [
      "epoch82; D_loss: 0.6009; G_loss: 2.3725\n"
     ]
    },
    {
     "name": "stderr",
     "output_type": "stream",
     "text": [
      "100%|██████████| 938/938 [00:42<00:00, 22.15it/s]\n"
     ]
    },
    {
     "name": "stdout",
     "output_type": "stream",
     "text": [
      "epoch83; D_loss: 0.5936; G_loss: 2.3774\n"
     ]
    },
    {
     "name": "stderr",
     "output_type": "stream",
     "text": [
      "100%|██████████| 938/938 [00:38<00:00, 24.07it/s]\n"
     ]
    },
    {
     "name": "stdout",
     "output_type": "stream",
     "text": [
      "epoch84; D_loss: 0.5966; G_loss: 2.3509\n"
     ]
    },
    {
     "name": "stderr",
     "output_type": "stream",
     "text": [
      "100%|██████████| 938/938 [00:38<00:00, 24.05it/s]\n"
     ]
    },
    {
     "name": "stdout",
     "output_type": "stream",
     "text": [
      "epoch85; D_loss: 0.5941; G_loss: 2.3906\n"
     ]
    },
    {
     "name": "stderr",
     "output_type": "stream",
     "text": [
      "100%|██████████| 938/938 [00:39<00:00, 23.60it/s]\n"
     ]
    },
    {
     "name": "stdout",
     "output_type": "stream",
     "text": [
      "epoch86; D_loss: 0.5882; G_loss: 2.3918\n"
     ]
    },
    {
     "name": "stderr",
     "output_type": "stream",
     "text": [
      "100%|██████████| 938/938 [00:40<00:00, 23.41it/s]\n"
     ]
    },
    {
     "name": "stdout",
     "output_type": "stream",
     "text": [
      "epoch87; D_loss: 0.5931; G_loss: 2.3819\n"
     ]
    },
    {
     "name": "stderr",
     "output_type": "stream",
     "text": [
      "100%|██████████| 938/938 [01:00<00:00, 15.38it/s]\n"
     ]
    },
    {
     "name": "stdout",
     "output_type": "stream",
     "text": [
      "epoch88; D_loss: 0.5877; G_loss: 2.3894\n"
     ]
    },
    {
     "name": "stderr",
     "output_type": "stream",
     "text": [
      "100%|██████████| 938/938 [39:49<00:00,  2.55s/it]    \n"
     ]
    },
    {
     "name": "stdout",
     "output_type": "stream",
     "text": [
      "epoch89; D_loss: 0.5882; G_loss: 2.3963\n"
     ]
    },
    {
     "name": "stderr",
     "output_type": "stream",
     "text": [
      "100%|██████████| 938/938 [00:36<00:00, 25.50it/s]\n"
     ]
    },
    {
     "name": "stdout",
     "output_type": "stream",
     "text": [
      "epoch90; D_loss: 0.5851; G_loss: 2.3740\n"
     ]
    },
    {
     "name": "stderr",
     "output_type": "stream",
     "text": [
      "100%|██████████| 938/938 [00:35<00:00, 26.35it/s]\n"
     ]
    },
    {
     "name": "stdout",
     "output_type": "stream",
     "text": [
      "epoch91; D_loss: 0.5815; G_loss: 2.4015\n"
     ]
    },
    {
     "name": "stderr",
     "output_type": "stream",
     "text": [
      "100%|██████████| 938/938 [00:34<00:00, 26.85it/s]\n"
     ]
    },
    {
     "name": "stdout",
     "output_type": "stream",
     "text": [
      "epoch92; D_loss: 0.5827; G_loss: 2.4070\n"
     ]
    },
    {
     "name": "stderr",
     "output_type": "stream",
     "text": [
      "100%|██████████| 938/938 [00:34<00:00, 26.94it/s]\n"
     ]
    },
    {
     "name": "stdout",
     "output_type": "stream",
     "text": [
      "epoch93; D_loss: 0.5829; G_loss: 2.4107\n"
     ]
    },
    {
     "name": "stderr",
     "output_type": "stream",
     "text": [
      "100%|██████████| 938/938 [00:34<00:00, 26.90it/s]\n"
     ]
    },
    {
     "name": "stdout",
     "output_type": "stream",
     "text": [
      "epoch94; D_loss: 0.5768; G_loss: 2.4161\n"
     ]
    },
    {
     "name": "stderr",
     "output_type": "stream",
     "text": [
      "100%|██████████| 938/938 [00:40<00:00, 23.25it/s]\n"
     ]
    },
    {
     "name": "stdout",
     "output_type": "stream",
     "text": [
      "epoch95; D_loss: 0.5783; G_loss: 2.4248\n"
     ]
    },
    {
     "name": "stderr",
     "output_type": "stream",
     "text": [
      "100%|██████████| 938/938 [00:41<00:00, 22.79it/s]\n"
     ]
    },
    {
     "name": "stdout",
     "output_type": "stream",
     "text": [
      "epoch96; D_loss: 0.5782; G_loss: 2.4223\n"
     ]
    },
    {
     "name": "stderr",
     "output_type": "stream",
     "text": [
      "100%|██████████| 938/938 [00:40<00:00, 23.26it/s]\n"
     ]
    },
    {
     "name": "stdout",
     "output_type": "stream",
     "text": [
      "epoch97; D_loss: 0.5791; G_loss: 2.4221\n"
     ]
    },
    {
     "name": "stderr",
     "output_type": "stream",
     "text": [
      "100%|██████████| 938/938 [00:36<00:00, 25.83it/s]\n"
     ]
    },
    {
     "name": "stdout",
     "output_type": "stream",
     "text": [
      "epoch98; D_loss: 0.5758; G_loss: 2.4361\n"
     ]
    },
    {
     "name": "stderr",
     "output_type": "stream",
     "text": [
      "100%|██████████| 938/938 [00:34<00:00, 26.99it/s]\n"
     ]
    },
    {
     "name": "stdout",
     "output_type": "stream",
     "text": [
      "epoch99; D_loss: 0.5742; G_loss: 2.4231\n"
     ]
    },
    {
     "data": {
      "image/png": "[encoded data removed]",
      "text/plain": [
       "<Figure size 400x400 with 16 Axes>"
      ]
     },
     "metadata": {},
     "output_type": "display_data"
    }
   ],
   "source": [
    "# Hyperparameters\n",
    "mb_size = 64\n",
    "Z_dim = 1000\n",
    "h_dim = 128\n",
    "lr = 1e-3\n",
    "\n",
    "# Load MNIST data\n",
    "transform = transforms.Compose([\n",
    "    transforms.ToTensor(),\n",
    "    transforms.Lambda(lambda x: x.view(-1))  # Flatten the 28x28 image to 784\n",
    "])\n",
    "\n",
    "train_dataset = datasets.MNIST(root='../MNIST', train=True, transform=transform, download=True)\n",
    "train_loader = DataLoader(train_dataset, batch_size=mb_size, shuffle=True)\n",
    "\n",
    "X_dim = 784  # 28 x 28\n",
    "y_dim= 10 #label dimension size\n",
    "\n",
    "# Xavier Initialization\n",
    "def xavier_init(m):\n",
    "    if isinstance(m, nn.Linear):\n",
    "        nn.init.xavier_normal_(m.weight)\n",
    "        if m.bias is not None:\n",
    "            nn.init.zeros_(m.bias)\n",
    "\n",
    "# Generator\n",
    "# z dim is the noise vector, that the generator initially samples from, then passes it through the hidden layer\n",
    "# of size h_dim, and produce output of size x_dim\n",
    "class Generator(nn.Module):\n",
    "    def __init__(self, z_dim, y_dim, h_dim, x_dim):\n",
    "        super(Generator, self).__init__()\n",
    "        self.fc1 = nn.Linear(z_dim+y_dim, h_dim)\n",
    "        self.fc2 = nn.Linear(h_dim, x_dim)\n",
    "        self.apply(xavier_init)\n",
    "\n",
    "    def forward(self, z,y):\n",
    "        inputs = torch.cat([z, y], dim=1)  # Concatenate noise and one-hot label\n",
    "        h = F.relu(self.fc1(inputs))\n",
    "        out = torch.sigmoid(self.fc2(h))\n",
    "        return out\n",
    "\n",
    "# Discriminator\n",
    "# x_dim is the size of the fake image, then it passes it through a hidden_layer of size h_dim and produces output\n",
    "# of dimension 1 (binary - yes or no)\n",
    "class Discriminator(nn.Module):\n",
    "    def __init__ (self, x_dim, y_dim, h_dim):\n",
    "        super(Discriminator, self).__init__()\n",
    "        self.fc1 = nn.Linear(x_dim+y_dim, h_dim)\n",
    "        self.fc2 = nn.Linear(h_dim, 1)\n",
    "        self.apply(xavier_init)\n",
    "\n",
    "    def forward(self, x, y):\n",
    "        inputs = torch.cat([x, y], dim=1)  # Concatenate image and one-hot label\n",
    "        h = F.relu(self.fc1(inputs))\n",
    "        out = torch.sigmoid(self.fc2(h))\n",
    "        return out\n",
    "\n",
    "# Training\n",
    "def cGANTraining(G, D, loss_fn, train_loader):\n",
    "    G.train()\n",
    "    D.train()\n",
    "\n",
    "    D_loss_real_total = 0\n",
    "    D_loss_fake_total = 0\n",
    "    G_loss_total = 0\n",
    "    # gives a progress bar for train loader\n",
    "    t = tqdm.tqdm(train_loader)\n",
    "    \n",
    "    for it, (X_real, labels) in enumerate(t):\n",
    "        X_real = X_real.float().to(device)\n",
    "        labels = labels.to(device)\n",
    "\n",
    "        # one hot encoding of the labels\n",
    "        y = F.one_hot(labels, num_classes=y_dim).float()\n",
    "\n",
    "        # sample noise and labels\n",
    "        z = torch.randn(X_real.size(0), Z_dim).to(device)\n",
    "        ones_label = torch.ones(X_real.size(0), 1).to(device)\n",
    "        zeros_label = torch.zeros(X_real.size(0), 1).to(device)\n",
    "\n",
    "        # discriminator\n",
    "        G_sample = G(z,y)\n",
    "        D_real = D(X_real,y)\n",
    "        # detach the forward prop from the original generator's gradients. We are training the discriminator,\n",
    "        # don't touch the generator's gradients\n",
    "        D_fake = D(G_sample.detach(),y)\n",
    "\n",
    "        D_loss_real = loss_fn(D_real, ones_label)\n",
    "        D_loss_fake = loss_fn(D_fake, zeros_label)\n",
    "        D_loss = D_loss_real + D_loss_fake\n",
    "        D_loss_real_total += D_loss_real.item()\n",
    "        D_loss_fake_total += D_loss_fake.item()\n",
    "\n",
    "        D_solver.zero_grad()\n",
    "        D_loss.backward()\n",
    "        D_solver.step()\n",
    "\n",
    "        # generator\n",
    "        # resample z and g_sample since the previous G_sample was detached\n",
    "        z = torch.randn(X_real.size(0), Z_dim).to(device)\n",
    "        G_sample = G(z,y)\n",
    "        D_fake = D(G_sample, y)\n",
    "\n",
    "        G_loss = loss_fn(D_fake, ones_label)\n",
    "        G_loss_total += G_loss.item()\n",
    "\n",
    "        G_solver.zero_grad()\n",
    "        G_loss.backward()\n",
    "        G_solver.step()\n",
    "\n",
    "    D_loss_real_avg = D_loss_real_total / len(train_loader)\n",
    "    D_loss_fake_avg = D_loss_fake_total / len(train_loader)\n",
    "    D_loss_avg = D_loss_real_avg + D_loss_fake_avg\n",
    "    G_loss_avg = G_loss_total / len(train_loader)\n",
    "\n",
    "    wandb.log({\n",
    "        \"D_loss_real\": D_loss_real_avg,\n",
    "        \"D_loss_fake\": D_loss_fake_avg,\n",
    "        \"D_loss\": D_loss_avg,\n",
    "        \"G_loss\": G_loss_avg\n",
    "    })\n",
    "\n",
    "    return G, D, G_loss_avg, D_loss_avg\n",
    "    \n",
    "\n",
    "def save_sample(G, epoch, mb_size, Z_dim, y_dim, digit=3):\n",
    "    out_dir = \"out_cgan\"\n",
    "    G.eval()\n",
    "    with torch.no_grad():\n",
    "        z = torch.randn(mb_size, Z_dim).to(device)\n",
    "\n",
    "        # Create one-hot labels for the specified digit\n",
    "        y = torch.full((mb_size,), digit, dtype=torch.long).to(device)\n",
    "        y_one_hot = F.one_hot(y, num_classes=y_dim).float()\n",
    "\n",
    "        # Generate images conditioned on that digit\n",
    "        samples = G(z, y_one_hot).detach().cpu().numpy()[:16]\n",
    "\n",
    "    # Plotting\n",
    "    fig = plt.figure(figsize=(4, 4))\n",
    "    gs = gridspec.GridSpec(4, 4)\n",
    "    gs.update(wspace=0.05, hspace=0.05)\n",
    "\n",
    "    for i, sample in enumerate(samples):\n",
    "        ax = plt.subplot(gs[i])\n",
    "        plt.axis('off')\n",
    "        ax.set_xticklabels([])\n",
    "        ax.set_yticklabels([])\n",
    "        ax.set_aspect('equal')\n",
    "        plt.imshow(sample.reshape(28, 28), cmap='Greys_r')\n",
    "\n",
    "    if not os.path.exists(f'{out_dir}'):\n",
    "        os.makedirs(f'{out_dir}')\n",
    "    plt.savefig(f'{out_dir}/{str(epoch).zfill(3)}.png', bbox_inches='tight')\n",
    "    plt.close(fig)\n",
    "\n",
    "wandb_log = True\n",
    "device = torch.device(\"cuda:0\" if torch.cuda.is_available() else \"cpu\")\n",
    "\n",
    "# instantiate models\n",
    "G = Generator(Z_dim, y_dim, h_dim, X_dim).to(device)\n",
    "D = Discriminator(X_dim, y_dim, h_dim).to(device)\n",
    "\n",
    "# optimizers\n",
    "G_solver = optim.Adam(G.parameters(), lr=lr)\n",
    "D_solver = optim.Adam(D.parameters(), lr=lr)\n",
    "\n",
    "# loss function\n",
    "def my_bce_loss(preds, targets):\n",
    "    return F.binary_cross_entropy(preds, targets)\n",
    "\n",
    "#loss_fn = nn.BCEWithLogitsLoss()\n",
    "loss_fn = my_bce_loss\n",
    "\n",
    "if wandb_log: \n",
    "    wandb.init(project=\"conditional-gan-mnist\")\n",
    "\n",
    "    # Log hyperparameters\n",
    "    wandb.config.update({\n",
    "        \"batch_size\": mb_size,\n",
    "        \"Z_dim\": Z_dim,\n",
    "        \"X_dim\": X_dim,\n",
    "        \"h_dim\": h_dim,\n",
    "        \"lr\": lr,\n",
    "    })\n",
    "\n",
    "best_g_loss = float('inf')  # Initialize best generator loss\n",
    "save_dir = 'checkpoints'\n",
    "os.makedirs(save_dir, exist_ok=True)\n",
    "\n",
    "#Train epochs\n",
    "epochs = 50\n",
    "\n",
    "for epoch in range(epochs):\n",
    "    G, D, G_loss_avg, D_loss_avg= cGANTraining(G, D, loss_fn, train_loader)\n",
    "\n",
    "    print(f'epoch{epoch}; D_loss: {D_loss_avg:.4f}; G_loss: {G_loss_avg:.4f}')\n",
    "\n",
    "    if G_loss_avg < best_g_loss:\n",
    "        best_g_loss = G_loss_avg\n",
    "        torch.save(G.state_dict(), os.path.join(save_dir, 'G_best.pth'))\n",
    "        torch.save(D.state_dict(), os.path.join(save_dir, 'D_best.pth'))\n",
    "        print(f\"Saved Best Models at epoch {epoch} | G_loss: {best_g_loss:.4f}\")\n",
    "\n",
    "    save_sample(G, epoch, mb_size, Z_dim, y_dim=10, digit=3)\n",
    "\n",
    "def generate_digit_samples(G, digit, Z_dim, y_dim, num_samples=16, save_path=None):\n",
    "    G.eval()\n",
    "    with torch.no_grad():\n",
    "        # Generate random noise\n",
    "        z = torch.randn(num_samples, Z_dim).to(device)\n",
    "        \n",
    "        # Create a one-hot label for the chosen digit\n",
    "        y = torch.full((num_samples,), digit, dtype=torch.long).to(device)\n",
    "        y_one_hot = F.one_hot(y, num_classes=y_dim).float()\n",
    "        \n",
    "        # Generate images\n",
    "        samples = G(z, y_one_hot).detach().cpu().numpy()\n",
    "\n",
    "    # Plot the generated images\n",
    "    fig = plt.figure(figsize=(4, 4))\n",
    "    gs = gridspec.GridSpec(4, 4)\n",
    "    gs.update(wspace=0.05, hspace=0.05)\n",
    "\n",
    "    for i, sample in enumerate(samples):\n",
    "        ax = plt.subplot(gs[i])\n",
    "        plt.axis('off')\n",
    "        ax.set_xticklabels([])\n",
    "        ax.set_yticklabels([])\n",
    "        ax.set_aspect('equal')\n",
    "        plt.imshow(sample.reshape(28, 28), cmap='Greys_r')\n",
    "\n",
    "    if save_path:\n",
    "        plt.savefig(save_path, bbox_inches='tight')\n",
    "    plt.show()\n",
    "\n",
    "# generate the digit 3\n",
    "generate_digit_samples(G, digit=3, Z_dim=Z_dim, y_dim=10)\n",
    "\n",
    "# Inference    \n",
    "# G.load_state_dict(torch.load('checkpoints/G_best.pth'))\n",
    "# G.eval()\n",
    "\n",
    "# save_sample(G, \"best\", mb_size, Z_dim)"
   ]
  },
  {
   "cell_type": "markdown",
   "id": "0a5d831f",
   "metadata": {},
   "source": [
    "TASK 4\n",
    "\n",
    "First, train a CNN MNIST model and create adversarial images to classify 4s as 9s. HINT:\n",
    "Take help from Jasoni Carter GitHub Try to reason how these adversar-ial images are pro-\n",
    "duced. Next, a random noise image was used to classify it as nine and observe the results.\n",
    "Compare the results from the first and the second steps."
   ]
  },
  {
   "cell_type": "markdown",
   "id": "2a988db4",
   "metadata": {},
   "source": [
    "How this is done:\n",
    "\n",
    "We calculates the gradient of the loss to the intended misclassified number (9) with respect to the image (4).\n",
    "\n",
    "The sign of the gradient tells the direction in which changing the pixel will most increase the model's error (for the wrong label).\n",
    "\n",
    "We nudges the image slightly in that direction (adds very small noise)."
   ]
  },
  {
   "cell_type": "code",
   "execution_count": null,
   "id": "759e63e5",
   "metadata": {},
   "outputs": [
    {
     "name": "stdout",
     "output_type": "stream",
     "text": [
      "Epoch 1: Loss = 0.0761\n",
      "Epoch 2: Loss = 0.0014\n",
      "Epoch 3: Loss = 0.0431\n",
      "Epoch 4: Loss = 0.0257\n",
      "Epoch 5: Loss = 0.0003\n",
      "Test Accuracy: 98.87%\n"
     ]
    }
   ],
   "source": [
    "# simple cnn\n",
    "\n",
    "# MNIST Data\n",
    "transform = transforms.Compose([\n",
    "    transforms.ToTensor()\n",
    "])\n",
    "\n",
    "train_dataset = datasets.MNIST(root='./MNIST', train=True, download=True, transform=transform)\n",
    "test_dataset = datasets.MNIST(root='./MNIST', train=False, download=True, transform=transform)\n",
    "\n",
    "train_loader = DataLoader(train_dataset, batch_size=64, shuffle=True)\n",
    "test_loader = DataLoader(test_dataset, batch_size=64, shuffle=False)\n",
    "\n",
    "# Define CNN\n",
    "class SimpleCNN(nn.Module):\n",
    "    def __init__(self):\n",
    "        super(SimpleCNN, self).__init__()\n",
    "        self.conv1 = nn.Conv2d(1, 32, 3, 1)\n",
    "        self.conv2 = nn.Conv2d(32, 64, 3, 1)\n",
    "        self.fc1 = nn.Linear(9216, 128)\n",
    "        self.fc2 = nn.Linear(128, 10)\n",
    "\n",
    "    def forward(self, x):\n",
    "        x = F.relu(self.conv1(x))\n",
    "        x = F.relu(self.conv2(x))\n",
    "        x = F.max_pool2d(x, 2)\n",
    "        x = torch.flatten(x, 1)\n",
    "        x = F.relu(self.fc1(x))\n",
    "        x = self.fc2(x)\n",
    "        return x\n",
    "\n",
    "model = SimpleCNN().to(device)\n",
    "\n",
    "optimizer = optim.Adam(model.parameters(), lr=1e-3)\n",
    "criterion = nn.CrossEntropyLoss()\n",
    "\n",
    "# train\n",
    "epochs = 5\n",
    "for epoch in range(epochs):\n",
    "    model.train()\n",
    "    for (data, target) in train_loader:\n",
    "        data, target = data.to(device), target.to(device)\n",
    "        optimizer.zero_grad()\n",
    "        output = model(data)\n",
    "        loss = criterion(output, target)\n",
    "        loss.backward()\n",
    "        optimizer.step()\n",
    "    print(f\"Epoch {epoch+1}: Loss = {loss.item():.4f}\")\n",
    "\n",
    "# Evaluate\n",
    "model.eval()\n",
    "correct = 0\n",
    "total = 0\n",
    "with torch.no_grad():\n",
    "    for (data, target) in test_loader:\n",
    "        data, target = data.to(device), target.to(device)\n",
    "        output = model(data)\n",
    "        pred = output.argmax(dim=1)\n",
    "        correct += (pred == target).sum().item()\n",
    "        total += target.size(0)\n",
    "print(f\"Test Accuracy: {100 * correct / total:.2f}%\")\n"
   ]
  },
  {
   "cell_type": "code",
   "execution_count": 6,
   "id": "080fd5f0",
   "metadata": {},
   "outputs": [],
   "source": [
    "def create_adversarial_image(model, x_image, y_label, lr=0.1, n_steps=1, output_probs=False):\n",
    "    model.eval()\n",
    "\n",
    "    # clone the original image to generate the adversarial image\n",
    "    x_adv = x_image.clone().detach().requires_grad_(True).to(device)\n",
    "    y_label = y_label.to(device)\n",
    "\n",
    "    probs_per_step = []\n",
    "\n",
    "    for _ in range(n_steps):\n",
    "        output = model(x_adv)\n",
    "        loss = F.cross_entropy(output, y_label)\n",
    "        \n",
    "        # Backward to calculate gradients\n",
    "        model.zero_grad()\n",
    "        loss.backward()\n",
    "        \n",
    "        # Take a step in the direction of the gradient (sign method), to maximise loss, making sure that the discriminator can be fooled as best as possible\n",
    "        grad_sign = x_adv.grad.sign()\n",
    "        x_adv = (x_adv - lr * grad_sign / n_steps).detach()\n",
    "        x_adv.requires_grad = True\n",
    "        \n",
    "        # Clip image to [0,1], making sure that there is no negative values for the image\n",
    "        x_adv = torch.clamp(x_adv, 0, 1)\n",
    "\n",
    "        if output_probs:\n",
    "            probs = F.softmax(output, dim=1).detach().cpu().numpy()\n",
    "            probs_per_step.append(probs)\n",
    "\n",
    "    return x_adv, probs_per_step\n",
    "\n"
   ]
  },
  {
   "cell_type": "code",
   "execution_count": 7,
   "id": "4f71d579",
   "metadata": {},
   "outputs": [
    {
     "data": {
      "image/png": "[encoded data removed]",
      "text/plain": [
       "<Figure size 640x480 with 1 Axes>"
      ]
     },
     "metadata": {},
     "output_type": "display_data"
    },
    {
     "data": {
      "image/png": "[encoded data removed]",
      "text/plain": [
       "<Figure size 640x480 with 1 Axes>"
      ]
     },
     "metadata": {},
     "output_type": "display_data"
    },
    {
     "name": "stdout",
     "output_type": "stream",
     "text": [
      "Prediction after adversarial attack: 4\n"
     ]
    }
   ],
   "source": [
    "# Pick one 4 from test set\n",
    "for (data, target) in test_loader:\n",
    "    idx = (target == 4).nonzero(as_tuple=True)[0]\n",
    "    if len(idx) > 0:\n",
    "        img_real_4 = data[idx[0]].unsqueeze(0).to(device)  # [1,1,28,28]\n",
    "        label_target_9 = torch.tensor([9]).to(device)  # We want to misclassify it as 9\n",
    "        break\n",
    "\n",
    "# Plot the original 4\n",
    "import matplotlib.pyplot as plt\n",
    "\n",
    "plt.imshow(img_real_4.squeeze().cpu().numpy(), cmap=\"gray\")\n",
    "plt.title(\"Original 4\")\n",
    "plt.axis('off')\n",
    "plt.show()\n",
    "\n",
    "# Create adversarial example\n",
    "adv_image, _ = create_adversarial_image(model, img_real_4, label_target_9, lr=0.1, n_steps=1)\n",
    "\n",
    "# Plot adversarial example\n",
    "plt.imshow(adv_image.squeeze().cpu().detach().numpy(), cmap=\"gray\")\n",
    "plt.title(\"Adversarial Image (4 classified as 9)\")\n",
    "plt.axis('off')\n",
    "plt.show()\n",
    "\n",
    "# Check prediction\n",
    "model.eval()\n",
    "with torch.no_grad():\n",
    "    output = model(adv_image)\n",
    "    pred_label = output.argmax(dim=1).item()\n",
    "\n",
    "print(f\"Prediction after adversarial attack: {pred_label}\")\n"
   ]
  },
  {
   "cell_type": "markdown",
   "id": "c172e36d",
   "metadata": {},
   "source": [
    "Random noise to be classified as a 9"
   ]
  },
  {
   "cell_type": "code",
   "execution_count": 8,
   "id": "afcc432e",
   "metadata": {},
   "outputs": [
    {
     "data": {
      "image/png": "[encoded data removed]",
      "text/plain": [
       "<Figure size 640x480 with 1 Axes>"
      ]
     },
     "metadata": {},
     "output_type": "display_data"
    },
    {
     "data": {
      "image/png": "[encoded data removed]",
      "text/plain": [
       "<Figure size 640x480 with 1 Axes>"
      ]
     },
     "metadata": {},
     "output_type": "display_data"
    },
    {
     "name": "stdout",
     "output_type": "stream",
     "text": [
      "Prediction after adversarial attack on random noise: 5\n"
     ]
    }
   ],
   "source": [
    "random_noise = torch.randn((1, 1, 28, 28), device=device)\n",
    "random_noise = torch.clamp(random_noise, 0, 1)  # Make sure pixel values are between [0,1]\n",
    "\n",
    "label_target_9 = torch.tensor([9], device=device)\n",
    "\n",
    "\n",
    "plt.imshow(random_noise.squeeze().cpu().numpy(), cmap=\"gray\")\n",
    "plt.title(\"Original Random Noise\")\n",
    "plt.axis('off')\n",
    "plt.show()\n",
    "\n",
    "# create adversarial example\n",
    "adv_noise_image, _ = create_adversarial_image(model, random_noise, label_target_9, lr=0.1, n_steps=1)\n",
    "\n",
    "# plot adversarial noise image\n",
    "plt.imshow(adv_noise_image.squeeze().cpu().detach().numpy(), cmap=\"gray\")\n",
    "plt.title(\"Adversarial Noise Image (classified as 9)\")\n",
    "plt.axis('off')\n",
    "plt.show()\n",
    "\n",
    "# check prediction\n",
    "model.eval()\n",
    "with torch.no_grad():\n",
    "    output = model(adv_noise_image)\n",
    "    pred_label_noise = output.argmax(dim=1).item()\n",
    "\n",
    "print(f\"Prediction after adversarial attack on random noise: {pred_label_noise}\")\n"
   ]
  },
  {
   "cell_type": "markdown",
   "id": "292bb787",
   "metadata": {},
   "source": [
    "It is more difficult for an adversarial image created from random noise to be misclassified, and the image generated will be more blurry as well. This is because if we start from a 4 for example, the image is already close to the distribution of digits (i.e, the pixel pattern on the image is close to the image that our model is already trained on), therefore, small changes (tiny noise) can easily confuse the model. However, if we use random noise instead, the image could be in any pixel pattern, and it will be hard for us to pinpoint the exact type of noise to introduce in order for us to misclassify an image"
   ]
  },
  {
   "cell_type": "markdown",
   "id": "cd0d246b",
   "metadata": {},
   "source": [
    "TASK 5\n",
    "\n",
    "Now, you will implement a stable diffusion model to generate images based on MNIST.\n",
    "Stable diffusion models are complex and costly, so take inspiration from this article this\n",
    "article, which shows you how to create a simple, stable diffusion model. Train the diffusion\n",
    "model to generate images of any desired number, and compare the results with the images\n",
    "from your CGAN (task 2.3). What is the main difference between GAN and stable diffusion?"
   ]
  },
  {
   "cell_type": "markdown",
   "id": "229feca6",
   "metadata": {},
   "source": [
    "The model starts from pure noise and denoises gradually, predicting the noise added at each timestep. Compared to the CGAN trained earlier, the diffusion model produces images that are blurrier and slower to generate but with more stable training behavior. In contrast, the CGAN directly generates samples in one step but requires careful balancing between Generator and Discriminator to avoid issues like mode collapse. The main difference between GANs and Diffusion models is that GANs generate images in one shot using adversarial training, while Diffusion models iteratively denoise noise over many steps without adversarial competition"
   ]
  },
  {
   "cell_type": "code",
   "execution_count": 11,
   "id": "d2bc9f65",
   "metadata": {},
   "outputs": [
    {
     "name": "stdout",
     "output_type": "stream",
     "text": [
      "Epoch 1: Loss = 0.9967\n",
      "Epoch 2: Loss = 0.9942\n",
      "Epoch 3: Loss = 0.9942\n",
      "Epoch 4: Loss = 0.9937\n",
      "Epoch 5: Loss = 0.9937\n",
      "Epoch 6: Loss = 0.9935\n",
      "Epoch 7: Loss = 0.9930\n",
      "Epoch 8: Loss = 0.9931\n",
      "Epoch 9: Loss = 0.9934\n",
      "Epoch 10: Loss = 0.9932\n",
      "Epoch 11: Loss = 0.9933\n",
      "Epoch 12: Loss = 0.9931\n",
      "Epoch 13: Loss = 0.9930\n",
      "Epoch 14: Loss = 0.9929\n",
      "Epoch 15: Loss = 0.9928\n",
      "Epoch 16: Loss = 0.9919\n",
      "Epoch 17: Loss = 0.9896\n",
      "Epoch 18: Loss = 0.9878\n",
      "Epoch 19: Loss = 0.9874\n",
      "Epoch 20: Loss = 0.9872\n",
      "Epoch 21: Loss = 0.9870\n",
      "Epoch 22: Loss = 0.9868\n",
      "Epoch 23: Loss = 0.9862\n",
      "Epoch 24: Loss = 0.9853\n",
      "Epoch 25: Loss = 0.9846\n",
      "Epoch 26: Loss = 0.9845\n",
      "Epoch 27: Loss = 0.9848\n",
      "Epoch 28: Loss = 0.9845\n",
      "Epoch 29: Loss = 0.9845\n",
      "Epoch 30: Loss = 0.9847\n",
      "Epoch 31: Loss = 0.9847\n",
      "Epoch 32: Loss = 0.9843\n",
      "Epoch 33: Loss = 0.9846\n",
      "Epoch 34: Loss = 0.9845\n",
      "Epoch 35: Loss = 0.9845\n",
      "Epoch 36: Loss = 0.9841\n",
      "Epoch 37: Loss = 0.9844\n",
      "Epoch 38: Loss = 0.9842\n",
      "Epoch 39: Loss = 0.9841\n",
      "Epoch 40: Loss = 0.9843\n",
      "Epoch 41: Loss = 0.9847\n",
      "Epoch 42: Loss = 0.9845\n",
      "Epoch 43: Loss = 0.9840\n",
      "Epoch 44: Loss = 0.9829\n",
      "Epoch 45: Loss = 0.9830\n",
      "Epoch 46: Loss = 0.9824\n",
      "Epoch 47: Loss = 0.9821\n",
      "Epoch 48: Loss = 0.9819\n",
      "Epoch 49: Loss = 0.9818\n",
      "Epoch 50: Loss = 0.9815\n",
      "Epoch 51: Loss = 0.9820\n",
      "Epoch 52: Loss = 0.9815\n",
      "Epoch 53: Loss = 0.9819\n",
      "Epoch 54: Loss = 0.9817\n",
      "Epoch 55: Loss = 0.9816\n",
      "Epoch 56: Loss = 0.9817\n",
      "Epoch 57: Loss = 0.9817\n",
      "Epoch 58: Loss = 0.9822\n",
      "Epoch 59: Loss = 0.9818\n",
      "Epoch 60: Loss = 0.9819\n",
      "Epoch 61: Loss = 0.9820\n",
      "Epoch 62: Loss = 0.9819\n",
      "Epoch 63: Loss = 0.9814\n",
      "Epoch 64: Loss = 0.9813\n",
      "Epoch 65: Loss = 0.9820\n",
      "Epoch 66: Loss = 0.9819\n",
      "Epoch 67: Loss = 0.9821\n",
      "Epoch 68: Loss = 0.9814\n",
      "Epoch 69: Loss = 0.9814\n",
      "Epoch 70: Loss = 0.9815\n",
      "Epoch 71: Loss = 0.9815\n",
      "Epoch 72: Loss = 0.9818\n",
      "Epoch 73: Loss = 0.9820\n",
      "Epoch 74: Loss = 0.9814\n",
      "Epoch 75: Loss = 0.9814\n",
      "Epoch 76: Loss = 0.9817\n",
      "Epoch 77: Loss = 0.9814\n",
      "Epoch 78: Loss = 0.9814\n",
      "Epoch 79: Loss = 0.9814\n",
      "Epoch 80: Loss = 0.9814\n",
      "Epoch 81: Loss = 0.9806\n",
      "Epoch 82: Loss = 0.9797\n",
      "Epoch 83: Loss = 0.9793\n",
      "Epoch 84: Loss = 0.9792\n",
      "Epoch 85: Loss = 0.9792\n",
      "Epoch 86: Loss = 0.9788\n",
      "Epoch 87: Loss = 0.9793\n",
      "Epoch 88: Loss = 0.9790\n",
      "Epoch 89: Loss = 0.9791\n",
      "Epoch 90: Loss = 0.9792\n",
      "Epoch 91: Loss = 0.9794\n",
      "Epoch 92: Loss = 0.9790\n",
      "Epoch 93: Loss = 0.9789\n",
      "Epoch 94: Loss = 0.9794\n",
      "Epoch 95: Loss = 0.9792\n",
      "Epoch 96: Loss = 0.9779\n",
      "Epoch 97: Loss = 0.9780\n",
      "Epoch 98: Loss = 0.9782\n",
      "Epoch 99: Loss = 0.9776\n",
      "Epoch 100: Loss = 0.9777\n",
      "Epoch 101: Loss = 0.9778\n",
      "Epoch 102: Loss = 0.9775\n",
      "Epoch 103: Loss = 0.9781\n",
      "Epoch 104: Loss = 0.9779\n",
      "Epoch 105: Loss = 0.9778\n",
      "Epoch 106: Loss = 0.9776\n",
      "Epoch 107: Loss = 0.9780\n",
      "Epoch 108: Loss = 0.9780\n",
      "Epoch 109: Loss = 0.9780\n",
      "Epoch 110: Loss = 0.9779\n",
      "Epoch 111: Loss = 0.9780\n",
      "Epoch 112: Loss = 0.9779\n",
      "Epoch 113: Loss = 0.9780\n",
      "Epoch 114: Loss = 0.9779\n",
      "Epoch 115: Loss = 0.9778\n",
      "Epoch 116: Loss = 0.9779\n",
      "Epoch 117: Loss = 0.9777\n",
      "Epoch 118: Loss = 0.9780\n",
      "Epoch 119: Loss = 0.9781\n",
      "Epoch 120: Loss = 0.9783\n",
      "Epoch 121: Loss = 0.9780\n",
      "Epoch 122: Loss = 0.9780\n",
      "Epoch 123: Loss = 0.9781\n",
      "Epoch 124: Loss = 0.9777\n",
      "Epoch 125: Loss = 0.9768\n",
      "Epoch 126: Loss = 0.9767\n",
      "Epoch 127: Loss = 0.9766\n",
      "Epoch 128: Loss = 0.9766\n",
      "Epoch 129: Loss = 0.9764\n",
      "Epoch 130: Loss = 0.9769\n",
      "Epoch 131: Loss = 0.9769\n",
      "Epoch 132: Loss = 0.9766\n",
      "Epoch 133: Loss = 0.9765\n",
      "Epoch 134: Loss = 0.9768\n",
      "Epoch 135: Loss = 0.9767\n",
      "Epoch 136: Loss = 0.9766\n",
      "Epoch 137: Loss = 0.9766\n",
      "Epoch 138: Loss = 0.9769\n",
      "Epoch 139: Loss = 0.9768\n",
      "Epoch 140: Loss = 0.9765\n",
      "Epoch 141: Loss = 0.9760\n",
      "Epoch 142: Loss = 0.9752\n",
      "Epoch 143: Loss = 0.9752\n",
      "Epoch 144: Loss = 0.9753\n",
      "Epoch 145: Loss = 0.9754\n",
      "Epoch 146: Loss = 0.9753\n",
      "Epoch 147: Loss = 0.9750\n",
      "Epoch 148: Loss = 0.9751\n",
      "Epoch 149: Loss = 0.9754\n",
      "Epoch 150: Loss = 0.9751\n",
      "Epoch 151: Loss = 0.9750\n",
      "Epoch 152: Loss = 0.9750\n",
      "Epoch 153: Loss = 0.9751\n",
      "Epoch 154: Loss = 0.9756\n",
      "Epoch 155: Loss = 0.9752\n",
      "Epoch 156: Loss = 0.9750\n",
      "Epoch 157: Loss = 0.9752\n",
      "Epoch 158: Loss = 0.9759\n",
      "Epoch 159: Loss = 0.9751\n",
      "Epoch 160: Loss = 0.9755\n",
      "Epoch 161: Loss = 0.9752\n",
      "Epoch 162: Loss = 0.9755\n",
      "Epoch 163: Loss = 0.9756\n",
      "Epoch 164: Loss = 0.9749\n",
      "Epoch 165: Loss = 0.9751\n",
      "Epoch 166: Loss = 0.9748\n",
      "Epoch 167: Loss = 0.9757\n",
      "Epoch 168: Loss = 0.9750\n",
      "Epoch 169: Loss = 0.9754\n",
      "Epoch 170: Loss = 0.9758\n",
      "Epoch 171: Loss = 0.9750\n",
      "Epoch 172: Loss = 0.9749\n",
      "Epoch 173: Loss = 0.9754\n",
      "Epoch 174: Loss = 0.9750\n",
      "Epoch 175: Loss = 0.9754\n",
      "Epoch 176: Loss = 0.9754\n",
      "Epoch 177: Loss = 0.9749\n",
      "Epoch 178: Loss = 0.9745\n",
      "Epoch 179: Loss = 0.9740\n",
      "Epoch 180: Loss = 0.9740\n",
      "Epoch 181: Loss = 0.9741\n",
      "Epoch 182: Loss = 0.9740\n",
      "Epoch 183: Loss = 0.9742\n",
      "Epoch 184: Loss = 0.9742\n",
      "Epoch 185: Loss = 0.9740\n",
      "Epoch 186: Loss = 0.9739\n",
      "Epoch 187: Loss = 0.9738\n",
      "Epoch 188: Loss = 0.9736\n",
      "Epoch 189: Loss = 0.9739\n",
      "Epoch 190: Loss = 0.9742\n",
      "Epoch 191: Loss = 0.9742\n",
      "Epoch 192: Loss = 0.9740\n",
      "Epoch 193: Loss = 0.9740\n",
      "Epoch 194: Loss = 0.9738\n",
      "Epoch 195: Loss = 0.9738\n",
      "Epoch 196: Loss = 0.9743\n",
      "Epoch 197: Loss = 0.9741\n",
      "Epoch 198: Loss = 0.9741\n",
      "Epoch 199: Loss = 0.9741\n",
      "Epoch 200: Loss = 0.9738\n",
      "Epoch 201: Loss = 0.9738\n",
      "Epoch 202: Loss = 0.9742\n",
      "Epoch 203: Loss = 0.9738\n",
      "Epoch 204: Loss = 0.9743\n",
      "Epoch 205: Loss = 0.9736\n",
      "Epoch 206: Loss = 0.9738\n",
      "Epoch 207: Loss = 0.9739\n",
      "Epoch 208: Loss = 0.9739\n",
      "Epoch 209: Loss = 0.9741\n",
      "Epoch 210: Loss = 0.9739\n",
      "Epoch 211: Loss = 0.9738\n",
      "Epoch 212: Loss = 0.9739\n",
      "Epoch 213: Loss = 0.9733\n",
      "Epoch 214: Loss = 0.9726\n",
      "Epoch 215: Loss = 0.9721\n",
      "Epoch 216: Loss = 0.9717\n",
      "Epoch 217: Loss = 0.9717\n",
      "Epoch 218: Loss = 0.9718\n",
      "Epoch 219: Loss = 0.9717\n",
      "Epoch 220: Loss = 0.9718\n",
      "Epoch 221: Loss = 0.9716\n",
      "Epoch 222: Loss = 0.9720\n",
      "Epoch 223: Loss = 0.9710\n",
      "Epoch 224: Loss = 0.9716\n",
      "Epoch 225: Loss = 0.9713\n",
      "Epoch 226: Loss = 0.9704\n",
      "Epoch 227: Loss = 0.9707\n",
      "Epoch 228: Loss = 0.9706\n",
      "Epoch 229: Loss = 0.9702\n",
      "Epoch 230: Loss = 0.9703\n",
      "Epoch 231: Loss = 0.9704\n",
      "Epoch 232: Loss = 0.9706\n",
      "Epoch 233: Loss = 0.9703\n",
      "Epoch 234: Loss = 0.9702\n",
      "Epoch 235: Loss = 0.9707\n",
      "Epoch 236: Loss = 0.9702\n",
      "Epoch 237: Loss = 0.9701\n",
      "Epoch 238: Loss = 0.9701\n",
      "Epoch 239: Loss = 0.9704\n",
      "Epoch 240: Loss = 0.9702\n",
      "Epoch 241: Loss = 0.9706\n",
      "Epoch 242: Loss = 0.9705\n",
      "Epoch 243: Loss = 0.9702\n",
      "Epoch 244: Loss = 0.9702\n",
      "Epoch 245: Loss = 0.9701\n",
      "Epoch 246: Loss = 0.9703\n",
      "Epoch 247: Loss = 0.9705\n",
      "Epoch 248: Loss = 0.9706\n",
      "Epoch 249: Loss = 0.9700\n",
      "Epoch 250: Loss = 0.9703\n"
     ]
    }
   ],
   "source": [
    "device = torch.device('cuda' if torch.cuda.is_available() else 'cpu')\n",
    "\n",
    "# data prep\n",
    "transform = transforms.Compose([\n",
    "    transforms.ToTensor(),  # Convert PIL Image to tensor\n",
    "    transforms.Lambda(lambda x: (x * 2) - 1)  # Normalize to [-1, 1]\n",
    "])\n",
    "\n",
    "train_dataset = datasets.MNIST(root='./MNIST', train=True, download=True, transform=transform)\n",
    "train_loader = DataLoader(train_dataset, batch_size=128, shuffle=True)\n",
    "\n",
    "# diffusion parameters\n",
    "T = 300  # Total timesteps\n",
    "beta = torch.linspace(1e-4, 0.02, T).to(device)  # Linear schedule\n",
    "alpha = 1. - beta\n",
    "alpha_hat = torch.cumprod(alpha, dim=0)\n",
    "\n",
    "# forward diffusion \n",
    "def forward_diffusion_sample(x_0, t, device=device):\n",
    "    \"\"\"Adds noise to image at step t\"\"\"\n",
    "    noise = torch.randn_like(x_0).to(device)\n",
    "    sqrt_alpha_hat = torch.sqrt(alpha_hat[t])[:, None, None, None]\n",
    "    sqrt_one_minus_alpha_hat = torch.sqrt(1 - alpha_hat[t])[:, None, None, None]\n",
    "    return sqrt_alpha_hat * x_0 + sqrt_one_minus_alpha_hat * noise, noise\n",
    "\n",
    "# define a simple cnn\n",
    "class DenoiseMLP(nn.Module):\n",
    "    def __init__(self):\n",
    "        super(DenoiseMLP, self).__init__()\n",
    "        self.conv1 = nn.Conv2d(1, 32, 3, stride=1, padding=1)\n",
    "        self.conv2 = nn.Conv2d(32, 64, 3, stride=1, padding=1)\n",
    "        self.fc1 = nn.Linear(64*28*28, 1024)\n",
    "        self.fc2 = nn.Linear(1024, 1*28*28)\n",
    "\n",
    "    def forward(self, x, t):\n",
    "        x = F.relu(self.conv1(x))\n",
    "        x = F.relu(self.conv2(x))\n",
    "        x = x.view(x.size(0), -1)\n",
    "        x = F.relu(self.fc1(x))\n",
    "        x = self.fc2(x)\n",
    "        x = x.view(-1, 1, 28, 28)\n",
    "        return x\n",
    "\n",
    "model = DenoiseMLP().to(device)\n",
    "optimizer = torch.optim.Adam(model.parameters(), lr=2e-4)\n",
    "mse = nn.MSELoss()\n",
    "\n",
    "epochs = 250\n",
    "\n",
    "for epoch in range(epochs):\n",
    "    model.train()\n",
    "    total_loss = 0\n",
    "    for step, (x, _) in enumerate(train_loader):\n",
    "        x = x.to(device)\n",
    "        batch_size = x.size(0)\n",
    "        t = torch.randint(0, T, (batch_size,), device=device).long()\n",
    "        \n",
    "        x_noisy, noise = forward_diffusion_sample(x, t, device)\n",
    "        \n",
    "        noise_pred = model(x_noisy, t)\n",
    "        \n",
    "        loss = mse(noise, noise_pred)\n",
    "        \n",
    "        optimizer.zero_grad()\n",
    "        loss.backward()\n",
    "        optimizer.step()\n",
    "        \n",
    "        total_loss += loss.item()\n",
    "    \n",
    "    print(f\"Epoch {epoch+1}: Loss = {total_loss / len(train_loader):.4f}\")\n",
    "\n",
    "# Save model\n",
    "os.makedirs(\"diffusion_checkpoints\", exist_ok=True)\n",
    "torch.save(model.state_dict(), 'diffusion_checkpoints/diffusion_mnist.pth')\n"
   ]
  },
  {
   "cell_type": "code",
   "execution_count": 12,
   "id": "8208eb9b",
   "metadata": {},
   "outputs": [
    {
     "data": {
      "image/png": "[encoded data removed]",
      "text/plain": [
       "<Figure size 600x600 with 16 Axes>"
      ]
     },
     "metadata": {},
     "output_type": "display_data"
    }
   ],
   "source": [
    "import matplotlib\n",
    "# Function to sample from the diffusion model\n",
    "@torch.no_grad()\n",
    "def sample(model, n_samples):\n",
    "    model.eval()\n",
    "    x = torch.randn((n_samples, 1, 28, 28)).to(device)\n",
    "\n",
    "    for t in reversed(range(T)):\n",
    "        t_batch = torch.full((n_samples,), t, device=device, dtype=torch.long)\n",
    "        pred_noise = model(x, t_batch)\n",
    "\n",
    "        alpha_t = alpha[t]\n",
    "        alpha_hat_t = alpha_hat[t]\n",
    "        beta_t = beta[t]\n",
    "\n",
    "        if t > 0:\n",
    "            noise = torch.randn_like(x)\n",
    "        else:\n",
    "            noise = torch.zeros_like(x)\n",
    "\n",
    "        x = (1/torch.sqrt(alpha_t)) * (x - (1 - alpha_t)/torch.sqrt(1 - alpha_hat_t) * pred_noise) + torch.sqrt(beta_t) * noise\n",
    "\n",
    "    x = (x + 1) / 2  # Rescale to [0, 1]\n",
    "    return x\n",
    "\n",
    "# Generate and plot samples\n",
    "samples = sample(model, n_samples=16)\n",
    "\n",
    "fig, axes = plt.subplots(4, 4, figsize=(6,6))\n",
    "for i, ax in enumerate(axes.flatten()):\n",
    "    ax.imshow(samples[i].squeeze().cpu().numpy(), cmap=\"gray\")\n",
    "    ax.axis('off')\n",
    "plt.tight_layout()\n",
    "plt.show()\n"
   ]
  },
  {
   "cell_type": "code",
   "execution_count": null,
   "id": "9a6293f0",
   "metadata": {},
   "outputs": [],
   "source": []
  }
 ],
 "metadata": {
  "kernelspec": {
   "display_name": "Python 3 (ipykernel)",
   "language": "python",
   "name": "python3"
  },
  "language_info": {
   "codemirror_mode": {
    "name": "ipython",
    "version": 3
   },
   "file_extension": ".py",
   "mimetype": "text/x-python",
   "name": "python",
   "nbconvert_exporter": "python",
   "pygments_lexer": "ipython3",
   "version": "3.10.14"
  }
 },
 "nbformat": 4,
 "nbformat_minor": 5
}
